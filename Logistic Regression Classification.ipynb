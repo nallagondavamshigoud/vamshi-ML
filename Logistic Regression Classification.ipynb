{
 "cells": [
  {
   "cell_type": "code",
   "execution_count": 1,
   "metadata": {},
   "outputs": [],
   "source": [
    "import warnings \n",
    "warnings.filterwarnings(\"ignore\")\n"
   ]
  },
  {
   "cell_type": "code",
   "execution_count": 2,
   "metadata": {},
   "outputs": [
    {
     "name": "stderr",
     "output_type": "stream",
     "text": [
      "[NbConvertApp] Converting notebook vamshinallagonda_A5_LR.ipynb to html\n",
      "[NbConvertApp] Writing 546338 bytes to vamshinallagonda_A5_LR.html\n"
     ]
    }
   ],
   "source": [
    "!jupyter nbconvert --to html vamshinallagonda_A5_LR.ipynb"
   ]
  },
  {
   "cell_type": "code",
   "execution_count": 3,
   "metadata": {},
   "outputs": [
    {
     "name": "stderr",
     "output_type": "stream",
     "text": [
      "C:\\Users\\vamshi goud\\Anaconda3\\lib\\site-packages\\sklearn\\cross_validation.py:41: DeprecationWarning: This module was deprecated in version 0.18 in favor of the model_selection module into which all the refactored classes and functions are moved. Also note that the interface of the new CV iterators are different from that of this module. This module will be removed in 0.20.\n",
      "  \"This module will be removed in 0.20.\", DeprecationWarning)\n",
      "C:\\Users\\vamshi goud\\Anaconda3\\lib\\site-packages\\smart_open\\ssh.py:34: UserWarning: paramiko missing, opening SSH/SCP/SFTP paths will be disabled.  `pip install paramiko` to suppress\n",
      "  warnings.warn('paramiko missing, opening SSH/SCP/SFTP paths will be disabled.  `pip install paramiko` to suppress')\n"
     ]
    }
   ],
   "source": [
    "import warnings\n",
    "import pandas as ps\n",
    "import numpy as np\n",
    "import matplotlib.pyplot as plt\n",
    "import seaborn as sn\n",
    "from sklearn import preprocessing\n",
    "import nltk\n",
    "from sklearn.feature_extraction import DictVectorizer\n",
    "from sklearn.feature_extraction.text import CountVectorizer\n",
    "from sklearn.feature_extraction.text import TfidfVectorizer\n",
    "from sklearn.feature_extraction.text import TfidfTransformer\n",
    "from sklearn.metrics import confusion_matrix,roc_auc_score,roc_curve,scorer,auc\n",
    "from sklearn.cross_validation import cross_val_score,cross_val_predict,train_test_split\n",
    "import re,string\n",
    "from nltk.corpus import  stopwords\n",
    "from nltk.stem import PorterStemmer\n",
    "from nltk.stem.wordnet import WordNetLemmatizer\n",
    "from gensim.models import Word2Vec,keyedvectors\n",
    "\n",
    "import pickle\n",
    "from sklearn.preprocessing import Normalizer\n",
    "from tqdm import tqdm\n",
    "import os\n",
    "from vaderSentiment.vaderSentiment import SentimentIntensityAnalyzer"
   ]
  },
  {
   "cell_type": "code",
   "execution_count": 4,
   "metadata": {},
   "outputs": [],
   "source": [
    "data = ps.read_csv('train_data.csv',nrows=20000)\n",
    "data2 = ps.read_csv('resources.csv')"
   ]
  },
  {
   "cell_type": "code",
   "execution_count": 5,
   "metadata": {},
   "outputs": [],
   "source": [
    "from sklearn.preprocessing import Imputer\n",
    "\n",
    "\n",
    " #data2.fillna(data2.mean(), inplace=True)\n",
    "#print(project_data1)"
   ]
  },
  {
   "cell_type": "code",
   "execution_count": 6,
   "metadata": {},
   "outputs": [
    {
     "name": "stdout",
     "output_type": "stream",
     "text": [
      "            id  description  quantity  price\n",
      "0        False        False     False  False\n",
      "1        False        False     False  False\n",
      "2        False        False     False  False\n",
      "3        False        False     False  False\n",
      "4        False        False     False  False\n",
      "5        False        False     False  False\n",
      "6        False        False     False  False\n",
      "7        False        False     False  False\n",
      "8        False        False     False  False\n",
      "9        False        False     False  False\n",
      "10       False        False     False  False\n",
      "11       False        False     False  False\n",
      "12       False        False     False  False\n",
      "13       False        False     False  False\n",
      "14       False        False     False  False\n",
      "15       False        False     False  False\n",
      "16       False        False     False  False\n",
      "17       False        False     False  False\n",
      "18       False        False     False  False\n",
      "19       False        False     False  False\n",
      "20       False        False     False  False\n",
      "21       False        False     False  False\n",
      "22       False        False     False  False\n",
      "23       False        False     False  False\n",
      "24       False        False     False  False\n",
      "25       False        False     False  False\n",
      "26       False        False     False  False\n",
      "27       False        False     False  False\n",
      "28       False        False     False  False\n",
      "29       False        False     False  False\n",
      "...        ...          ...       ...    ...\n",
      "1541242  False        False     False  False\n",
      "1541243  False        False     False  False\n",
      "1541244  False        False     False  False\n",
      "1541245  False        False     False  False\n",
      "1541246  False        False     False  False\n",
      "1541247  False        False     False  False\n",
      "1541248  False        False     False  False\n",
      "1541249  False        False     False  False\n",
      "1541250  False        False     False  False\n",
      "1541251  False        False     False  False\n",
      "1541252  False        False     False  False\n",
      "1541253  False        False     False  False\n",
      "1541254  False        False     False  False\n",
      "1541255  False        False     False  False\n",
      "1541256  False        False     False  False\n",
      "1541257  False        False     False  False\n",
      "1541258  False        False     False  False\n",
      "1541259  False        False     False  False\n",
      "1541260  False        False     False  False\n",
      "1541261  False        False     False  False\n",
      "1541262  False        False     False  False\n",
      "1541263  False        False     False  False\n",
      "1541264  False        False     False  False\n",
      "1541265  False        False     False  False\n",
      "1541266  False        False     False  False\n",
      "1541267  False        False     False  False\n",
      "1541268  False        False     False  False\n",
      "1541269  False        False     False  False\n",
      "1541270  False        False     False  False\n",
      "1541271  False        False     False  False\n",
      "\n",
      "[1541272 rows x 4 columns]\n"
     ]
    }
   ],
   "source": [
    "print(data2.isnull())"
   ]
  },
  {
   "cell_type": "code",
   "execution_count": 7,
   "metadata": {},
   "outputs": [
    {
     "name": "stdout",
     "output_type": "stream",
     "text": [
      "<bound method NDFrame.head of              id    price  quantity\n",
      "0       p000001   459.56         7\n",
      "1       p000002   515.89        21\n",
      "2       p000003   298.97         4\n",
      "3       p000004  1113.69        98\n",
      "4       p000005   485.99         8\n",
      "5       p000006   130.62         5\n",
      "6       p000007   157.98         6\n",
      "7       p000008   296.99        80\n",
      "8       p000009   306.04        45\n",
      "9       p000010    11.08        30\n",
      "10      p000011    12.59        20\n",
      "11      p000012   135.98         2\n",
      "12      p000013  2626.63         4\n",
      "13      p000014   300.78         1\n",
      "14      p000015   399.99         1\n",
      "15      p000016     6.24        60\n",
      "16      p000017    22.99        16\n",
      "17      p000018   474.05         2\n",
      "18      p000019   261.43        12\n",
      "19      p000020   148.39         5\n",
      "20      p000021    87.78         7\n",
      "21      p000022   116.00         1\n",
      "22      p000023   179.99         3\n",
      "23      p000024    94.38         5\n",
      "24      p000025    73.91        20\n",
      "25      p000026   414.06        29\n",
      "26      p000027   782.13        15\n",
      "27      p000028   318.87         4\n",
      "28      p000029   865.95         4\n",
      "29      p000030    99.96        16\n",
      "...         ...      ...       ...\n",
      "260085  p260086   174.39        10\n",
      "260086  p260087   339.95         5\n",
      "260087  p260088   107.16         7\n",
      "260088  p260089    99.17        29\n",
      "260089  p260090   119.46        34\n",
      "260090  p260091   419.85         6\n",
      "260091  p260092    42.95        15\n",
      "260092  p260093   318.58         6\n",
      "260093  p260094   182.68       201\n",
      "260094  p260095   485.32        11\n",
      "260095  p260096   367.96         6\n",
      "260096  p260097   299.97         6\n",
      "260097  p260098  2106.14        12\n",
      "260098  p260099   243.42         4\n",
      "260099  p260100    61.41        12\n",
      "260100  p260101   398.81         8\n",
      "260101  p260102   157.00         2\n",
      "260102  p260103   339.00         1\n",
      "260103  p260104   702.96         2\n",
      "260104  p260105   137.93        22\n",
      "260105  p260106   129.02         1\n",
      "260106  p260107   497.58        12\n",
      "260107  p260108   581.08         8\n",
      "260108  p260109   158.99         2\n",
      "260109  p260110   149.99         3\n",
      "260110  p260111   176.08        27\n",
      "260111  p260112    39.79         6\n",
      "260112  p260113   811.49         3\n",
      "260113  p260114   222.56        39\n",
      "260114  p260115   318.97         2\n",
      "\n",
      "[260115 rows x 3 columns]>\n"
     ]
    }
   ],
   "source": [
    "data3 =data2.groupby('id').agg({'price':'sum','quantity':'sum'}).reset_index()\n",
    "\n",
    "print(data3.head)"
   ]
  },
  {
   "cell_type": "code",
   "execution_count": 8,
   "metadata": {},
   "outputs": [
    {
     "name": "stdout",
     "output_type": "stream",
     "text": [
      "           id  price  quantity\n",
      "0       False  False     False\n",
      "1       False  False     False\n",
      "2       False  False     False\n",
      "3       False  False     False\n",
      "4       False  False     False\n",
      "5       False  False     False\n",
      "6       False  False     False\n",
      "7       False  False     False\n",
      "8       False  False     False\n",
      "9       False  False     False\n",
      "10      False  False     False\n",
      "11      False  False     False\n",
      "12      False  False     False\n",
      "13      False  False     False\n",
      "14      False  False     False\n",
      "15      False  False     False\n",
      "16      False  False     False\n",
      "17      False  False     False\n",
      "18      False  False     False\n",
      "19      False  False     False\n",
      "20      False  False     False\n",
      "21      False  False     False\n",
      "22      False  False     False\n",
      "23      False  False     False\n",
      "24      False  False     False\n",
      "25      False  False     False\n",
      "26      False  False     False\n",
      "27      False  False     False\n",
      "28      False  False     False\n",
      "29      False  False     False\n",
      "...       ...    ...       ...\n",
      "260085  False  False     False\n",
      "260086  False  False     False\n",
      "260087  False  False     False\n",
      "260088  False  False     False\n",
      "260089  False  False     False\n",
      "260090  False  False     False\n",
      "260091  False  False     False\n",
      "260092  False  False     False\n",
      "260093  False  False     False\n",
      "260094  False  False     False\n",
      "260095  False  False     False\n",
      "260096  False  False     False\n",
      "260097  False  False     False\n",
      "260098  False  False     False\n",
      "260099  False  False     False\n",
      "260100  False  False     False\n",
      "260101  False  False     False\n",
      "260102  False  False     False\n",
      "260103  False  False     False\n",
      "260104  False  False     False\n",
      "260105  False  False     False\n",
      "260106  False  False     False\n",
      "260107  False  False     False\n",
      "260108  False  False     False\n",
      "260109  False  False     False\n",
      "260110  False  False     False\n",
      "260111  False  False     False\n",
      "260112  False  False     False\n",
      "260113  False  False     False\n",
      "260114  False  False     False\n",
      "\n",
      "[260115 rows x 3 columns]\n"
     ]
    }
   ],
   "source": [
    "print(data3.isnull())"
   ]
  },
  {
   "cell_type": "code",
   "execution_count": 9,
   "metadata": {},
   "outputs": [
    {
     "name": "stdout",
     "output_type": "stream",
     "text": [
      "   Unnamed: 0       id                        teacher_id teacher_prefix  \\\n",
      "0      160221  p253737  c90749f5d961ff158d4b4d1e7dc665fc           Mrs.   \n",
      "1      140945  p258326  897464ce9ddc600bced1151f324dd63a            Mr.   \n",
      "2       21895  p182444  3465aaf82da834c0582ebd0ef8040ca0            Ms.   \n",
      "3          45  p246581  f3cb9bffbba169bef1a77b243e620b60           Mrs.   \n",
      "4      172407  p104768  be1f7507a41f8479dc06f047086a39ec           Mrs.   \n",
      "5      141660  p154343  a50a390e8327a95b77b9e495b58b9a6e           Mrs.   \n",
      "6       21147  p099819  9b40170bfa65e399981717ee8731efc3           Mrs.   \n",
      "7       94142  p092424  5bfd3d12fae3d2fe88684bbac570c9d2            Ms.   \n",
      "8      112489  p045029  487448f5226005d08d36bdd75f095b31           Mrs.   \n",
      "9      158561  p001713  140eeac1885c820ad5592a409a3a8994            Ms.   \n",
      "\n",
      "  school_state project_submitted_datetime project_grade_category  \\\n",
      "0           IN        2016-12-05 13:43:57          Grades PreK-2   \n",
      "1           FL        2016-10-25 09:22:10             Grades 6-8   \n",
      "2           AZ        2016-08-31 12:03:56             Grades 6-8   \n",
      "3           KY        2016-10-06 21:16:17          Grades PreK-2   \n",
      "4           TX        2016-07-11 01:10:09          Grades PreK-2   \n",
      "5           FL        2017-04-08 22:40:43             Grades 3-5   \n",
      "6           CT        2017-02-17 19:58:56             Grades 6-8   \n",
      "7           GA        2016-09-01 00:02:15             Grades 3-5   \n",
      "8           SC        2016-09-25 17:00:26          Grades PreK-2   \n",
      "9           NC        2016-11-17 18:18:56          Grades PreK-2   \n",
      "\n",
      "            project_subject_categories        project_subject_subcategories  \\\n",
      "0                  Literacy & Language                        ESL, Literacy   \n",
      "1    History & Civics, Health & Sports     Civics & Government, Team Sports   \n",
      "2                      Health & Sports       Health & Wellness, Team Sports   \n",
      "3  Literacy & Language, Math & Science                Literacy, Mathematics   \n",
      "4                       Math & Science                          Mathematics   \n",
      "5   Literacy & Language, Special Needs  Literature & Writing, Special Needs   \n",
      "6   Literacy & Language, Special Needs              Literacy, Special Needs   \n",
      "7                       Math & Science                          Mathematics   \n",
      "8                      Health & Sports                    Health & Wellness   \n",
      "9                  Literacy & Language       Literacy, Literature & Writing   \n",
      "\n",
      "                                       project_title  \\\n",
      "0   Educational Support for English Learners at Home   \n",
      "1              Wanted: Projector for Hungry Learners   \n",
      "2  Soccer Equipment for AWESOME Middle School Stu...   \n",
      "3                             Techie Kindergarteners   \n",
      "4                             Interactive Math Tools   \n",
      "5  Flexible Seating for Mrs. Jarvis' Terrific Thi...   \n",
      "6  Chromebooks for Special Education Reading Program   \n",
      "7                              It's the 21st Century   \n",
      "8                    Targeting More Success in Class   \n",
      "9    Just For the Love of Reading--\\r\\nPure Pleasure   \n",
      "\n",
      "                                     project_essay_1  \\\n",
      "0  My students are English learners that are work...   \n",
      "1  Our students arrive to our school eager to lea...   \n",
      "2  \\r\\n\\\"True champions aren't always the ones th...   \n",
      "3  I work at a unique school filled with both ESL...   \n",
      "4  Our second grade classroom next year will be m...   \n",
      "5  I will be moving from 2nd grade to 3rd grade a...   \n",
      "6  My students are a dynamic and very energetic g...   \n",
      "7  Not only do our students struggle with poverty...   \n",
      "8  My students are enthusiastic and inquisitive l...   \n",
      "9  Over 95% of my students are on free or reduced...   \n",
      "\n",
      "                                     project_essay_2 project_essay_3  \\\n",
      "0  \\\"The limits of your language are the limits o...             NaN   \n",
      "1  The projector we need for our school is very c...             NaN   \n",
      "2  The students on the campus come to school know...             NaN   \n",
      "3  My students live in high poverty conditions wi...             NaN   \n",
      "4  For many students, math is a subject that does...             NaN   \n",
      "5  These flexible seating options will allow my s...             NaN   \n",
      "6  My students are an engaging and active group o...             NaN   \n",
      "7  My students need 4 iPads, the latest technolog...             NaN   \n",
      "8  My second graders need extra activity time dur...             NaN   \n",
      "9  Reading is Fundamental! My students will read ...             NaN   \n",
      "\n",
      "  project_essay_4                           project_resource_summary  \\\n",
      "0             NaN  My students need opportunities to practice beg...   \n",
      "1             NaN  My students need a projector to help with view...   \n",
      "2             NaN  My students need shine guards, athletic socks,...   \n",
      "3             NaN  My students need to engage in Reading and Math...   \n",
      "4             NaN  My students need hands on practice in mathemat...   \n",
      "5             NaN  My students need movement to be successful. Be...   \n",
      "6             NaN  My students need some dependable laptops for d...   \n",
      "7             NaN  My students need ipads to help them access a w...   \n",
      "8             NaN  My students need three devices and three manag...   \n",
      "9             NaN  My students need great books to use during Ind...   \n",
      "\n",
      "   teacher_number_of_previously_posted_projects  project_is_approved   price  \\\n",
      "0                                             0                    0  154.60   \n",
      "1                                             7                    1  299.00   \n",
      "2                                             1                    0  516.85   \n",
      "3                                             4                    1  232.90   \n",
      "4                                             1                    1   67.98   \n",
      "5                                             1                    1  113.22   \n",
      "6                                             1                    1  159.99   \n",
      "7                                             7                    1  229.00   \n",
      "8                                            28                    1  241.98   \n",
      "9                                            36                    1  125.36   \n",
      "\n",
      "   quantity  \n",
      "0        23  \n",
      "1         1  \n",
      "2        22  \n",
      "3         4  \n",
      "4         4  \n",
      "5        11  \n",
      "6         3  \n",
      "7         4  \n",
      "8         6  \n",
      "9        14  \n"
     ]
    }
   ],
   "source": [
    "project_data = ps.merge(data,data3,on='id',how='left')\n",
    "project_data['price'] = project_data['price'].fillna((project_data['price'].mean()))\n",
    "project_data['quantity'] = project_data['quantity'].fillna((project_data['quantity'].mean()))\n",
    "#project_data.fillna(project_data.mean(), inplace=True)\n",
    "print(project_data.head(10))\n",
    "#print(project_data.isnull())\n",
    "#print(project_data['price'])"
   ]
  },
  {
   "cell_type": "code",
   "execution_count": null,
   "metadata": {},
   "outputs": [],
   "source": []
  },
  {
   "cell_type": "code",
   "execution_count": null,
   "metadata": {},
   "outputs": [],
   "source": []
  },
  {
   "cell_type": "code",
   "execution_count": 10,
   "metadata": {},
   "outputs": [
    {
     "name": "stdout",
     "output_type": "stream",
     "text": [
      "   Unnamed: 0       id                        teacher_id teacher_prefix  \\\n",
      "0      160221  p253737  c90749f5d961ff158d4b4d1e7dc665fc           Mrs.   \n",
      "1      140945  p258326  897464ce9ddc600bced1151f324dd63a            Mr.   \n",
      "2       21895  p182444  3465aaf82da834c0582ebd0ef8040ca0            Ms.   \n",
      "3          45  p246581  f3cb9bffbba169bef1a77b243e620b60           Mrs.   \n",
      "4      172407  p104768  be1f7507a41f8479dc06f047086a39ec           Mrs.   \n",
      "\n",
      "  school_state project_submitted_datetime project_grade_category  \\\n",
      "0           IN        2016-12-05 13:43:57          Grades PreK-2   \n",
      "1           FL        2016-10-25 09:22:10             Grades 6-8   \n",
      "2           AZ        2016-08-31 12:03:56             Grades 6-8   \n",
      "3           KY        2016-10-06 21:16:17          Grades PreK-2   \n",
      "4           TX        2016-07-11 01:10:09          Grades PreK-2   \n",
      "\n",
      "            project_subject_categories     project_subject_subcategories  \\\n",
      "0                  Literacy & Language                     ESL, Literacy   \n",
      "1    History & Civics, Health & Sports  Civics & Government, Team Sports   \n",
      "2                      Health & Sports    Health & Wellness, Team Sports   \n",
      "3  Literacy & Language, Math & Science             Literacy, Mathematics   \n",
      "4                       Math & Science                       Mathematics   \n",
      "\n",
      "                                       project_title  \\\n",
      "0   Educational Support for English Learners at Home   \n",
      "1              Wanted: Projector for Hungry Learners   \n",
      "2  Soccer Equipment for AWESOME Middle School Stu...   \n",
      "3                             Techie Kindergarteners   \n",
      "4                             Interactive Math Tools   \n",
      "\n",
      "                                     project_essay_1  \\\n",
      "0  My students are English learners that are work...   \n",
      "1  Our students arrive to our school eager to lea...   \n",
      "2  \\r\\n\\\"True champions aren't always the ones th...   \n",
      "3  I work at a unique school filled with both ESL...   \n",
      "4  Our second grade classroom next year will be m...   \n",
      "\n",
      "                                     project_essay_2 project_essay_3  \\\n",
      "0  \\\"The limits of your language are the limits o...             NaN   \n",
      "1  The projector we need for our school is very c...             NaN   \n",
      "2  The students on the campus come to school know...             NaN   \n",
      "3  My students live in high poverty conditions wi...             NaN   \n",
      "4  For many students, math is a subject that does...             NaN   \n",
      "\n",
      "  project_essay_4                           project_resource_summary  \\\n",
      "0             NaN  My students need opportunities to practice beg...   \n",
      "1             NaN  My students need a projector to help with view...   \n",
      "2             NaN  My students need shine guards, athletic socks,...   \n",
      "3             NaN  My students need to engage in Reading and Math...   \n",
      "4             NaN  My students need hands on practice in mathemat...   \n",
      "\n",
      "   teacher_number_of_previously_posted_projects   price  quantity  \n",
      "0                                             0  154.60        23  \n",
      "1                                             7  299.00         1  \n",
      "2                                             1  516.85        22  \n",
      "3                                             4  232.90         4  \n",
      "4                                             1   67.98         4  \n"
     ]
    }
   ],
   "source": [
    "\n",
    "y = np.array(project_data['project_is_approved'])\n",
    "x = project_data.drop('project_is_approved',axis=1)\n",
    "\n",
    "xTrain,xTest,yTrain,yTest = train_test_split(x,y, test_size = 0.2, random_state = 0)\n",
    "xTrain_c,x_CV,yTrain_c,y_CV   = train_test_split(xTrain,yTrain, test_size = 0.2, random_state =0)\n",
    "print(x.head(5))"
   ]
  },
  {
   "cell_type": "code",
   "execution_count": 11,
   "metadata": {},
   "outputs": [],
   "source": [
    "#text preprocessing of training 'essay' data\n",
    "\n",
    "xTrain[\"essay\"] = xTrain[\"project_essay_1\"].map(str) +\\\n",
    "                  xTrain[\"project_essay_2\"].map(str) + \\\n",
    "                  xTrain[\"project_essay_3\"].map(str) + \\\n",
    "                  xTrain[\"project_essay_4\"].map(str)\n"
   ]
  },
  {
   "cell_type": "code",
   "execution_count": 12,
   "metadata": {},
   "outputs": [],
   "source": [
    "def decontracted(phrase):\n",
    "    # specific\n",
    "    phrase = re.sub(r\"won't\", \"will not\", phrase)\n",
    "    phrase = re.sub(r\"can\\'t\", \"can not\", phrase)\n",
    "\n",
    "    # general\n",
    "    phrase = re.sub(r\"n\\'t\", \" not\", phrase)\n",
    "    phrase = re.sub(r\"\\'re\", \" are\", phrase)\n",
    "    phrase = re.sub(r\"\\'s\", \" is\", phrase)\n",
    "    phrase = re.sub(r\"\\'d\", \" would\", phrase)\n",
    "    phrase = re.sub(r\"\\'ll\", \" will\", phrase)\n",
    "    phrase = re.sub(r\"\\'t\", \" not\", phrase)\n",
    "    phrase = re.sub(r\"\\'ve\", \" have\", phrase)\n",
    "    phrase = re.sub(r\"\\'m\", \" am\", phrase)\n",
    "    return phrase\n",
    "sent = decontracted(xTrain['essay'].values[10000])"
   ]
  },
  {
   "cell_type": "code",
   "execution_count": 13,
   "metadata": {},
   "outputs": [],
   "source": [
    "sent = sent.replace('\\\\r', ' ')\n",
    "sent = sent.replace('\\\\\"', ' ')\n",
    "sent = sent.replace('\\\\n', ' ')\n",
    "sent = re.sub('[^A-Za-z0-9]+', ' ', sent)\n",
    "stopwords= set(stopwords.words('english'))"
   ]
  },
  {
   "cell_type": "code",
   "execution_count": 14,
   "metadata": {},
   "outputs": [
    {
     "name": "stderr",
     "output_type": "stream",
     "text": [
      "100%|██████████████████████████████████████████████████████████████████████████| 16000/16000 [00:15<00:00, 1032.96it/s]\n"
     ]
    }
   ],
   "source": [
    "from tqdm import tqdm\n",
    "preprocessed_essays_x = []\n",
    "# tqdm is for printing the status bar\n",
    "for sentance in tqdm(xTrain['essay'].values):\n",
    "    sent = decontracted(sentance)\n",
    "    sent = sent.replace('\\\\r', ' ')\n",
    "    sent = sent.replace('\\\\\"', ' ')\n",
    "    sent = sent.replace('\\\\n', ' ')\n",
    "    sent = re.sub('[^A-Za-z0-9]+', ' ', sent)\n",
    "    # https://gist.github.com/sebleier/554280\n",
    "    sent = ' '.join(e for e in sent.split() if e not in stopwords)\n",
    "    preprocessed_essays_x.append(sent.lower().strip())"
   ]
  },
  {
   "cell_type": "code",
   "execution_count": 15,
   "metadata": {},
   "outputs": [
    {
     "name": "stdout",
     "output_type": "stream",
     "text": [
      "16000\n"
     ]
    }
   ],
   "source": [
    "print(len(preprocessed_essays_x))"
   ]
  },
  {
   "cell_type": "code",
   "execution_count": 16,
   "metadata": {},
   "outputs": [],
   "source": [
    "xTrain_c[\"essay\"] = xTrain_c[\"project_essay_1\"].map(str) +\\\n",
    "                        xTrain_c[\"project_essay_2\"].map(str) + \\\n",
    "                       xTrain_c [\"project_essay_3\"].map(str) + \\\n",
    "                       xTrain_c[\"project_essay_4\"].map(str)\n"
   ]
  },
  {
   "cell_type": "code",
   "execution_count": 17,
   "metadata": {},
   "outputs": [],
   "source": [
    "def decontracted(phrase):\n",
    "    # specific\n",
    "    phrase = re.sub(r\"won't\", \"will not\", phrase)\n",
    "    phrase = re.sub(r\"can\\'t\", \"can not\", phrase)\n",
    "\n",
    "    # general\n",
    "    phrase = re.sub(r\"n\\'t\", \" not\", phrase)\n",
    "    phrase = re.sub(r\"\\'re\", \" are\", phrase)\n",
    "    phrase = re.sub(r\"\\'s\", \" is\", phrase)\n",
    "    phrase = re.sub(r\"\\'d\", \" would\", phrase)\n",
    "    phrase = re.sub(r\"\\'ll\", \" will\", phrase)\n",
    "    phrase = re.sub(r\"\\'t\", \" not\", phrase)\n",
    "    phrase = re.sub(r\"\\'ve\", \" have\", phrase)\n",
    "    phrase = re.sub(r\"\\'m\", \" am\", phrase)\n",
    "    return phrase\n",
    "sent = decontracted(xTrain_c['essay'].values[8000])"
   ]
  },
  {
   "cell_type": "code",
   "execution_count": 18,
   "metadata": {},
   "outputs": [
    {
     "name": "stderr",
     "output_type": "stream",
     "text": [
      "100%|██████████████████████████████████████████████████████████████████████████| 12800/12800 [00:12<00:00, 1038.60it/s]\n"
     ]
    }
   ],
   "source": [
    "from tqdm import tqdm\n",
    "preprocessed_essays_xc = []\n",
    "# tqdm is for printing the status bar\n",
    "for sentance in tqdm(xTrain_c['essay'].values):\n",
    "    sent = decontracted(sentance)\n",
    "    sent = sent.replace('\\\\r', ' ')\n",
    "    sent = sent.replace('\\\\\"', ' ')\n",
    "    sent = sent.replace('\\\\n', ' ')\n",
    "    sent = re.sub('[^A-Za-z0-9]+', ' ', sent)\n",
    "    # https://gist.github.com/sebleier/554280\n",
    "    sent = ' '.join(e for e in sent.split() if e not in stopwords)\n",
    "    preprocessed_essays_xc.append(sent.lower().strip())"
   ]
  },
  {
   "cell_type": "code",
   "execution_count": 19,
   "metadata": {},
   "outputs": [],
   "source": [
    "def decontracted(phrase):\n",
    "    # specific\n",
    "    phrase = re.sub(r\"won't\", \"will not\", phrase)\n",
    "    phrase = re.sub(r\"can\\'t\", \"can not\", phrase)\n",
    "\n",
    "    # general\n",
    "    phrase = re.sub(r\"n\\'t\", \" not\", phrase)\n",
    "    phrase = re.sub(r\"\\'re\", \" are\", phrase)\n",
    "    phrase = re.sub(r\"\\'s\", \" is\", phrase)\n",
    "    phrase = re.sub(r\"\\'d\", \" would\", phrase)\n",
    "    phrase = re.sub(r\"\\'ll\", \" will\", phrase)\n",
    "    phrase = re.sub(r\"\\'t\", \" not\", phrase)\n",
    "    phrase = re.sub(r\"\\'ve\", \" have\", phrase)\n",
    "    phrase = re.sub(r\"\\'m\", \" am\", phrase)\n",
    "    return phrase\n",
    "sent = decontracted(xTrain['project_title'].values[10000])"
   ]
  },
  {
   "cell_type": "code",
   "execution_count": 20,
   "metadata": {},
   "outputs": [
    {
     "name": "stderr",
     "output_type": "stream",
     "text": [
      "100%|█████████████████████████████████████████████████████████████████████████| 16000/16000 [00:00<00:00, 22020.41it/s]\n"
     ]
    }
   ],
   "source": [
    "sent = sent.replace('\\\\r', ' ')\n",
    "sent = sent.replace('\\\\\"', ' ')\n",
    "sent = sent.replace('\\\\n', ' ')\n",
    "sent = re.sub('[^A-Za-z0-9]+', ' ', sent)\n",
    "from tqdm import tqdm\n",
    "preprocessed_title_xT = []\n",
    "# tqdm is for printing the status bar\n",
    "for sentance in tqdm(xTrain['project_title'].values):\n",
    "    sent = decontracted(sentance)\n",
    "    sent = sent.replace('\\\\r', ' ')\n",
    "    sen = sent.replace('\\\\\"', ' ')\n",
    "    sent = sent.replace('\\\\n', ' ')\n",
    "    sent = re.sub('[^A-Za-z0-9]+', ' ', sent)\n",
    "    # https://gist.github.com/sebleier/554280\n",
    "    sent = ' '.join(e for e in sent.split() if e not in stopwords)\n",
    "    preprocessed_title_xT.append(sent.lower().strip())"
   ]
  },
  {
   "cell_type": "code",
   "execution_count": 21,
   "metadata": {},
   "outputs": [],
   "source": [
    "def decontracted(phrase):\n",
    "    # specific\n",
    "    phrase = re.sub(r\"won't\", \"will not\", phrase)\n",
    "    phrase = re.sub(r\"can\\'t\", \"can not\", phrase)\n",
    "\n",
    "    # general\n",
    "    phrase = re.sub(r\"n\\'t\", \" not\", phrase)\n",
    "    phrase = re.sub(r\"\\'re\", \" are\", phrase)\n",
    "    phrase = re.sub(r\"\\'s\", \" is\", phrase)\n",
    "    phrase = re.sub(r\"\\'d\", \" would\", phrase)\n",
    "    phrase = re.sub(r\"\\'ll\", \" will\", phrase)\n",
    "    phrase = re.sub(r\"\\'t\", \" not\", phrase)\n",
    "    phrase = re.sub(r\"\\'ve\", \" have\", phrase)\n",
    "    phrase = re.sub(r\"\\'m\", \" am\", phrase)\n",
    "    return phrase\n",
    "sent = decontracted(xTrain_c['project_title'].values[2000])"
   ]
  },
  {
   "cell_type": "code",
   "execution_count": 22,
   "metadata": {},
   "outputs": [
    {
     "name": "stderr",
     "output_type": "stream",
     "text": [
      "100%|█████████████████████████████████████████████████████████████████████████| 12800/12800 [00:00<00:00, 21929.84it/s]\n"
     ]
    }
   ],
   "source": [
    "sent = sent.replace('\\\\r', ' ')\n",
    "sent = sent.replace('\\\\\"', ' ')\n",
    "sent = sent.replace('\\\\n', ' ')\n",
    "sent = re.sub('[^A-Za-z0-9]+', ' ', sent)\n",
    "from tqdm import tqdm\n",
    "preprocessed_title_xC = []\n",
    "# tqdm is for printing the status bar\n",
    "for sentance in tqdm(xTrain_c['project_title'].values):\n",
    "    sent = decontracted(sentance)\n",
    "    sent = sent.replace('\\\\r', ' ')\n",
    "    sen = sent.replace('\\\\\"', ' ')\n",
    "    sent = sent.replace('\\\\n', ' ')\n",
    "    sent = re.sub('[^A-Za-z0-9]+', ' ', sent)\n",
    "    # https://gist.github.com/sebleier/554280\n",
    "    sent = ' '.join(e for e in sent.split() if e not in stopwords)\n",
    "    preprocessed_title_xC.append(sent.lower().strip())"
   ]
  },
  {
   "cell_type": "code",
   "execution_count": 23,
   "metadata": {},
   "outputs": [],
   "source": [
    "#preprocessing of test data\n",
    "xTest[\"essay\"] = xTest[\"project_essay_1\"].map(str) +\\\n",
    "                        xTest[\"project_essay_2\"].map(str) + \\\n",
    "                        xTest[\"project_essay_3\"].map(str) + \\\n",
    "                        xTest[\"project_essay_4\"].map(str)\n"
   ]
  },
  {
   "cell_type": "code",
   "execution_count": 24,
   "metadata": {},
   "outputs": [],
   "source": [
    "def decontracted(phrase):\n",
    "    # specific\n",
    "    phrase = re.sub(r\"won't\", \"will not\", phrase)\n",
    "    phrase = re.sub(r\"can\\'t\", \"can not\", phrase)\n",
    "\n",
    "    # general\n",
    "    phrase = re.sub(r\"n\\'t\", \" not\", phrase)\n",
    "    phrase = re.sub(r\"\\'re\", \" are\", phrase)\n",
    "    phrase = re.sub(r\"\\'s\", \" is\", phrase)\n",
    "    phrase = re.sub(r\"\\'d\", \" would\", phrase)\n",
    "    phrase = re.sub(r\"\\'ll\", \" will\", phrase)\n",
    "    phrase = re.sub(r\"\\'t\", \" not\", phrase)\n",
    "    phrase = re.sub(r\"\\'ve\", \" have\", phrase)\n",
    "    phrase = re.sub(r\"\\'m\", \" am\", phrase)\n",
    "    return phrase\n",
    "sent = decontracted(xTest['essay'].values[2000])"
   ]
  },
  {
   "cell_type": "code",
   "execution_count": 25,
   "metadata": {},
   "outputs": [
    {
     "name": "stderr",
     "output_type": "stream",
     "text": [
      "100%|████████████████████████████████████████████████████████████████████████████| 4000/4000 [00:03<00:00, 1025.92it/s]\n"
     ]
    }
   ],
   "source": [
    "from tqdm import tqdm\n",
    "preprocessed_essays_xTest = []\n",
    "# tqdm is for printing the status bar\n",
    "for sentance in tqdm(xTest['essay'].values):\n",
    "    sent = decontracted(sentance)\n",
    "    sent = sent.replace('\\\\r', ' ')\n",
    "    sent = sent.replace('\\\\\"', ' ')\n",
    "    sent = sent.replace('\\\\n', ' ')\n",
    "    sent = re.sub('[^A-Za-z0-9]+', ' ', sent)\n",
    "    # https://gist.github.com/sebleier/554280\n",
    "    sent = ' '.join(e for e in sent.split() if e not in stopwords)\n",
    "    preprocessed_essays_xTest.append(sent.lower().strip())"
   ]
  },
  {
   "cell_type": "code",
   "execution_count": 26,
   "metadata": {},
   "outputs": [],
   "source": [
    "x_CV[\"essay\"] = x_CV[\"project_essay_1\"].map(str) +\\\n",
    "                        x_CV[\"project_essay_2\"].map(str) + \\\n",
    "                       x_CV[\"project_essay_3\"].map(str) + \\\n",
    "                        x_CV[\"project_essay_4\"].map(str)"
   ]
  },
  {
   "cell_type": "code",
   "execution_count": 27,
   "metadata": {},
   "outputs": [],
   "source": [
    "def decontracted(phrase):\n",
    "    # specific\n",
    "    phrase = re.sub(r\"won't\", \"will not\", phrase)\n",
    "    phrase = re.sub(r\"can\\'t\", \"can not\", phrase)\n",
    "\n",
    "    # general\n",
    "    phrase = re.sub(r\"n\\'t\", \" not\", phrase)\n",
    "    phrase = re.sub(r\"\\'re\", \" are\", phrase)\n",
    "    phrase = re.sub(r\"\\'s\", \" is\", phrase)\n",
    "    phrase = re.sub(r\"\\'d\", \" would\", phrase)\n",
    "    phrase = re.sub(r\"\\'ll\", \" will\", phrase)\n",
    "    phrase = re.sub(r\"\\'t\", \" not\", phrase)\n",
    "    phrase = re.sub(r\"\\'ve\", \" have\", phrase)\n",
    "    phrase = re.sub(r\"\\'m\", \" am\", phrase)\n",
    "    return phrase\n",
    "sent = decontracted(x_CV['essay'].values[2000])"
   ]
  },
  {
   "cell_type": "code",
   "execution_count": 28,
   "metadata": {},
   "outputs": [
    {
     "name": "stderr",
     "output_type": "stream",
     "text": [
      "100%|████████████████████████████████████████████████████████████████████████████| 3200/3200 [00:03<00:00, 1029.73it/s]\n"
     ]
    }
   ],
   "source": [
    "from tqdm import tqdm\n",
    "preprocessed_essays_xcvT = []\n",
    "# tqdm is for printing the status bar\n",
    "for sentance in tqdm(x_CV['essay'].values):\n",
    "    sent = decontracted(sentance)\n",
    "    sent = sent.replace('\\\\r', ' ')\n",
    "    sent = sent.replace('\\\\\"', ' ')\n",
    "    sent = sent.replace('\\\\n', ' ')\n",
    "    sent = re.sub('[^A-Za-z0-9]+', ' ', sent)\n",
    "    # https://gist.github.com/sebleier/554280\n",
    "    sent = ' '.join(e for e in sent.split() if e not in stopwords)\n",
    "    preprocessed_essays_xcvT.append(sent.lower().strip())"
   ]
  },
  {
   "cell_type": "code",
   "execution_count": 29,
   "metadata": {},
   "outputs": [],
   "source": [
    "import re\n",
    "def decontracted(phrase):\n",
    "    # specific\n",
    "    phrase = re.sub(r\"won't\", \"will not\", phrase)\n",
    "    phrase = re.sub(r\"can\\'t\", \"can not\", phrase)\n",
    "\n",
    "    # general\n",
    "    phrase = re.sub(r\"n\\'t\", \" not\", phrase)\n",
    "    phrase = re.sub(r\"\\'re\", \" are\", phrase)\n",
    "    phrase = re.sub(r\"\\'s\", \" is\", phrase)\n",
    "    phrase = re.sub(r\"\\'d\", \" would\", phrase)\n",
    "    phrase = re.sub(r\"\\'ll\", \" will\", phrase)\n",
    "    phrase = re.sub(r\"\\'t\", \" not\", phrase)\n",
    "    phrase = re.sub(r\"\\'ve\", \" have\", phrase)\n",
    "    phrase = re.sub(r\"\\'m\", \" am\", phrase)\n",
    "    return phrase\n",
    "sent = decontracted(xTest['project_title'].values[1000])"
   ]
  },
  {
   "cell_type": "code",
   "execution_count": 30,
   "metadata": {},
   "outputs": [],
   "source": [
    "import re\n",
    "def decontracted(phrase):\n",
    "    # specific\n",
    "    phrase = re.sub(r\"won't\", \"will not\", phrase)\n",
    "    phrase = re.sub(r\"can\\'t\", \"can not\", phrase)\n",
    "\n",
    "    # general\n",
    "    phrase = re.sub(r\"n\\'t\", \" not\", phrase)\n",
    "    phrase = re.sub(r\"\\'re\", \" are\", phrase)\n",
    "    phrase = re.sub(r\"\\'s\", \" is\", phrase)\n",
    "    phrase = re.sub(r\"\\'d\", \" would\", phrase)\n",
    "    phrase = re.sub(r\"\\'ll\", \" will\", phrase)\n",
    "    phrase = re.sub(r\"\\'t\", \" not\", phrase)\n",
    "    phrase = re.sub(r\"\\'ve\", \" have\", phrase)\n",
    "    phrase = re.sub(r\"\\'m\", \" am\", phrase)\n",
    "    return phrase\n",
    "sent = decontracted(xTrain_c['project_title'].values[5000])"
   ]
  },
  {
   "cell_type": "code",
   "execution_count": 31,
   "metadata": {},
   "outputs": [
    {
     "name": "stderr",
     "output_type": "stream",
     "text": [
      "100%|███████████████████████████████████████████████████████████████████████████| 4000/4000 [00:00<00:00, 18968.28it/s]\n"
     ]
    }
   ],
   "source": [
    "sent = sent.replace('\\\\r', ' ')\n",
    "sent = sent.replace('\\\\\"', ' ')\n",
    "sent = sent.replace('\\\\n', ' ')\n",
    "sent = re.sub('[^A-Za-z0-9]+', ' ', sent)\n",
    "from tqdm import tqdm\n",
    "preprocessed_title_xt = []\n",
    "# tqdm is for printing the status bar\n",
    "for sentance in tqdm(xTest['project_title'].values):\n",
    "    sent = decontracted(sentance)\n",
    "    sent = sent.replace('\\\\r', ' ')\n",
    "    sent = sent.replace('\\\\\"', ' ')\n",
    "    sent = sent.replace('\\\\n', ' ')\n",
    "    sent = re.sub('[^A-Za-z0-9]+', ' ', sent)\n",
    "    # https://gist.github.com/sebleier/554280\n",
    "    sent1 = ' '.join(e for e in sent.split() if e not in stopwords)\n",
    "    preprocessed_title_xt.append(sent1.lower().strip())\n",
    "    "
   ]
  },
  {
   "cell_type": "code",
   "execution_count": 32,
   "metadata": {},
   "outputs": [
    {
     "name": "stdout",
     "output_type": "stream",
     "text": [
      "4000\n"
     ]
    }
   ],
   "source": [
    "print (len(preprocessed_title_xt))"
   ]
  },
  {
   "cell_type": "code",
   "execution_count": 33,
   "metadata": {},
   "outputs": [
    {
     "name": "stderr",
     "output_type": "stream",
     "text": [
      "100%|█████████████████████████████████████████████████████████████████████████| 12800/12800 [00:00<00:00, 20615.42it/s]\n"
     ]
    }
   ],
   "source": [
    "sent = sent.replace('\\\\r', ' ')\n",
    "sent = sent.replace('\\\\\"', ' ')\n",
    "sent = sent.replace('\\\\n', ' ')\n",
    "sent = re.sub('[^A-Za-z0-9]+', ' ', sent)\n",
    "from tqdm import tqdm\n",
    "preprocessed_title_xt_c = []\n",
    "# tqdm is for printing the status bar\n",
    "for sentance in tqdm(xTrain_c['project_title'].values):\n",
    "    sent = decontracted(sentance)\n",
    "    sent = sent.replace('\\\\r', ' ')\n",
    "    sent = sent.replace('\\\\\"', ' ')\n",
    "    sent = sent.replace('\\\\n', ' ')\n",
    "    sent = re.sub('[^A-Za-z0-9]+', ' ', sent)\n",
    "    # https://gist.github.com/sebleier/554280\n",
    "    sent1 = ' '.join(e for e in sent.split() if e not in stopwords)\n",
    "    preprocessed_title_xt_c.append(sent1.lower().strip())"
   ]
  },
  {
   "cell_type": "code",
   "execution_count": 34,
   "metadata": {},
   "outputs": [],
   "source": [
    "import re\n",
    "def decontracted(phrase):\n",
    "    # specific\n",
    "    phrase = re.sub(r\"won't\", \"will not\", phrase)\n",
    "    phrase = re.sub(r\"can\\'t\", \"can not\", phrase)\n",
    "\n",
    "    # general\n",
    "    phrase = re.sub(r\"n\\'t\", \" not\", phrase)\n",
    "    phrase = re.sub(r\"\\'re\", \" are\", phrase)\n",
    "    phrase = re.sub(r\"\\'s\", \" is\", phrase)\n",
    "    phrase = re.sub(r\"\\'d\", \" would\", phrase)\n",
    "    phrase = re.sub(r\"\\'ll\", \" will\", phrase)\n",
    "    phrase = re.sub(r\"\\'t\", \" not\", phrase)\n",
    "    phrase = re.sub(r\"\\'ve\", \" have\", phrase)\n",
    "    phrase = re.sub(r\"\\'m\", \" am\", phrase)\n",
    "    return phrase\n",
    "sent = decontracted(xTest['project_title'].values[1999])"
   ]
  },
  {
   "cell_type": "code",
   "execution_count": 35,
   "metadata": {},
   "outputs": [
    {
     "name": "stderr",
     "output_type": "stream",
     "text": [
      "100%|███████████████████████████████████████████████████████████████████████████| 3200/3200 [00:00<00:00, 17217.16it/s]\n"
     ]
    }
   ],
   "source": [
    "sent = sent.replace('\\\\r', ' ')\n",
    "sent = sent.replace('\\\\\"', ' ')\n",
    "sent = sent.replace('\\\\n', ' ')\n",
    "sent = re.sub('[^A-Za-z0-9]+', ' ', sent)\n",
    "from tqdm import tqdm\n",
    "preprocessed_title_cvt = []\n",
    "# tqdm is for printing the status bar\n",
    "for sentance in tqdm(x_CV['project_title'].values):\n",
    "    sent = decontracted(sentance)\n",
    "    sent = sent.replace('\\\\r', ' ')\n",
    "    sent = sent.replace('\\\\\"', ' ')\n",
    "    sent = sent.replace('\\\\n', ' ')\n",
    "    sent = re.sub('[^A-Za-z0-9]+', ' ', sent1)\n",
    "    # https://gist.github.com/sebleier/554280\n",
    "    sent1_t = ' '.join(e for e in sent.split() if e not in stopwords)\n",
    "    preprocessed_title_cvt.append(sent1.lower().strip())"
   ]
  },
  {
   "cell_type": "code",
   "execution_count": 36,
   "metadata": {},
   "outputs": [],
   "source": [
    "import re\n",
    "def decontracted(phrase):\n",
    "    # specific\n",
    "    phrase = re.sub(r\"won't\", \"will not\", phrase)\n",
    "    phrase = re.sub(r\"can\\'t\", \"can not\", phrase)\n",
    "\n",
    "    # general\n",
    "    phrase = re.sub(r\"n\\'t\", \" not\", phrase)\n",
    "    phrase = re.sub(r\"\\'re\", \" are\", phrase)\n",
    "    phrase = re.sub(r\"\\'s\", \" is\", phrase)\n",
    "    phrase = re.sub(r\"\\'d\", \" would\", phrase)\n",
    "    phrase = re.sub(r\"\\'ll\", \" will\", phrase)\n",
    "    phrase = re.sub(r\"\\'t\", \" not\", phrase)\n",
    "    phrase = re.sub(r\"\\'ve\", \" have\", phrase)\n",
    "    phrase = re.sub(r\"\\'m\", \" am\", phrase)\n",
    "    return phrase\n",
    "sent = decontracted(x_CV['project_title'].values[1000])"
   ]
  },
  {
   "cell_type": "code",
   "execution_count": 37,
   "metadata": {},
   "outputs": [
    {
     "name": "stdout",
     "output_type": "stream",
     "text": [
      "{'Arts,': 34, 'Needs,': 57, 'Warmth,': 264, 'Care': 264, 'Hunger': 264, 'Civics,': 428, 'Sports,': 516, 'Civics': 629, 'History': 1057, 'Learning': 1070, 'Learning,': 1201, 'Science,': 1480, 'Arts': 1793, 'Music': 1827, 'The': 1827, 'Sports': 2104, 'Applied': 2271, 'Needs': 2447, 'Special': 2504, 'Health': 2620, 'Language,': 4005, 'Language': 5639, 'Science': 6054, 'Math': 7534, 'Literacy': 9644, '&': 22946}\n"
     ]
    }
   ],
   "source": [
    "categories = list(x['project_subject_categories'].values)\n",
    "# remove special characters from list of strings python:\n",
    "#https://stackoverflow.com/a/47301924/4084039\n",
    "# https://www.geeksforgeeks.org/removing-stop-words-nltk-python/\n",
    "# https://stackoverflow.com/questions/23669024/how-to-strip-a-specific-word-from-a-string\n",
    "# https://stackoverflow.com/questions/8270092/remove-all-whitespace-in-a-string-in-python\n",
    "cat_list = []\n",
    "for i in categories:\n",
    "    temp = \"\"\n",
    "# consider we have text like this \"Math & Science, Warmth, Care & Hunger\"\n",
    "for j in i.split(','): # it will split it in three parts [\"Math & Science\", \"Warmth\", \"Care & H\n",
    "\n",
    "    if 'The' in j.split(): # this will split each of the catogory based on space \"Math & Scienc\n",
    "        j=j.replace('The','') # if we have the words \"The\" we are going to replace it with ''(i\n",
    "        j = j.replace(' ','') # we are placeing all the ' '(space) with ''(empty) ex:\"Math &\n",
    "    temp+=j.strip()+\" \" #\" abc \".strip() will return \"abc\", remove the trailing spaces\n",
    "    temp = temp.replace('&','_') # we are replacing the & value into\n",
    "    cat_list.append(temp.strip())\n",
    "   # print(cat_list.)\n",
    "    #print(x.le)\n",
    "#xTrain.apply(lambda col: col.drop_duplicates().reset_index(drop=True))\n",
    "#xTrain('project_subject_categories') = cat_list\n",
    "   # x['clean_categories'] = cat_list\n",
    "    #project_data.drop(['project_subject_categories'], axis=1, inplace=True)\n",
    "from collections import Counter\n",
    "my_counter = Counter()\n",
    "for word in x['project_subject_categories'].values:\n",
    "    my_counter.update(word.split())\n",
    "cat_dict = dict(my_counter)\n",
    "sorted_cat_dict = dict(sorted(cat_dict.items(), key=lambda kv: kv[1]))\n",
    "print(sorted_cat_dict)"
   ]
  },
  {
   "cell_type": "code",
   "execution_count": 38,
   "metadata": {},
   "outputs": [],
   "source": [
    "sub_categories = list(project_data['project_subject_subcategories'].values)\n",
    "# remove special characters from list of strings python:\n",
    "#https://stackoverflow.com/a/47301924/4084039\n",
    "# https://www.geeksforgeeks.org/removing-stop-words-nltk-python/\n",
    "# https://stackoverflow.com/questions/23669024/how-to-strip-a-specific-word-from-a-string\n",
    "# https://stackoverflow.com/questions/8270092/remove-all-whitespace-in-a-string-in-python\n",
    "sub_cat_list = []\n",
    "for i in sub_categories:\n",
    "   \n",
    "\n",
    "    temp = \"\"\n",
    "# consider we have text like this \"Math & Science, Warmth, Care & Hunger\"\n",
    "for j in i.split(','): # it will split it in three parts [\"Math & Science\", \"Warmth\", \"Care & H\n",
    "    if 'The' in j.split(): # this will split each of the catogory based on space \"Math & Scienc\n",
    "        j=j.replace('The','') # if we have the words \"The\" we are going to replace it with ''(\n",
    "    j = j.replace(' ','') # we are placeing all the ' '(space) with ''(empty) ex:\"Math &\n",
    "    temp +=j.strip()+\" \"#\" abc \".strip() will return \"abc\", remove the trailing spaces\n",
    "    temp = temp.replace('&','_')\n",
    "    sub_cat_list.append(temp.strip())\n",
    "#project_data['clean_subcategories'] = sub_cat_list\n",
    "#project_data.drop(['project_subject_subcategories'], axis=1, inplace=True)\n",
    "# count of all the words in corpus python: https://stackoverflow.com/a/22898595/4084039\n",
    "my_counter = Counter()\n",
    "for word in project_data['project_subject_subcategories'].values:\n",
    "    my_counter.update(word.split())\n",
    "sub_cat_dict = dict(my_counter)\n",
    "sorted_sub_cat_dict = dict(sorted(sub_cat_dict.items(), key=lambda kv: kv[1]))"
   ]
  },
  {
   "cell_type": "code",
   "execution_count": 39,
   "metadata": {},
   "outputs": [],
   "source": [
    "def sentimet_analyser_scores(sentence):\n",
    "    scores = analyser.polarity_scores(sentance)\n",
    "    print('{:-<10}{}'.format(sentence,str(scores)))    \n"
   ]
  },
  {
   "cell_type": "code",
   "execution_count": 40,
   "metadata": {},
   "outputs": [
    {
     "name": "stdout",
     "output_type": "stream",
     "text": [
      "(4000, 5000)\n"
     ]
    }
   ],
   "source": [
    "#vectorizing the text data\n",
    "vectorizer = CountVectorizer(min_df=10,ngram_range=(1,2), max_features=5000)\n",
    "xtrain_bow_essay = vectorizer.fit(preprocessed_essays_x)\n",
    "xtrain_bow_essay = vectorizer.transform(preprocessed_essays_x)\n",
    "#xTrain_bow_essay_c = vectorizer.fit(preprocessed_essays_xc)\n",
    "xtrain_bow_essay_c = vectorizer.transform(preprocessed_essays_xc)\n",
    "xtest_bow_esssay = vectorizer.transform(preprocessed_essays_xTest)\n",
    "xtest_bow_esssay_cv = vectorizer.transform(preprocessed_essays_xcvT)\n",
    "\n",
    "print(xtest_bow_esssay.shape)"
   ]
  },
  {
   "cell_type": "code",
   "execution_count": 41,
   "metadata": {},
   "outputs": [],
   "source": [
    "vectorizer = CountVectorizer()\n",
    "xtrain_bow_title = vectorizer.fit(preprocessed_title_xT)\n",
    "xtrain_bow_title =vectorizer.transform(preprocessed_title_xT)\n",
    "xtrain_bow_title_c = vectorizer.transform(preprocessed_title_xt_c)\n",
    "xtest_bow_title =vectorizer.transform(preprocessed_title_xt)\n",
    "xtest_bow_title_cv = vectorizer.transform(preprocessed_title_cvt)"
   ]
  },
  {
   "cell_type": "code",
   "execution_count": 42,
   "metadata": {},
   "outputs": [],
   "source": [
    "vectorizer_tfid = TfidfVectorizer(min_df=10,ngram_range=(1,2), max_features=5000)\n",
    "xtrain_tfidf_essay = vectorizer_tfid.fit(preprocessed_essays_x)\n",
    "xtrain_tfidf_essay = vectorizer_tfid.transform(preprocessed_essays_x)\n",
    "xtrain_tfidf_essay_cv = vectorizer_tfid.transform(preprocessed_essays_xc)\n",
    "xtest_tfidf_essay = vectorizer_tfid.transform(preprocessed_essays_xTest)\n",
    "xtest_tfidf_essay_cv = vectorizer_tfid.transform(preprocessed_essays_xcvT)"
   ]
  },
  {
   "cell_type": "code",
   "execution_count": 43,
   "metadata": {},
   "outputs": [],
   "source": [
    "vectorizer = CountVectorizer()\n",
    "vectorizer.fit(xTrain['project_subject_categories'].values)\n",
    "categories_one_hot_train = vectorizer.transform(xTrain['project_subject_categories'].values)\n",
    "categories_one_hot_test = vectorizer.transform(xTest['project_subject_categories'].values)\n",
    "categories_one_hot_cv = vectorizer.transform(xTrain_c['project_subject_categories'].values)"
   ]
  },
  {
   "cell_type": "code",
   "execution_count": 44,
   "metadata": {},
   "outputs": [],
   "source": [
    "vectorizer = CountVectorizer()\n",
    "vectorizer.fit(xTrain['project_subject_subcategories'].values)\n",
    "sub_categories_one_hot_train = vectorizer.transform(xTrain['project_subject_subcategories'].values)\n",
    "sub_categories_one_hot_test = vectorizer.transform(xTest['project_subject_subcategories'].values)\n",
    "sub_categories_one_hot_cv = vectorizer.transform(xTrain_c['project_subject_subcategories'].values)"
   ]
  },
  {
   "cell_type": "code",
   "execution_count": 45,
   "metadata": {},
   "outputs": [],
   "source": [
    "my_counter = Counter()\n",
    "for state in project_data['school_state'].values:\n",
    "    my_counter.update(state.split())\n",
    "school_state_dict = dict(my_counter)\n",
    "sorted_school_state_dict = dict(sorted(school_state_dict.items(), key=lambda kv: kv[1]))"
   ]
  },
  {
   "cell_type": "code",
   "execution_count": 46,
   "metadata": {},
   "outputs": [],
   "source": [
    "vectorizer = CountVectorizer()\n",
    "vectorizer.fit(xTrain['school_state'].values)\n",
    "school_state_categories_one_hot_train = vectorizer.transform(xTrain['school_state'].values)\n",
    "school_state_categories_one_hot_test = vectorizer.transform(xTest['school_state'].values)\n",
    "school_state_categories_one_hot_cv = vectorizer.transform(xTrain_c['school_state'].values)"
   ]
  },
  {
   "cell_type": "code",
   "execution_count": 47,
   "metadata": {},
   "outputs": [],
   "source": [
    "my_counter = Counter()\n",
    "for project_grade in project_data['project_grade_category'].values:\n",
    "    my_counter.update(project_grade.split())\n",
    "project_grade_dict = dict(my_counter)\n",
    "sorted_project_grade_dict = dict(sorted(project_grade_dict.items(), key=lambda kv: kv[1]))"
   ]
  },
  {
   "cell_type": "code",
   "execution_count": 48,
   "metadata": {},
   "outputs": [],
   "source": [
    "vectorizer = CountVectorizer()\n",
    "vectorizer.fit(xTrain['project_grade_category'].values)\n",
    "project_grade_categories_one_hot_train = vectorizer.transform(xTrain['project_grade_category'].values)\n",
    "project_grade_categories_one_hot_test =vectorizer.transform(xTest['project_grade_category'].values)\n",
    "project_grade_categories_one_hot_cv = vectorizer.transform(xTrain_c['project_grade_category'].values)"
   ]
  },
  {
   "cell_type": "code",
   "execution_count": 49,
   "metadata": {},
   "outputs": [],
   "source": [
    "my_counter = Counter()\n",
    "for teacher_prefix in project_data['teacher_prefix'].values:\n",
    "    teacher_prefix = str(teacher_prefix)\n",
    "    my_counter.update(teacher_prefix.split())\n",
    "teacher_prefix_dict = dict(my_counter)\n",
    "sorted_teacher_prefix_dict = dict(sorted(teacher_prefix_dict.items(), key=lambda kv: kv[1]))"
   ]
  },
  {
   "cell_type": "code",
   "execution_count": 50,
   "metadata": {},
   "outputs": [
    {
     "name": "stdout",
     "output_type": "stream",
     "text": [
      "['mr', 'mrs', 'ms', 'nan', 'teacher']\n"
     ]
    }
   ],
   "source": [
    "vectorizer = CountVectorizer()\n",
    "vectorizer.fit(xTrain['teacher_prefix'].values.astype(\"U\"))\n",
    "teacher_prefix_categories_one_hot_train =vectorizer.transform(xTrain['teacher_prefix'].values.astype(\"U\"))\n",
    "teacher_prefix_categories_one_hot_test =vectorizer.transform(xTest['teacher_prefix'].values.astype(\"U\"))\n",
    "teacher_prefix_categories_one_hot_cv =vectorizer.transform(xTrain_c['teacher_prefix'].values.astype(\"U\"))\n",
    "print(vectorizer.get_feature_names())"
   ]
  },
  {
   "cell_type": "code",
   "execution_count": 51,
   "metadata": {},
   "outputs": [],
   "source": [
    "normalizer = Normalizer()\n",
    "normalizer.fit(xTrain['teacher_number_of_previously_posted_projects'].values.reshape(1,-1))\n",
    "prev_projects_train = normalizer.transform(xTrain['teacher_number_of_previously_posted_projects'].values.reshape(1,-1))\n",
    "prev_projects_cv = normalizer.transform(xTrain_c['teacher_number_of_previously_posted_projects'].values.reshape(1,-1))\n",
    "prev_projects_test = normalizer.transform(xTest['teacher_number_of_previously_posted_projects'].values.reshape(1,-1))\n",
    "prev_projects_train = prev_projects_train.reshape(-1,1)\n",
    "prev_projects_cv = prev_projects_cv.reshape(-1,1)\n",
    "prev_projects_test =prev_projects_test.reshape(-1,1)"
   ]
  },
  {
   "cell_type": "code",
   "execution_count": 60,
   "metadata": {},
   "outputs": [],
   "source": [
    "normalizer = Normalizer()\n",
    "normalizer.fit(xTrain['quantity'].values.reshape(1,-1))\n",
    "quant_projects_train = normalizer.transform(xTrain['quantity'].values.reshape(1,-1))\n",
    "quant_projects_cv = normalizer.transform(xTrain_c['quantity'].values.reshape(1,-1))\n",
    "quant_projects_test = normalizer.transform(xTest['quantity'].values.reshape(1,-1))\n",
    "quant_projects_train =quant_projects_train.reshape(-1,1)\n",
    "quant_projects_cv = quant_projects_cv.reshape(-1,1)\n",
    "quant_projects_test = quant_projects_test.reshape(-1,1)"
   ]
  },
  {
   "cell_type": "code",
   "execution_count": 61,
   "metadata": {},
   "outputs": [],
   "source": [
    "normalizer = Normalizer()\n",
    "normalizer.fit(xTrain['price'].values.reshape(1,-1))\n",
    "price_projects_train = normalizer.transform(xTrain['price'].values.reshape(1,-1))\n",
    "price_projects_cv = normalizer.transform(xTrain_c['price'].values.reshape(1,-1))\n",
    "price_projects_test = normalizer.transform(xTest['price'].values.reshape(1,-1))\n",
    "price_projects_train = price_projects_train.reshape(-1,1)\n",
    "price_projects_cv = price_projects_cv.reshape(-1,1)\n",
    "price_projects_test = price_projects_test.reshape(-1,1)\n"
   ]
  },
  {
   "cell_type": "code",
   "execution_count": 62,
   "metadata": {},
   "outputs": [
    {
     "name": "stdout",
     "output_type": "stream",
     "text": [
      "(16000, 11953)\n",
      "(16000, 11953)\n"
     ]
    }
   ],
   "source": [
    "from scipy.sparse import hstack\n",
    "features=hstack((prev_projects_train,project_grade_categories_one_hot_train,categories_one_hot_train,teacher_prefix_categories_one_hot_train,sub_categories_one_hot_train,xtrain_bow_essay,xtrain_bow_title,quant_projects_train,price_projects_train)).tocsr()\n",
    "features = features.toarray()\n",
    "print(features.shape)\n",
    "print(features.shape)"
   ]
  },
  {
   "cell_type": "code",
   "execution_count": 63,
   "metadata": {},
   "outputs": [
    {
     "name": "stdout",
     "output_type": "stream",
     "text": [
      "(12800, 11953)\n"
     ]
    }
   ],
   "source": [
    "features_cv = hstack((quant_projects_cv,price_projects_cv,prev_projects_cv,project_grade_categories_one_hot_cv,categories_one_hot_cv,teacher_prefix_categories_one_hot_cv,sub_categories_one_hot_cv,xtrain_bow_essay_c,xtrain_bow_title_c))\n",
    "features_cv = features_cv.toarray()\n",
    "print(features_cv.shape)"
   ]
  },
  {
   "cell_type": "code",
   "execution_count": 64,
   "metadata": {},
   "outputs": [
    {
     "name": "stdout",
     "output_type": "stream",
     "text": [
      "(4000, 11953)\n"
     ]
    }
   ],
   "source": [
    "xTest_features = hstack((quant_projects_test,price_projects_test,prev_projects_test,project_grade_categories_one_hot_test,categories_one_hot_test,teacher_prefix_categories_one_hot_test,sub_categories_one_hot_test,xtest_bow_title,xtest_bow_esssay)).tocsr()\n",
    "xTest_features = xTest_features.toarray()\n",
    "print(xTest_features.shape)"
   ]
  },
  {
   "cell_type": "code",
   "execution_count": 65,
   "metadata": {},
   "outputs": [
    {
     "data": {
      "image/png": "[encoded data removed]",
      "text/plain": [
       "<Figure size 432x288 with 1 Axes>"
      ]
     },
     "metadata": {},
     "output_type": "display_data"
    }
   ],
   "source": [
    "from sklearn.linear_model import LogisticRegression\n",
    "from sklearn import linear_model\n",
    "from sklearn.model_selection import RandomizedSearchCV\n",
    "from sklearn.linear_model import SGDClassifier\n",
    "#CLG = LogisticRegression()\n",
    "train_auc = []\n",
    "cv_auc = []\n",
    "k = [10**x for x in range (-4,4)]\n",
    "SGD=SGDClassifier(loss='log')\n",
    "\n",
    "parameters = {\n",
    "    'alpha':[10**x for x in range (-4,4)]\n",
    "}   \n",
    "clf_R = RandomizedSearchCV(SGD,param_distributions = parameters, n_iter=8, cv=5, scoring='roc_auc')\n",
    "clf_R.fit(features, yTrain)\n",
    "\n",
    "y_train_pred =  clf_R.predict_proba(features)[:,1]\n",
    "y_cv_pred =  clf_R.predict_proba(features_cv)[:,1]\n",
    "    \n",
    "train_auc.append(roc_auc_score(yTrain,y_train_pred))\n",
    "cv_auc.append(roc_auc_score(yTrain_c, y_cv_pred))\n",
    "train_auc= clf_R.cv_results_['mean_train_score']\n",
    "train_auc_std= clf_R.cv_results_['std_train_score']\n",
    "cv_auc = clf_R.cv_results_['mean_test_score'] \n",
    "cv_auc_std= clf_R.cv_results_['std_test_score']\n",
    "\n",
    "plt.plot(k, train_auc, label='Train AUC')\n",
    "plt.gca().fill_between(k,train_auc - train_auc_std,train_auc + train_auc_std,alpha=0.2,color='darkblue')\n",
    "plt.plot(k, cv_auc, label='CV AUC')\n",
    "plt.gca().fill_between(k,cv_auc - cv_auc_std,cv_auc + cv_auc_std,alpha=0.2,color='darkorange')\n",
    "plt.legend()\n",
    "plt.xlabel(\"K: hyperparameter\")\n",
    "plt.ylabel(\"AUC\")\n",
    "plt.title(\"ERROR PLOTS\")\n",
    "plt.grid()\n",
    "plt.show()  \n",
    "\n"
   ]
  },
  {
   "cell_type": "code",
   "execution_count": 66,
   "metadata": {},
   "outputs": [
    {
     "name": "stdout",
     "output_type": "stream",
     "text": [
      "0.6846754461247371\n",
      "{'alpha': 0.01}\n",
      "SGDClassifier(alpha=0.01, average=False, class_weight=None, epsilon=0.1,\n",
      "       eta0=0.0, fit_intercept=True, l1_ratio=0.15,\n",
      "       learning_rate='optimal', loss='log', max_iter=None, n_iter=None,\n",
      "       n_jobs=1, penalty='l2', power_t=0.5, random_state=None,\n",
      "       shuffle=True, tol=None, verbose=0, warm_start=False)\n"
     ]
    }
   ],
   "source": [
    "print(clf_R.best_score_)\n",
    "print(clf_R.best_params_)\n",
    "print(clf_R.best_estimator_)\n",
    "y_test_pred = clf_R.predict_proba(xTest_features)[:,1]"
   ]
  },
  {
   "cell_type": "code",
   "execution_count": 67,
   "metadata": {},
   "outputs": [
    {
     "name": "stdout",
     "output_type": "stream",
     "text": [
      "[[0.43938421 0.56061579]\n",
      " [0.46070219 0.53929781]\n",
      " [0.48118485 0.51881515]\n",
      " ...\n",
      " [0.41022088 0.58977912]\n",
      " [0.47826488 0.52173512]\n",
      " [0.47802811 0.52197189]]\n"
     ]
    },
    {
     "data": {
      "image/png": "[encoded data removed]",
      "text/plain": [
       "<Figure size 432x288 with 1 Axes>"
      ]
     },
     "metadata": {},
     "output_type": "display_data"
    }
   ],
   "source": [
    "neigh = SGDClassifier( alpha=0.01,loss = 'log')\n",
    "final1 = neigh.fit(features, yTrain)\n",
    "final = neigh.predict_proba(xTest_features)\n",
    "print(final)\n",
    "train_fpr, train_tpr, tr_thresholds = roc_curve(yTrain, y_train_pred)\n",
    "test_fpr, test_tpr, te_thresholds = roc_curve(yTest, y_test_pred)\n",
    "plt.plot(train_fpr, train_tpr, label=\"Train AUC =\"+str(auc(train_fpr, train_tpr)))\n",
    "plt.plot(test_fpr, test_tpr, label=\"Test AUC =\"+str(auc(test_fpr, test_tpr)))\n",
    "plt.legend()\n",
    "plt.xlabel(\"True Positive Rate(TPR)\")\n",
    "plt.ylabel(\"False Positive Rate(FPR)\")\n",
    "plt.title(\"AUC\")\n",
    "plt.grid()\n",
    "plt.show()"
   ]
  },
  {
   "cell_type": "markdown",
   "metadata": {},
   "source": [
    "# Observations"
   ]
  },
  {
   "cell_type": "markdown",
   "metadata": {},
   "source": [
    "1) From above plot we can say that model was overfit ,why beacuse the train auc and test auc scores has huge diffrence"
   ]
  },
  {
   "cell_type": "code",
   "execution_count": 68,
   "metadata": {},
   "outputs": [
    {
     "name": "stdout",
     "output_type": "stream",
     "text": [
      "====================================================================================================\n",
      "the maximum value of tpr*(1-fpr) 0.5835147251660394 for threshold 0.814\n",
      "Train confusion matrix\n",
      "[[ 1819   663]\n",
      " [ 2755 10763]]\n",
      "Test confusion matrix\n",
      "[[ 538   29]\n",
      " [3291  142]]\n"
     ]
    }
   ],
   "source": [
    "from sklearn.metrics import confusion_matrix\n",
    "# we are writing our own function for predict, with defined thresould\n",
    "# we will pick a threshold that will give the least fpr\n",
    "def find_best_threshold(threshould, fpr, tpr):\n",
    "    t = threshould[np.argmax(tpr*(1-fpr))]\n",
    "    # (tpr*(1-fpr)) will be maximum if your fpr is very low and tpr is very high\n",
    "    print(\"the maximum value of tpr*(1-fpr)\", max(tpr*(1-fpr)), \"for threshold\", np.round(t,3))\n",
    "    return t\n",
    "\n",
    "def predict_with_best_t(proba, threshould):\n",
    "    predictions = []\n",
    "    for i in proba:\n",
    "        if i>=threshould:\n",
    "            predictions.append(1)\n",
    "        else:\n",
    "            predictions.append(0)\n",
    "    return predictions\n",
    "print(\"=\"*100)\n",
    "from sklearn.metrics import confusion_matrix\n",
    "best_t = find_best_threshold(tr_thresholds, train_fpr, train_tpr)\n",
    "print(\"Train confusion matrix\")\n",
    "print(confusion_matrix(yTrain, predict_with_best_t(y_train_pred, best_t)))\n",
    "print(\"Test confusion matrix\")\n",
    "print(confusion_matrix(yTest, predict_with_best_t(y_test_pred, best_t)))"
   ]
  },
  {
   "cell_type": "code",
   "execution_count": 69,
   "metadata": {},
   "outputs": [
    {
     "name": "stdout",
     "output_type": "stream",
     "text": [
      "   actual values:NO  actual value:YES\n",
      "0              1819               663\n",
      "1              2755             10763\n"
     ]
    },
    {
     "data": {
      "image/png": "[encoded data removed]",
      "text/plain": [
       "<Figure size 432x288 with 2 Axes>"
      ]
     },
     "metadata": {},
     "output_type": "display_data"
    }
   ],
   "source": [
    "#plt.figure(figsize=(2,2))\n",
    "heatmap_matrix = ps.DataFrame(confusion_matrix(yTrain, predict_with_best_t(y_train_pred, best_t)),columns=[\"actual values:NO\",'actual value:YES'])\n",
    "\n",
    "print(heatmap_matrix)\n",
    "sn.heatmap(heatmap_matrix,annot=True, fmt='g')  \n",
    "plt.show()"
   ]
  },
  {
   "cell_type": "code",
   "execution_count": 70,
   "metadata": {},
   "outputs": [],
   "source": [
    "vectorizer_tfid = TfidfVectorizer()\n",
    "xtrain_tfidf_title = vectorizer_tfid.fit(preprocessed_title_xT)\n",
    "xtrain_tfidf_title =vectorizer_tfid.transform(preprocessed_title_xT)\n",
    "xtrain_tfidf_title_cv = vectorizer_tfid.transform(preprocessed_title_xC)\n",
    "xtest_tfidf_title =vectorizer_tfid.transform(preprocessed_title_xt)\n",
    "xtest_tfidf_title_cv = vectorizer_tfid.transform(preprocessed_title_cvt)"
   ]
  },
  {
   "cell_type": "code",
   "execution_count": 71,
   "metadata": {},
   "outputs": [
    {
     "name": "stdout",
     "output_type": "stream",
     "text": [
      "(16000, 11953)\n"
     ]
    }
   ],
   "source": [
    "from scipy.sparse import hstack\n",
    "features_tfid_R=hstack((quant_projects_train,price_projects_train,prev_projects_train,project_grade_categories_one_hot_train,categories_one_hot_train,teacher_prefix_categories_one_hot_train,sub_categories_one_hot_train,xtrain_tfidf_essay,xtrain_tfidf_title)).tocsr()\n",
    "features_tfid_R = features_tfid_R.toarray()\n",
    "print(features_tfid_R.shape)"
   ]
  },
  {
   "cell_type": "code",
   "execution_count": 72,
   "metadata": {},
   "outputs": [
    {
     "name": "stdout",
     "output_type": "stream",
     "text": [
      "(12800, 11953)\n"
     ]
    }
   ],
   "source": [
    "features_cv_tfid = hstack((quant_projects_cv,price_projects_cv,prev_projects_cv,project_grade_categories_one_hot_cv,categories_one_hot_cv,teacher_prefix_categories_one_hot_cv,sub_categories_one_hot_cv,xtrain_tfidf_essay_cv,xtrain_tfidf_title_cv))\n",
    "features_cv_tfid = features_cv_tfid.toarray()\n",
    "print(features_cv_tfid.shape)"
   ]
  },
  {
   "cell_type": "code",
   "execution_count": 73,
   "metadata": {},
   "outputs": [
    {
     "name": "stdout",
     "output_type": "stream",
     "text": [
      "(4000, 11953)\n"
     ]
    }
   ],
   "source": [
    "xTest_features_tfid = hstack((quant_projects_test,price_projects_test,prev_projects_test,project_grade_categories_one_hot_test,categories_one_hot_test,teacher_prefix_categories_one_hot_test,sub_categories_one_hot_test,xtest_tfidf_essay,xtest_tfidf_title)).tocsr()\n",
    "xTest_features_tfid = xTest_features_tfid.toarray()\n",
    "print(xTest_features_tfid.shape)"
   ]
  },
  {
   "cell_type": "code",
   "execution_count": 74,
   "metadata": {},
   "outputs": [
    {
     "data": {
      "image/png": "[encoded data removed]",
      "text/plain": [
       "<Figure size 432x288 with 1 Axes>"
      ]
     },
     "metadata": {},
     "output_type": "display_data"
    }
   ],
   "source": [
    "\n",
    "from sklearn.linear_model import LogisticRegression\n",
    "from sklearn import linear_model\n",
    "from sklearn.model_selection import RandomizedSearchCV\n",
    "from sklearn.linear_model import SGDClassifier\n",
    "train_auc_tfid = []\n",
    "cv_auc_tfid = []\n",
    "k = [10**x for x in range (-4,4)]\n",
    "SGD=SGDClassifier(loss='log')\n",
    "\n",
    "parameters = {\n",
    "    'alpha':[10**x for x in range (-4,4)]\n",
    "}   \n",
    "clf_R1 = RandomizedSearchCV(SGD,param_distributions = parameters, n_iter=8, cv=5, scoring='roc_auc')\n",
    "clf_R1.fit(features_tfid_R, yTrain)\n",
    "\n",
    "y_train_pred1 =  clf_R1.predict_proba(features_tfid_R)[:,1]\n",
    "y_cv_pred1 =  clf_R1.predict_proba(features_cv_tfid)[:,1]\n",
    "    \n",
    "train_auc_tfid.append(roc_auc_score(yTrain,y_train_pred1))\n",
    "cv_auc_tfid.append(roc_auc_score(yTrain_c, y_cv_pred1))\n",
    "train_auc= clf_R1.cv_results_['mean_train_score']\n",
    "train_auc_std= clf_R1.cv_results_['std_train_score']\n",
    "cv_auc = clf_R1.cv_results_['mean_test_score'] \n",
    "cv_auc_std= clf_R1.cv_results_['std_test_score']\n",
    "\n",
    "plt.plot(k, train_auc, label='Train AUC')\n",
    "plt.gca().fill_between(k,train_auc - train_auc_std,train_auc + train_auc_std,alpha=0.2,color='darkblue')\n",
    "plt.plot(k, cv_auc, label='CV AUC')\n",
    "plt.gca().fill_between(k,cv_auc - cv_auc_std,cv_auc + cv_auc_std,alpha=0.2,color='darkorange')\n",
    "plt.legend()\n",
    "plt.xlabel(\"K: hyperparameter\")\n",
    "plt.ylabel(\"AUC\")\n",
    "plt.title(\"ERROR PLOTS\")\n",
    "plt.grid()\n",
    "plt.show()  \n",
    "\n"
   ]
  },
  {
   "cell_type": "code",
   "execution_count": 75,
   "metadata": {},
   "outputs": [
    {
     "name": "stdout",
     "output_type": "stream",
     "text": [
      "0.6464952420823762\n",
      "{'alpha': 0.0001}\n",
      "SGDClassifier(alpha=0.0001, average=False, class_weight=None, epsilon=0.1,\n",
      "       eta0=0.0, fit_intercept=True, l1_ratio=0.15,\n",
      "       learning_rate='optimal', loss='log', max_iter=None, n_iter=None,\n",
      "       n_jobs=1, penalty='l2', power_t=0.5, random_state=None,\n",
      "       shuffle=True, tol=None, verbose=0, warm_start=False)\n"
     ]
    }
   ],
   "source": [
    "print(clf_R1.best_score_)\n",
    "print(clf_R1.best_params_)\n",
    "print(clf_R1.best_estimator_)\n",
    "y_test_pred_tfid = clf_R1.predict_proba(xTest_features_tfid)[:,1]"
   ]
  },
  {
   "cell_type": "code",
   "execution_count": 76,
   "metadata": {},
   "outputs": [
    {
     "name": "stdout",
     "output_type": "stream",
     "text": [
      "[[0.07604637 0.92395363]\n",
      " [0.46340048 0.53659952]\n",
      " [0.31275532 0.68724468]\n",
      " ...\n",
      " [0.28117804 0.71882196]\n",
      " [0.21342643 0.78657357]\n",
      " [0.21745591 0.78254409]]\n"
     ]
    },
    {
     "data": {
      "image/png": "[encoded data removed]",
      "text/plain": [
       "<Figure size 432x288 with 1 Axes>"
      ]
     },
     "metadata": {},
     "output_type": "display_data"
    }
   ],
   "source": [
    "##https://towardsdatascience.com/understanding-auc-roc-curve-68b2303cc9c5\n",
    "SGD=SGDClassifier(loss='log',alpha=0.0001)\n",
    "\n",
    "final1 = SGD.fit(features_tfid_R, yTrain)\n",
    "final = SGD.predict_proba(xTest_features_tfid)\n",
    "print(final)\n",
    "train_fpr1, train_tpr1, tr_thresholds1 = roc_curve(yTrain, y_train_pred1)\n",
    "test_fpr1, test_tpr1, te_thresholds1 = roc_curve(yTest, y_test_pred_tfid)\n",
    "plt.plot(train_fpr1, train_tpr1, label=\"Train AUC =\"+str(auc(train_fpr1, train_tpr1)))\n",
    "plt.plot(test_fpr1, test_tpr1, label=\"Test AUC =\"+str(auc(test_fpr1, test_tpr1)))\n",
    "plt.legend()\n",
    "plt.xlabel(\"True Positive Rate(TPR)\")\n",
    "plt.ylabel(\"False Positive Rate(FPR)\")\n",
    "plt.title(\"AUC\")\n",
    "plt.grid()\n",
    "plt.show()"
   ]
  },
  {
   "cell_type": "markdown",
   "metadata": {},
   "source": [
    "# Observations"
   ]
  },
  {
   "cell_type": "markdown",
   "metadata": {},
   "source": [
    "1) From above plot we can say that ,the model performance is better by using tfid text vectorization\n",
    "\n",
    "2)But some how we can say model was overfitted, by seein train and test auc scores"
   ]
  },
  {
   "cell_type": "code",
   "execution_count": 77,
   "metadata": {},
   "outputs": [
    {
     "name": "stdout",
     "output_type": "stream",
     "text": [
      "====================================================================================================\n",
      "the maximum value of tpr*(1-fpr) 0.5735011270375882 for threshold 0.792\n",
      "Train confusion matrix\n",
      "[[ 1898   584]\n",
      " [ 3380 10138]]\n",
      "Test confusion matrix\n",
      "[[ 312  255]\n",
      " [1042 2391]]\n"
     ]
    }
   ],
   "source": [
    "from sklearn.metrics import confusion_matrix\n",
    "# we will pick a threshold that will give the least fpr\n",
    "def find_best_threshold(threshould, fpr, tpr):\n",
    "    t = threshould[np.argmax(tpr*(1-fpr))]\n",
    "    print(\"the maximum value of tpr*(1-fpr)\", max(tpr*(1-fpr)), \"for threshold\", np.round(t,3))\n",
    "    return t\n",
    "\n",
    "def predict_with_best_t(proba, threshould):\n",
    "    predictions = []\n",
    "    for i in proba:\n",
    "        if i>=threshould:\n",
    "            predictions.append(1)\n",
    "        else:\n",
    "            predictions.append(0)\n",
    "    return predictions\n",
    "print(\"=\"*100)\n",
    "from sklearn.metrics import confusion_matrix\n",
    "best_t = find_best_threshold(tr_thresholds1, train_fpr1, train_tpr1)\n",
    "print(\"Train confusion matrix\")\n",
    "print(confusion_matrix(yTrain, predict_with_best_t(y_train_pred1, best_t)))\n",
    "print(\"Test confusion matrix\")\n",
    "print(confusion_matrix(yTest, predict_with_best_t(y_test_pred_tfid, best_t)))"
   ]
  },
  {
   "cell_type": "code",
   "execution_count": 78,
   "metadata": {},
   "outputs": [
    {
     "name": "stdout",
     "output_type": "stream",
     "text": [
      "   actual values:NO  actual value:YES\n",
      "0              1898               584\n",
      "1              3380             10138\n"
     ]
    },
    {
     "data": {
      "image/png": "[encoded data removed]",
      "text/plain": [
       "<Figure size 432x288 with 2 Axes>"
      ]
     },
     "metadata": {},
     "output_type": "display_data"
    }
   ],
   "source": [
    "heatmap_matrix = ps.DataFrame(confusion_matrix(yTrain, predict_with_best_t(y_train_pred1, best_t)),columns=[\"actual values:NO\",'actual value:YES'])\n",
    "print(heatmap_matrix)\n",
    "sn.heatmap(heatmap_matrix,annot=True, fmt='g')  \n",
    "plt.show()"
   ]
  },
  {
   "cell_type": "code",
   "execution_count": 79,
   "metadata": {},
   "outputs": [],
   "source": [
    "from vaderSentiment.vaderSentiment import SentimentIntensityAnalyzer\n",
    "#https://medium.com/analytics-vidhya/simplifying-social-media-sentiment-analysis-using-vader-in-python-f9e6ec6fc52fanalyser = SentimentIntensityAnalyzer()\n",
    "essay1 = str(ps.DataFrame(xTrain['project_essay_1']))\n",
    "essay1_t = str(ps.DataFrame(xTrain_c['project_essay_1']))\n",
    "essay1_te = str(ps.DataFrame(xTest['project_essay_1']))\n",
    "x = []\n",
    "x_t = []\n",
    "x_te = []\n",
    "#essay1 = str(essay1)\n",
    "#print(essay1)\n",
    "analyser = SentimentIntensityAnalyzer()\n",
    "\n",
    "\n",
    "def sentimet_analyser_scores(essay1):\n",
    "    \n",
    "    scores1 = analyser.polarity_scores(essay1)\n",
    "    x.append(scores1)\n",
    "    print(x)\n",
    "    scores1_t = analyser.polarity_scores(essay1_t)\n",
    "    x_t.append(scores1_t)\n",
    "    print(x_t)\n",
    "    scores1_te = analyser.polarity_scores(essay1_te)\n",
    "    x_te.append(scores1_te)\n",
    "    print(x_te)\n",
    "    #print('{:-<10}{}'.format(essay1,str(scores1)))\n",
    "    #print('{:-<10}{}'.format(essay1_t,str(scores1_t)))\n",
    "   # print('{:-<10}{}'.format(essay1_te,str(scores1_te)))\n",
    "    \n",
    "    #essay1 = str(ps.DataFrame(project_data['project_essay_1']))\n",
    "    #\n",
    "    \n",
    "#print(essay_1.shape())\n",
    "    \n"
   ]
  },
  {
   "cell_type": "code",
   "execution_count": 80,
   "metadata": {},
   "outputs": [
    {
     "name": "stdout",
     "output_type": "stream",
     "text": [
      "[{'neg': 0.009, 'neu': 0.843, 'pos': 0.148, 'compound': 0.9979}]\n",
      "[{'neg': 0.034, 'neu': 0.853, 'pos': 0.113, 'compound': 0.9918}]\n",
      "[{'neg': 0.013, 'neu': 0.782, 'pos': 0.205, 'compound': 0.9989}]\n"
     ]
    }
   ],
   "source": [
    "(sentimet_analyser_scores(essay1))"
   ]
  },
  {
   "cell_type": "code",
   "execution_count": 81,
   "metadata": {},
   "outputs": [],
   "source": [
    "y = []\n",
    "y_t = []\n",
    "y_te = []\n",
    "\n",
    "essay2 = str(ps.DataFrame(xTrain['project_essay_2']))\n",
    "essay2_t = str(ps.DataFrame(xTrain_c['project_essay_2']))\n",
    "essay2_te = str(ps.DataFrame(xTest['project_essay_2']))\n",
    "\n",
    "def sentimet_analyser_scores2(essay2):\n",
    "    scores2 = np.array(analyser.polarity_scores(essay2))\n",
    "    y.append(scores2)\n",
    "    scores2_t = np.array(analyser.polarity_scores(essay2_t))\n",
    "    y_t.append(scores2_t)\n",
    "    scores2_te = np.array(analyser.polarity_scores(essay2_te))\n",
    "    y_te.append(scores2_te)\n",
    "    \n",
    "    #essay_2 = (sentimet_analyser_scores2(essay2))\n",
    "    \n",
    "    \n",
    "   # print('{:-<10}{}'.format(essay2,str(scores2)))\n",
    "\n",
    "sentimet_analyser_scores2(essay2)"
   ]
  },
  {
   "cell_type": "code",
   "execution_count": 82,
   "metadata": {},
   "outputs": [],
   "source": [
    "z = []\n",
    "z_t = []\n",
    "z_te = []\n",
    "\n",
    "essay3 = str(ps.DataFrame(xTrain['project_essay_3']))\n",
    "essay3_t = str(ps.DataFrame(xTrain_c['project_essay_3']))\n",
    "essay3_te = str(ps.DataFrame(xTest['project_essay_3']))\n",
    "\n",
    "def sentimet_analyser_scores3(essay3):\n",
    "    \n",
    "    scores3 = np.array(analyser.polarity_scores(essay3))\n",
    "    z.append(scores3)\n",
    "    scores3_t = np.array(analyser.polarity_scores(essay3_t))\n",
    "    z_t.append(scores3_t)\n",
    "    scores3_te = np.array(analyser.polarity_scores(essay3_te))\n",
    "    z_te.append(scores3_te)\n",
    "        \n",
    "\n",
    "    #essay_2 = (sentimet_analyser_scores2(essay2))\n",
    "    \n",
    "    \n",
    "    #print('{:-<10}{}'.format(essay3,str(scores3)))\n",
    "    \n",
    "sentimet_analyser_scores3(essay3)"
   ]
  },
  {
   "cell_type": "code",
   "execution_count": 83,
   "metadata": {},
   "outputs": [],
   "source": [
    "L = []\n",
    "L_T = []\n",
    "L_TE = []\n",
    "essay4 = str(ps.DataFrame(xTrain['project_essay_4']))\n",
    "essay4_t = str(ps.DataFrame(xTrain_c['project_essay_4']))\n",
    "essay4_te = str(ps.DataFrame(xTest['project_essay_4']))\n",
    "def sentimet_analyser_scores4(essay4):\n",
    "    \n",
    "    scores4 = np.array(analyser.polarity_scores(essay4))\n",
    "    L.append(scores4)\n",
    "    scores4_t = np.array(analyser.polarity_scores(essay4_t))\n",
    "    L_T.append(scores4_t)\n",
    "    scores4_te = np.array(analyser.polarity_scores(essay4_te))\n",
    "    L_TE.append(scores4_te)\n",
    "    #essay_2 = (sentimet_analyser_scores2(essay2))\n",
    "    \n",
    "    \n",
    "    #print('{:-<10}{}'.format(essay4,str(scores4_t)))\n",
    "sentimet_analyser_scores4(essay4)\n"
   ]
  },
  {
   "cell_type": "code",
   "execution_count": 84,
   "metadata": {},
   "outputs": [
    {
     "name": "stdout",
     "output_type": "stream",
     "text": [
      "                                                   essay\n",
      "0      My students are English learners that are work...\n",
      "1      Our students arrive to our school eager to lea...\n",
      "2      \\r\\n\\\"True champions aren't always the ones th...\n",
      "3      I work at a unique school filled with both ESL...\n",
      "4      Our second grade classroom next year will be m...\n",
      "5      I will be moving from 2nd grade to 3rd grade a...\n",
      "6      My students are a dynamic and very energetic g...\n",
      "7      Not only do our students struggle with poverty...\n",
      "8      My students are enthusiastic and inquisitive l...\n",
      "9      Over 95% of my students are on free or reduced...\n",
      "10     \\\"There are many little ways to enlarge your w...\n",
      "11     All of our students receive free breakfast, lu...\n",
      "12     My students are always working on new projects...\n",
      "13     I teach in a small school district in central ...\n",
      "14     My students are my babies...I want the world f...\n",
      "15     Located in West Dallas, my students face sever...\n",
      "16     My Preschool children, ages 3-5 years old with...\n",
      "17     My students are special because they come from...\n",
      "18     I teach at a Title I school in a low-income ar...\n",
      "19     We are apart of an urban district and many of ...\n",
      "20     The students in our school come from diverse b...\n",
      "21     My students walk into school every day full of...\n",
      "22     Every day in my English classroom, we work to ...\n",
      "23     100% of our musical students eat free breakfas...\n",
      "24     This year, I am teaching in an EFL (Extended F...\n",
      "25     My students are highly motivated to succeed. U...\n",
      "26     I teach 22 bright 5 and 6 year olds. My studen...\n",
      "27     My students spend most of their day learning f...\n",
      "28     My students all have a primary diagnosis of au...\n",
      "29     I have an awesome group of 24 students any tea...\n",
      "...                                                  ...\n",
      "19970  A classroom environment should be tailored to ...\n",
      "19971  My school is in a very urban location. We are ...\n",
      "19972  Each year my first grade kiddos come to me exc...\n",
      "19973  The students that I serve are in a low-income ...\n",
      "19974  The majority of our students come from a low e...\n",
      "19975  My students are energetic 10 year-olds with vi...\n",
      "19976  I have 18 inquisitive learners in my Pre-K cla...\n",
      "19977  My school is unique because we have a specific...\n",
      "19978  Reading opens the door to a whole new world!  ...\n",
      "19979  My students are creative explorers who LOVE to...\n",
      "19980  My classroom is bright, energetic and student ...\n",
      "19981  I teach in a Title I School. My students' need...\n",
      "19982  I teach in a very high poverty school. Many of...\n",
      "19983  I work with approximately 45 amazing special e...\n",
      "19984  My students are amazing with sweet little spir...\n",
      "19985  I have approximately 130 amazing eighth grade ...\n",
      "19986  As we are just beginning another school year, ...\n",
      "19987  Our 3rd grade class consists of 25 bright and ...\n",
      "19988  My students struggle with difficult circumstan...\n",
      "19989  My students work hard each day to the best of ...\n",
      "19990  I am a teacher in a low-income/high poverty sc...\n",
      "19991  There are 40 students in our fifth grade that ...\n",
      "19992  During the 2016-2017 school year I am teaching...\n",
      "19993  \\\"Can I sit in your spinning chair?\\\"  My kids...\n",
      "19994  My students are brilliant, enthusiastic, hilar...\n",
      "19995  I teach pre-k. I have 2 sessions of students, ...\n",
      "19996  I teach an amazing group of fifth graders that...\n",
      "19997  Although our school is located in a suburban d...\n",
      "19998  Our students are high-poverty, high-needs, and...\n",
      "19999  My students come from very diverse backgrounds...\n",
      "\n",
      "[20000 rows x 1 columns]\n"
     ]
    },
    {
     "name": "stdout",
     "output_type": "stream",
     "text": [
      "['essay', '0', 'My', 'students', 'are', 'English', 'learners', 'that', 'are', 'work...', '1', 'Our', 'students', 'arrive', 'to', 'our', 'school', 'eager', 'to', 'lea...', '2', '\\\\r\\\\n\\\\\"True', 'champions', \"aren't\", 'always', 'the', 'ones', 'th...', '3', 'I', 'work', 'at', 'a', 'unique', 'school', 'filled', 'with', 'both', 'ESL...', '4', 'Our', 'second', 'grade', 'classroom', 'next', 'year', 'will', 'be', 'm...', '5', 'I', 'will', 'be', 'moving', 'from', '2nd', 'grade', 'to', '3rd', 'grade', 'a...', '6', 'My', 'students', 'are', 'a', 'dynamic', 'and', 'very', 'energetic', 'g...', '7', 'Not', 'only', 'do', 'our', 'students', 'struggle', 'with', 'poverty...', '8', 'My', 'students', 'are', 'enthusiastic', 'and', 'inquisitive', 'l...', '9', 'Over', '95%', 'of', 'my', 'students', 'are', 'on', 'free', 'or', 'reduced...', '10', '\\\\\"There', 'are', 'many', 'little', 'ways', 'to', 'enlarge', 'your', 'w...', '11', 'All', 'of', 'our', 'students', 'receive', 'free', 'breakfast,', 'lu...', '12', 'My', 'students', 'are', 'always', 'working', 'on', 'new', 'projects...', '13', 'I', 'teach', 'in', 'a', 'small', 'school', 'district', 'in', 'central', '...', '14', 'My', 'students', 'are', 'my', 'babies...I', 'want', 'the', 'world', 'f...', '15', 'Located', 'in', 'West', 'Dallas,', 'my', 'students', 'face', 'sever...', '16', 'My', 'Preschool', 'children,', 'ages', '3-5', 'years', 'old', 'with...', '17', 'My', 'students', 'are', 'special', 'because', 'they', 'come', 'from...', '18', 'I', 'teach', 'at', 'a', 'Title', 'I', 'school', 'in', 'a', 'low-income', 'ar...', '19', 'We', 'are', 'apart', 'of', 'an', 'urban', 'district', 'and', 'many', 'of', '...', '20', 'The', 'students', 'in', 'our', 'school', 'come', 'from', 'diverse', 'b...', '21', 'My', 'students', 'walk', 'into', 'school', 'every', 'day', 'full', 'of...', '22', 'Every', 'day', 'in', 'my', 'English', 'classroom,', 'we', 'work', 'to', '...', '23', '100%', 'of', 'our', 'musical', 'students', 'eat', 'free', 'breakfas...', '24', 'This', 'year,', 'I', 'am', 'teaching', 'in', 'an', 'EFL', '(Extended', 'F...', '25', 'My', 'students', 'are', 'highly', 'motivated', 'to', 'succeed.', 'U...', '26', 'I', 'teach', '22', 'bright', '5', 'and', '6', 'year', 'olds.', 'My', 'studen...', '27', 'My', 'students', 'spend', 'most', 'of', 'their', 'day', 'learning', 'f...', '28', 'My', 'students', 'all', 'have', 'a', 'primary', 'diagnosis', 'of', 'au...', '29', 'I', 'have', 'an', 'awesome', 'group', 'of', '24', 'students', 'any', 'tea...', '...', '...', '19970', 'A', 'classroom', 'environment', 'should', 'be', 'tailored', 'to', '...', '19971', 'My', 'school', 'is', 'in', 'a', 'very', 'urban', 'location.', 'We', 'are', '...', '19972', 'Each', 'year', 'my', 'first', 'grade', 'kiddos', 'come', 'to', 'me', 'exc...', '19973', 'The', 'students', 'that', 'I', 'serve', 'are', 'in', 'a', 'low-income', '...', '19974', 'The', 'majority', 'of', 'our', 'students', 'come', 'from', 'a', 'low', 'e...', '19975', 'My', 'students', 'are', 'energetic', '10', 'year-olds', 'with', 'vi...', '19976', 'I', 'have', '18', 'inquisitive', 'learners', 'in', 'my', 'Pre-K', 'cla...', '19977', 'My', 'school', 'is', 'unique', 'because', 'we', 'have', 'a', 'specific...', '19978', 'Reading', 'opens', 'the', 'door', 'to', 'a', 'whole', 'new', 'world!', '...', '19979', 'My', 'students', 'are', 'creative', 'explorers', 'who', 'LOVE', 'to...', '19980', 'My', 'classroom', 'is', 'bright,', 'energetic', 'and', 'student', '...', '19981', 'I', 'teach', 'in', 'a', 'Title', 'I', 'School.', 'My', \"students'\", 'need...', '19982', 'I', 'teach', 'in', 'a', 'very', 'high', 'poverty', 'school.', 'Many', 'of...', '19983', 'I', 'work', 'with', 'approximately', '45', 'amazing', 'special', 'e...', '19984', 'My', 'students', 'are', 'amazing', 'with', 'sweet', 'little', 'spir...', '19985', 'I', 'have', 'approximately', '130', 'amazing', 'eighth', 'grade', '...', '19986', 'As', 'we', 'are', 'just', 'beginning', 'another', 'school', 'year,', '...', '19987', 'Our', '3rd', 'grade', 'class', 'consists', 'of', '25', 'bright', 'and', '...', '19988', 'My', 'students', 'struggle', 'with', 'difficult', 'circumstan...', '19989', 'My', 'students', 'work', 'hard', 'each', 'day', 'to', 'the', 'best', 'of', '...', '19990', 'I', 'am', 'a', 'teacher', 'in', 'a', 'low-income/high', 'poverty', 'sc...', '19991', 'There', 'are', '40', 'students', 'in', 'our', 'fifth', 'grade', 'that', '...', '19992', 'During', 'the', '2016-2017', 'school', 'year', 'I', 'am', 'teaching...', '19993', '\\\\\"Can', 'I', 'sit', 'in', 'your', 'spinning', 'chair?\\\\\"', 'My', 'kids...', '19994', 'My', 'students', 'are', 'brilliant,', 'enthusiastic,', 'hilar...', '19995', 'I', 'teach', 'pre-k.', 'I', 'have', '2', 'sessions', 'of', 'students,', '...', '19996', 'I', 'teach', 'an', 'amazing', 'group', 'of', 'fifth', 'graders', 'that...', '19997', 'Although', 'our', 'school', 'is', 'located', 'in', 'a', 'suburban', 'd...', '19998', 'Our', 'students', 'are', 'high-poverty,', 'high-needs,', 'and...', '19999', 'My', 'students', 'come', 'from', 'very', 'diverse', 'backgrounds...', '[20000', 'rows', 'x', '1', 'columns]']\n"
     ]
    }
   ],
   "source": [
    "project_data['essay'] = project_data[\"project_essay_1\"].map(str) +\\\n",
    "                        project_data[\"project_essay_2\"].map(str) + \\\n",
    "                        project_data[\"project_essay_3\"].map(str) + \\\n",
    "                        project_data[\"project_essay_4\"].map(str)\n",
    "essay = str (ps.DataFrame(project_data['essay']))\n",
    "print(essay)\n",
    "#fullEssay = str(essay)  \n",
    "\n",
    "print(essay.split())\n",
    "\n"
   ]
  },
  {
   "cell_type": "code",
   "execution_count": 85,
   "metadata": {},
   "outputs": [
    {
     "name": "stdout",
     "output_type": "stream",
     "text": [
      "(4, 1)\n"
     ]
    }
   ],
   "source": [
    "sentimetal = np. vstack([x,y,z,L])\n",
    "print(sentimetal.shape)"
   ]
  },
  {
   "cell_type": "code",
   "execution_count": 86,
   "metadata": {},
   "outputs": [
    {
     "name": "stdout",
     "output_type": "stream",
     "text": [
      "603\n",
      "(1, 1)\n",
      "(16000, 1)\n"
     ]
    }
   ],
   "source": [
    "length1 = []\n",
    "normalizer = Normalizer()\n",
    "for title in xTrain['essay']:\n",
    "\n",
    "    length = np.array(len(essay.split()))\n",
    "    length2 = length.reshape(-1,1)\n",
    "    length1.append(length2)\n",
    "\n",
    "print(length)\n",
    "normalizer.fit_transform(length)\n",
    "length = normalizer.transform(length)\n",
    "print(length2.shape)\n",
    "numerical1 = np.vstack(length1)\n",
    "print(numerical1.shape)"
   ]
  },
  {
   "cell_type": "code",
   "execution_count": 87,
   "metadata": {},
   "outputs": [
    {
     "name": "stdout",
     "output_type": "stream",
     "text": [
      "603\n",
      "(1, 1)\n",
      "(16000, 1)\n"
     ]
    }
   ],
   "source": [
    "length1_c = []\n",
    "normalizer = Normalizer()\n",
    "for title in xTrain_c['essay']:\n",
    "\n",
    "    length = np.array(len(essay.split()))\n",
    "    length2 = length.reshape(-1,1)\n",
    "    length1_c.append(length2)\n",
    "\n",
    "print(length)\n",
    "normalizer.fit_transform(length)\n",
    "length = normalizer.transform(length)\n",
    "print(length2.shape)\n",
    "numerical1_c = np.vstack(length1_c)\n",
    "print(numerical1.shape)"
   ]
  },
  {
   "cell_type": "code",
   "execution_count": 88,
   "metadata": {},
   "outputs": [
    {
     "name": "stdout",
     "output_type": "stream",
     "text": [
      "603\n",
      "(1, 1)\n",
      "(4000, 1)\n"
     ]
    }
   ],
   "source": [
    "length1_te = []\n",
    "normalizer = Normalizer()\n",
    "for title in xTest['essay']:\n",
    "\n",
    "    length = np.array(len(essay.split()))\n",
    "    length2 = length.reshape(-1,1)\n",
    "    length1_te.append(length2)\n",
    "\n",
    "print(length)\n",
    "normalizer.fit_transform(length)\n",
    "length = normalizer.transform(length)\n",
    "print(length2.shape)\n",
    "numerical1_te = np.vstack(length1_te)\n",
    "print(numerical1_te.shape)"
   ]
  },
  {
   "cell_type": "code",
   "execution_count": 89,
   "metadata": {},
   "outputs": [],
   "source": [
    "title1 = []\n",
    "for title in xTrain['project_title']:\n",
    "\n",
    "    b = np.array(len(title.split()))\n",
    "    b1 =  b.reshape(-1,1)\n",
    "    \n",
    "    title1.append(b1)\n",
    "#print(title1)\n",
    "numerical2 = np.vstack(title1)\n"
   ]
  },
  {
   "cell_type": "code",
   "execution_count": 90,
   "metadata": {},
   "outputs": [],
   "source": [
    "title1_c = []\n",
    "for title in xTrain_c['project_title']:\n",
    "\n",
    "    b = np.array(len(title.split()))\n",
    "    b1 =  b.reshape(-1,1)\n",
    "    \n",
    "    title1_c.append(b1)\n",
    "#print(title1)\n",
    "numerical2_c = np.vstack(title1_c)\n"
   ]
  },
  {
   "cell_type": "code",
   "execution_count": 91,
   "metadata": {},
   "outputs": [
    {
     "name": "stdout",
     "output_type": "stream",
     "text": [
      "(4000, 1)\n",
      "(16000, 1)\n",
      "(16000, 1)\n",
      "(16000, 1)\n",
      "(16000, 1)\n"
     ]
    }
   ],
   "source": [
    "title1_te = []\n",
    "for title in xTest['project_title']:\n",
    "\n",
    "    b = np.array(len(title.split()))\n",
    "    b1 =  b.reshape(-1,1)\n",
    "    \n",
    "    title1_te.append(b1)\n",
    "#print(title1)\n",
    "numerical2_te = np.vstack(title1_te)\n",
    "numerical_total_t = np.vstack((numerical1,numerical2))\n",
    "numerical_total_c = np.vstack((numerical1_c,numerical2_c))\n",
    "numerical_total_te = np.vstack((numerical1_te,numerical2_te))\n",
    "print(numerical2_te.shape)\n",
    "print(numerical1.shape)\n",
    "print(quant_projects_train.shape)\n",
    "print(price_projects_train.shape)\n",
    "print(prev_projects_train.shape)"
   ]
  },
  {
   "cell_type": "code",
   "execution_count": 92,
   "metadata": {},
   "outputs": [
    {
     "name": "stdout",
     "output_type": "stream",
     "text": [
      "(16000, 78)\n"
     ]
    }
   ],
   "source": [
    "numerical_features_t = hstack((numerical1,numerical2,quant_projects_train,price_projects_train,sub_categories_one_hot_train,categories_one_hot_train,teacher_prefix_categories_one_hot_train,project_grade_categories_one_hot_train))\n",
    "numerical_features_t = numerical_features_t.toarray()\n",
    "print(numerical_features_t.shape)"
   ]
  },
  {
   "cell_type": "code",
   "execution_count": 93,
   "metadata": {},
   "outputs": [
    {
     "name": "stdout",
     "output_type": "stream",
     "text": [
      "(12800, 78)\n"
     ]
    }
   ],
   "source": [
    "numerical_features_c = hstack((numerical1_c,numerical2_c,quant_projects_cv,price_projects_cv,sub_categories_one_hot_cv,categories_one_hot_cv,teacher_prefix_categories_one_hot_cv,project_grade_categories_one_hot_cv))\n",
    "numerical_features_c = numerical_features_c.toarray()\n",
    "print(numerical_features_c.shape)"
   ]
  },
  {
   "cell_type": "code",
   "execution_count": 94,
   "metadata": {},
   "outputs": [
    {
     "name": "stdout",
     "output_type": "stream",
     "text": [
      "(4000, 78)\n"
     ]
    }
   ],
   "source": [
    "numerical_features_te = hstack((numerical1_te,numerical2_te,quant_projects_test,price_projects_test,sub_categories_one_hot_test,categories_one_hot_test,teacher_prefix_categories_one_hot_test,project_grade_categories_one_hot_test))\n",
    "numerical_features_te = numerical_features_te.toarray()\n",
    "print(numerical_features_te.shape)"
   ]
  },
  {
   "cell_type": "code",
   "execution_count": 95,
   "metadata": {},
   "outputs": [
    {
     "data": {
      "image/png": "[encoded data removed]",
      "text/plain": [
       "<Figure size 432x288 with 1 Axes>"
      ]
     },
     "metadata": {},
     "output_type": "display_data"
    }
   ],
   "source": [
    "from sklearn.linear_model import LogisticRegression\n",
    "from sklearn import linear_model\n",
    "from sklearn.model_selection import RandomizedSearchCV\n",
    "from sklearn.linear_model import SGDClassifier\n",
    "#CLG = LogisticRegression()\n",
    "train_auc = []\n",
    "cv_auc = []\n",
    "k = [10**x for x in range (-4,4)]\n",
    "SGD=SGDClassifier(loss='log')\n",
    "\n",
    "parameters = {\n",
    "    'alpha':[10**x for x in range (-4,4)]\n",
    "}   \n",
    "clf_Rn = RandomizedSearchCV(SGD,param_distributions = parameters, n_iter=8, cv=5, scoring='roc_auc')\n",
    "clf_Rn.fit(numerical_features_t, yTrain)\n",
    "\n",
    "y_train_pred_n =  clf_Rn.predict_proba(numerical_features_t)[:,1]\n",
    "y_cv_pred_n =  clf_Rn.predict_proba(numerical_features_c)[:,1]\n",
    "    \n",
    "train_auc.append(roc_auc_score(yTrain,y_train_pred_n))\n",
    "cv_auc.append(roc_auc_score(yTrain_c, y_cv_pred_n))\n",
    "train_auc= clf_Rn.cv_results_['mean_train_score']\n",
    "train_auc_std= clf_Rn.cv_results_['std_train_score']\n",
    "cv_auc = clf_Rn.cv_results_['mean_test_score'] \n",
    "cv_auc_std= clf_Rn.cv_results_['std_test_score']\n",
    "\n",
    "plt.plot(k, train_auc, label='Train AUC')\n",
    "plt.gca().fill_between(k,train_auc - train_auc_std,train_auc + train_auc_std,alpha=0.2,color='darkblue')\n",
    "plt.plot(k, cv_auc, label='CV AUC')\n",
    "plt.gca().fill_between(k,cv_auc - cv_auc_std,cv_auc + cv_auc_std,alpha=0.2,color='darkorange')\n",
    "plt.legend()\n",
    "plt.xlabel(\"K: hyperparameter\")\n",
    "plt.ylabel(\"AUC\")\n",
    "plt.title(\"ERROR PLOTS\")\n",
    "plt.grid()\n",
    "plt.show()  "
   ]
  },
  {
   "cell_type": "code",
   "execution_count": 96,
   "metadata": {},
   "outputs": [
    {
     "name": "stdout",
     "output_type": "stream",
     "text": [
      "0.5361986720545084\n",
      "{'alpha': 0.0001}\n",
      "SGDClassifier(alpha=0.0001, average=False, class_weight=None, epsilon=0.1,\n",
      "       eta0=0.0, fit_intercept=True, l1_ratio=0.15,\n",
      "       learning_rate='optimal', loss='log', max_iter=None, n_iter=None,\n",
      "       n_jobs=1, penalty='l2', power_t=0.5, random_state=None,\n",
      "       shuffle=True, tol=None, verbose=0, warm_start=False)\n",
      "[1. 1. 1. ... 1. 1. 1.]\n"
     ]
    }
   ],
   "source": [
    "print(clf_Rn.best_score_)\n",
    "print(clf_Rn.best_params_)\n",
    "print(clf_Rn.best_estimator_)\n",
    "y_test_pred_n = clf_Rn.predict_proba(numerical_features_te)[:,1]\n",
    "print(y_test_pred_n)"
   ]
  },
  {
   "cell_type": "code",
   "execution_count": 98,
   "metadata": {},
   "outputs": [
    {
     "name": "stdout",
     "output_type": "stream",
     "text": [
      "[[0. 1.]\n",
      " [0. 1.]\n",
      " [0. 1.]\n",
      " ...\n",
      " [0. 1.]\n",
      " [0. 1.]\n",
      " [0. 1.]]\n"
     ]
    },
    {
     "data": {
      "image/png": "[encoded data removed]",
      "text/plain": [
       "<Figure size 432x288 with 1 Axes>"
      ]
     },
     "metadata": {},
     "output_type": "display_data"
    }
   ],
   "source": [
    "SGD=SGDClassifier(loss='log',alpha=0.0001)\n",
    "\n",
    "final1 = SGD.fit(numerical_features_t, yTrain)\n",
    "final = SGD.predict_proba(numerical_features_te)\n",
    "print(final)\n",
    "train_fpr1, train_tpr1, tr_thresholds1 = roc_curve(yTrain, y_train_pred_n)\n",
    "test_fpr1, test_tpr1, te_thresholds1 = roc_curve(yTest, y_test_pred_n)\n",
    "plt.plot(train_fpr1, train_tpr1, label=\"Train AUC =\"+str(auc(train_fpr1, train_tpr1)))\n",
    "plt.plot(test_fpr1, test_tpr1, label=\"Test AUC =\"+str(auc(test_fpr1, test_tpr1)))\n",
    "plt.legend()\n",
    "plt.xlabel(\"True Positive Rate(TPR)\")\n",
    "plt.ylabel(\"False Positive Rate(FPR)\")\n",
    "plt.title(\"AUC\")\n",
    "plt.grid()\n",
    "plt.show()"
   ]
  },
  {
   "cell_type": "markdown",
   "metadata": {},
   "source": [
    "# Observations"
   ]
  },
  {
   "cell_type": "markdown",
   "metadata": {},
   "source": [
    "1)From above plot we can say that ,the model performance was worst ,by using sentimental scores\n",
    "\n",
    "2)its neigther above or below the curve,"
   ]
  },
  {
   "cell_type": "code",
   "execution_count": 148,
   "metadata": {},
   "outputs": [
    {
     "name": "stdout",
     "output_type": "stream",
     "text": [
      "====================================================================================================\n",
      "the maximum value of tpr*(1-fpr) 0.4384645345287669 for threshold 0.787\n",
      "Train confusion matrix\n",
      "[[    0  2482]\n",
      " [    0 13518]]\n",
      "Test confusion matrix\n",
      "[[   0  567]\n",
      " [   0 3433]]\n"
     ]
    }
   ],
   "source": [
    "from sklearn.metrics import confusion_matrix\n",
    "# we are writing our own function for predict, with defined thresould\n",
    "# we will pick a threshold that will give the least fpr\n",
    "def find_best_threshold(threshould, fpr, tpr):\n",
    "    t = threshould[np.argmax(tpr*(1-fpr))]\n",
    "    # (tpr*(1-fpr)) will be maximum if your fpr is very low and tpr is very high\n",
    "    print(\"the maximum value of tpr*(1-fpr)\", max(tpr*(1-fpr)), \"for threshold\", np.round(t,3))\n",
    "    return t\n",
    "\n",
    "def predict_with_best_t(proba, threshould):\n",
    "    predictions = []\n",
    "    for i in proba:\n",
    "        if i>=threshould:\n",
    "            predictions.append(1)\n",
    "        else:\n",
    "            predictions.append(0)\n",
    "    return predictions\n",
    "print(\"=\"*100)\n",
    "from sklearn.metrics import confusion_matrix\n",
    "best_t_n = find_best_threshold(tr_thresholds, train_fpr1, train_tpr1)\n",
    "print(\"Train confusion matrix\")\n",
    "print(confusion_matrix(yTrain, predict_with_best_t(y_train_pred_n, best_t_n)))\n",
    "print(\"Test confusion matrix\")\n",
    "print(confusion_matrix(yTest, predict_with_best_t(y_test_pred_n, best_t_n)))"
   ]
  },
  {
   "cell_type": "code",
   "execution_count": 149,
   "metadata": {},
   "outputs": [
    {
     "name": "stdout",
     "output_type": "stream",
     "text": [
      "   actual values:NO  actual value:YES\n",
      "0                 0              2482\n",
      "1                 0             13518\n"
     ]
    },
    {
     "data": {
      "image/png": "[encoded data removed]",
      "text/plain": [
       "<Figure size 432x288 with 2 Axes>"
      ]
     },
     "metadata": {},
     "output_type": "display_data"
    }
   ],
   "source": [
    "heatmap_matrix = ps.DataFrame(confusion_matrix(yTrain, predict_with_best_t(y_train_pred_n, best_t_n)),columns=[\"actual values:NO\",'actual value:YES'])\n",
    "print(heatmap_matrix)\n",
    "sn.heatmap(heatmap_matrix,annot=True, fmt='g')  \n",
    "plt.show()"
   ]
  },
  {
   "cell_type": "code",
   "execution_count": 100,
   "metadata": {},
   "outputs": [
    {
     "name": "stdout",
     "output_type": "stream",
     "text": [
      "Loading Glove Model\n"
     ]
    },
    {
     "name": "stderr",
     "output_type": "stream",
     "text": [
      "400000it [01:31, 4368.64it/s]\n"
     ]
    },
    {
     "name": "stdout",
     "output_type": "stream",
     "text": [
      "Done. 400000  words loaded!\n"
     ]
    }
   ],
   "source": [
    "from tqdm import tqdm\n",
    "import pickle\n",
    "def loadGloveModel(gloveFile):\n",
    "    print (\"Loading Glove Model\")\n",
    "    f = open(gloveFile,'r', encoding=\"utf8\")\n",
    "    model = {}\n",
    "    for line in tqdm(f):\n",
    "        splitLine = line.split()\n",
    "        word = splitLine[0]\n",
    "        embedding = np.array([float(val) for val in splitLine[1:]])\n",
    "        model[word] = embedding\n",
    "    print (\"Done.\",len(model),\" words loaded!\")\n",
    "    return model\n",
    "model = loadGloveModel('glove.6B.300d.txt')\n",
    "with open('glove.6B.200d.txt', 'rb') as f:\n",
    "    \n",
    "   # model = pickle.load()\n",
    "    glove_words =  set(model.keys())"
   ]
  },
  {
   "cell_type": "code",
   "execution_count": 101,
   "metadata": {},
   "outputs": [
    {
     "name": "stderr",
     "output_type": "stream",
     "text": [
      "100%|██████████████████████████████████████████████████████████████████████████| 16000/16000 [00:11<00:00, 1336.23it/s]\n"
     ]
    },
    {
     "name": "stdout",
     "output_type": "stream",
     "text": [
      "16000\n",
      "300\n"
     ]
    }
   ],
   "source": [
    "avg_w2v_v_xtrain = []; # the avg-w2v for each sentence/review is stored in this list\n",
    "for sentence in tqdm(preprocessed_essays_x): # for each review/sentence\n",
    "    vector = np.zeros(300) # as word vectors are of zero length\n",
    "    cnt_words =0; # num of words with a valid vector in the sentence/review\n",
    "    for word in sentence.split(): # for each word in a review/sentence\n",
    "        if word in glove_words:\n",
    "            vector += model[word]\n",
    "            cnt_words += 1\n",
    "    if cnt_words != 0:\n",
    "        vector /= cnt_words\n",
    "    avg_w2v_v_xtrain.append(vector)\n",
    "print(len(avg_w2v_v_xtrain))\n",
    "print(len(avg_w2v_v_xtrain[0]))"
   ]
  },
  {
   "cell_type": "code",
   "execution_count": 102,
   "metadata": {},
   "outputs": [
    {
     "name": "stderr",
     "output_type": "stream",
     "text": [
      "100%|████████████████████████████████████████████████████████████████████████████| 4000/4000 [00:03<00:00, 1079.78it/s]\n"
     ]
    },
    {
     "name": "stdout",
     "output_type": "stream",
     "text": [
      "4000\n",
      "300\n"
     ]
    }
   ],
   "source": [
    "avg_w2v_v_xtest = []; # the avg-w2v for each sentence/review is stored in this list\n",
    "for sentence in tqdm(preprocessed_essays_xTest): # for each review/sentence\n",
    "    vector = np.zeros(300) # as word vectors are of zero length\n",
    "    cnt_words =0; # num of words with a valid vector in the sentence/review\n",
    "    for word in sentence.split(): # for each word in a review/sentence\n",
    "        if word in glove_words:\n",
    "            vector += model[word]\n",
    "            cnt_words += 1\n",
    "    if cnt_words != 0:\n",
    "        vector /= cnt_words\n",
    "    avg_w2v_v_xtest.append(vector)\n",
    "print(len(avg_w2v_v_xtest))\n",
    "print(len(avg_w2v_v_xtest[0]))"
   ]
  },
  {
   "cell_type": "code",
   "execution_count": 103,
   "metadata": {},
   "outputs": [
    {
     "name": "stderr",
     "output_type": "stream",
     "text": [
      "100%|██████████████████████████████████████████████████████████████████████████| 12800/12800 [00:07<00:00, 1639.65it/s]\n"
     ]
    },
    {
     "name": "stdout",
     "output_type": "stream",
     "text": [
      "12800\n",
      "300\n"
     ]
    }
   ],
   "source": [
    "avg_w2v_v_xcv = []; # the avg-w2v for each sentence/review is stored in this list\n",
    "for sentence in tqdm(preprocessed_essays_xc): # for each review/sentence\n",
    "    vector = np.zeros(300) # as word vectors are of zero length\n",
    "    cnt_words =0; # num of words with a valid vector in the sentence/review\n",
    "    for word in sentence.split(): # for each word in a review/sentence\n",
    "        if word in glove_words:\n",
    "            vector += model[word]\n",
    "            cnt_words += 1\n",
    "    if cnt_words != 0:\n",
    "        vector /= cnt_words\n",
    "    avg_w2v_v_xcv.append(vector)\n",
    "print(len(avg_w2v_v_xcv))\n",
    "print(len(avg_w2v_v_xcv[0]))"
   ]
  },
  {
   "cell_type": "code",
   "execution_count": 104,
   "metadata": {},
   "outputs": [
    {
     "name": "stderr",
     "output_type": "stream",
     "text": [
      "100%|███████████████████████████████████████████████████████████████████████████| 4000/4000 [00:00<00:00, 13945.12it/s]\n"
     ]
    },
    {
     "name": "stdout",
     "output_type": "stream",
     "text": [
      "4000\n",
      "300\n"
     ]
    }
   ],
   "source": [
    "avg_w2v_v_xt_title = []; # the avg-w2v for each sentence/review is stored in this list\n",
    "for sentence in tqdm(preprocessed_title_xt): # for each review/sentence\n",
    "    vector = np.zeros(300) # as word vectors are of zero length\n",
    "    cnt_words =0; # num of words with a valid vector in the sentence/review\n",
    "    for word in sentence.split(): # for each word in a review/sentence\n",
    "        if word in glove_words:\n",
    "            vector += model[word]\n",
    "            cnt_words += 1\n",
    "    if cnt_words != 0:\n",
    "        vector /= cnt_words\n",
    "    avg_w2v_v_xt_title.append(vector)\n",
    "print(len(avg_w2v_v_xt_title))\n",
    "print(len(avg_w2v_v_xt_title[0]))"
   ]
  },
  {
   "cell_type": "code",
   "execution_count": 105,
   "metadata": {},
   "outputs": [
    {
     "name": "stderr",
     "output_type": "stream",
     "text": [
      "100%|█████████████████████████████████████████████████████████████████████████| 16000/16000 [00:00<00:00, 21206.87it/s]\n"
     ]
    },
    {
     "name": "stdout",
     "output_type": "stream",
     "text": [
      "16000\n",
      "300\n"
     ]
    }
   ],
   "source": [
    "avg_w2v_v_xte_title = []; # the avg-w2v for each sentence/review is stored in this list\n",
    "for sentence in tqdm(preprocessed_title_xT): # for each review/sentence\n",
    "    vector = np.zeros(300) # as word vectors are of zero length\n",
    "    cnt_words =0; # num of words with a valid vector in the sentence/review\n",
    "    for word in sentence.split(): # for each word in a review/sentence\n",
    "        if word in glove_words:\n",
    "            vector += model[word]\n",
    "            cnt_words += 1\n",
    "    if cnt_words != 0:\n",
    "        vector /= cnt_words\n",
    "    avg_w2v_v_xte_title.append(vector)\n",
    "print(len(avg_w2v_v_xte_title))\n",
    "print(len(avg_w2v_v_xte_title[0]))"
   ]
  },
  {
   "cell_type": "code",
   "execution_count": 106,
   "metadata": {},
   "outputs": [
    {
     "name": "stderr",
     "output_type": "stream",
     "text": [
      "100%|█████████████████████████████████████████████████████████████████████████| 12800/12800 [00:00<00:00, 26545.89it/s]\n"
     ]
    },
    {
     "name": "stdout",
     "output_type": "stream",
     "text": [
      "12800\n",
      "300\n"
     ]
    }
   ],
   "source": [
    "avg_w2v_v_xcv_title = []; # the avg-w2v for each sentence/review is stored in this list\n",
    "for sentence in tqdm(preprocessed_title_xC): # for each review/sentence\n",
    "    vector = np.zeros(300) # as word vectors are of zero length\n",
    "    cnt_words =0; # num of words with a valid vector in the sentence/review\n",
    "    for word in sentence.split(): # for each word in a review/sentence\n",
    "        if word in glove_words:\n",
    "            vector += model[word]\n",
    "            cnt_words += 1\n",
    "    if cnt_words != 0:\n",
    "        vector /= cnt_words\n",
    "    avg_w2v_v_xcv_title.append(vector)\n",
    "print(len(avg_w2v_v_xcv_title))\n",
    "print(len(avg_w2v_v_xcv_title[0]))"
   ]
  },
  {
   "cell_type": "code",
   "execution_count": 128,
   "metadata": {},
   "outputs": [
    {
     "name": "stdout",
     "output_type": "stream",
     "text": [
      "(16000, 677)\n"
     ]
    }
   ],
   "source": [
    "from scipy.sparse import hstack\n",
    "features_tfid_av=hstack((quant_projects_train,price_projects_train,prev_projects_train,project_grade_categories_one_hot_train,categories_one_hot_train,teacher_prefix_categories_one_hot_train,sub_categories_one_hot_train,avg_w2v_v_xtrain,avg_w2v_v_xte_title)).tocsr()\n",
    "features_tfid_av = features_tfid_av.toarray()\n",
    "print(features_tfid_av.shape)"
   ]
  },
  {
   "cell_type": "code",
   "execution_count": 129,
   "metadata": {},
   "outputs": [
    {
     "name": "stdout",
     "output_type": "stream",
     "text": [
      "(12800, 677)\n"
     ]
    }
   ],
   "source": [
    "features_cv_av = hstack((quant_projects_cv,price_projects_cv,prev_projects_cv,project_grade_categories_one_hot_cv,categories_one_hot_cv,teacher_prefix_categories_one_hot_cv,sub_categories_one_hot_cv,avg_w2v_v_xcv,avg_w2v_v_xcv_title))\n",
    "features_cv_av = features_cv_av.toarray()\n",
    "print(features_cv_av.shape)"
   ]
  },
  {
   "cell_type": "code",
   "execution_count": 130,
   "metadata": {},
   "outputs": [
    {
     "name": "stdout",
     "output_type": "stream",
     "text": [
      "(4000, 677)\n"
     ]
    }
   ],
   "source": [
    "xTest_features_av = hstack((quant_projects_test,price_projects_test,prev_projects_test,project_grade_categories_one_hot_test,categories_one_hot_test,teacher_prefix_categories_one_hot_test,sub_categories_one_hot_test,avg_w2v_v_xtest,avg_w2v_v_xt_title)).tocsr()\n",
    "xTest_features_av = xTest_features_av.toarray()\n",
    "print(xTest_features_av.shape)"
   ]
  },
  {
   "cell_type": "code",
   "execution_count": 131,
   "metadata": {},
   "outputs": [
    {
     "data": {
      "image/png": "[encoded data removed]",
      "text/plain": [
       "<Figure size 432x288 with 1 Axes>"
      ]
     },
     "metadata": {},
     "output_type": "display_data"
    }
   ],
   "source": [
    "from sklearn.linear_model import LogisticRegression\n",
    "from sklearn import linear_model\n",
    "from sklearn.model_selection import RandomizedSearchCV\n",
    "from sklearn.linear_model import SGDClassifier\n",
    "train_auc_tfid = []\n",
    "cv_auc_tfid = []\n",
    "k = [10**x for x in range (-4,4)]\n",
    "SGD=SGDClassifier(loss='log')\n",
    "\n",
    "parameters = {\n",
    "    'alpha':[10**x for x in range (-4,4)]\n",
    "}   \n",
    "clf_av = RandomizedSearchCV(SGD,param_distributions = parameters, n_iter=8, cv=5, scoring='roc_auc')\n",
    "clf_av.fit(features_tfid_av, yTrain)\n",
    "\n",
    "y_train_pred1 =  clf_av.predict_proba(features_tfid_av)[:,1]\n",
    "y_cv_pred1 =  clf_av.predict_proba(features_cv_av)[:,1]\n",
    "    \n",
    "train_auc_tfid.append(roc_auc_score(yTrain,y_train_pred1))\n",
    "cv_auc_tfid.append(roc_auc_score(yTrain_c, y_cv_pred1))\n",
    "train_auc= clf_av.cv_results_['mean_train_score']\n",
    "train_auc_std= clf_av.cv_results_['std_train_score']\n",
    "cv_auc = clf_av.cv_results_['mean_test_score'] \n",
    "cv_auc_std= clf_av.cv_results_['std_test_score']\n",
    "\n",
    "plt.plot(k, train_auc, label='Train AUC')\n",
    "plt.gca().fill_between(k,train_auc - train_auc_std,train_auc + train_auc_std,alpha=0.2,color='darkblue')\n",
    "plt.plot(k, cv_auc, label='CV AUC')\n",
    "plt.gca().fill_between(k,cv_auc - cv_auc_std,cv_auc + cv_auc_std,alpha=0.2,color='darkorange')\n",
    "plt.legend()\n",
    "plt.xlabel(\"K: hyperparameter\")\n",
    "plt.ylabel(\"AUC\")\n",
    "plt.title(\"ERROR PLOTS\")\n",
    "plt.grid()\n",
    "plt.show()  "
   ]
  },
  {
   "cell_type": "code",
   "execution_count": 133,
   "metadata": {},
   "outputs": [
    {
     "name": "stdout",
     "output_type": "stream",
     "text": [
      "0.645594950890523\n",
      "{'alpha': 0.001}\n",
      "SGDClassifier(alpha=0.001, average=False, class_weight=None, epsilon=0.1,\n",
      "       eta0=0.0, fit_intercept=True, l1_ratio=0.15,\n",
      "       learning_rate='optimal', loss='log', max_iter=None, n_iter=None,\n",
      "       n_jobs=1, penalty='l2', power_t=0.5, random_state=None,\n",
      "       shuffle=True, tol=None, verbose=0, warm_start=False)\n"
     ]
    }
   ],
   "source": [
    "print(clf_av.best_score_)\n",
    "print(clf_av.best_params_)\n",
    "print(clf_av.best_estimator_)\n",
    "y_test_pred_tfid = clf_av.predict_proba(xTest_features_av)[:,1]"
   ]
  },
  {
   "cell_type": "code",
   "execution_count": 134,
   "metadata": {},
   "outputs": [
    {
     "name": "stdout",
     "output_type": "stream",
     "text": [
      "[[0.16220025 0.83779975]\n",
      " [0.19466904 0.80533096]\n",
      " [0.16137255 0.83862745]\n",
      " ...\n",
      " [0.31242969 0.68757031]\n",
      " [0.05185776 0.94814224]\n",
      " [0.45075375 0.54924625]]\n"
     ]
    },
    {
     "data": {
      "image/png": "[encoded data removed]",
      "text/plain": [
       "<Figure size 432x288 with 1 Axes>"
      ]
     },
     "metadata": {},
     "output_type": "display_data"
    }
   ],
   "source": [
    "SGD=SGDClassifier(loss='log',alpha=0.001)\n",
    "\n",
    "final1 = SGD.fit(features_tfid_av, yTrain)\n",
    "final = SGD.predict_proba(xTest_features_av)\n",
    "print(final)\n",
    "train_fpr1, train_tpr1, tr_thresholds1 = roc_curve(yTrain, y_train_pred1)\n",
    "test_fpr1, test_tpr1, te_thresholds1 = roc_curve(yTest, y_test_pred_tfid)\n",
    "plt.plot(train_fpr1, train_tpr1, label=\"Train AUC =\"+str(auc(train_fpr1, train_tpr1)))\n",
    "plt.plot(test_fpr1, test_tpr1, label=\"Test AUC =\"+str(auc(test_fpr1, test_tpr1)))\n",
    "plt.legend()\n",
    "plt.xlabel(\"True Positive Rate(TPR)\")\n",
    "plt.ylabel(\"False Positive Rate(FPR)\")\n",
    "plt.title(\"AUC\")\n",
    "plt.grid()\n",
    "plt.show()"
   ]
  },
  {
   "cell_type": "code",
   "execution_count": 150,
   "metadata": {},
   "outputs": [
    {
     "name": "stdout",
     "output_type": "stream",
     "text": [
      "====================================================================================================\n",
      "the maximum value of tpr*(1-fpr) 0.4384645345287669 for threshold 0.787\n",
      "Train confusion matrix\n",
      "[[ 1184  1298]\n",
      " [ 2575 10943]]\n",
      "Test confusion matrix\n",
      "[[  20  547]\n",
      " [  34 3399]]\n"
     ]
    }
   ],
   "source": [
    "from sklearn.metrics import confusion_matrix\n",
    "# we are writing our own function for predict, with defined thresould\n",
    "# we will pick a threshold that will give the least fpr\n",
    "def find_best_threshold(threshould, fpr, tpr):\n",
    "    t = threshould[np.argmax(tpr*(1-fpr))]\n",
    "    # (tpr*(1-fpr)) will be maximum if your fpr is very low and tpr is very high\n",
    "    print(\"the maximum value of tpr*(1-fpr)\", max(tpr*(1-fpr)), \"for threshold\", np.round(t,3))\n",
    "    return t\n",
    "\n",
    "def predict_with_best_t(proba, threshould):\n",
    "    predictions = []\n",
    "    for i in proba:\n",
    "        if i>=threshould:\n",
    "            predictions.append(1)\n",
    "        else:\n",
    "            predictions.append(0)\n",
    "    return predictions\n",
    "print(\"=\"*100)\n",
    "from sklearn.metrics import confusion_matrix\n",
    "best_t_tf = find_best_threshold(tr_thresholds, train_fpr1, train_tpr1)\n",
    "print(\"Train confusion matrix\")\n",
    "print(confusion_matrix(yTrain, predict_with_best_t(y_train_pred1, best_t_tf)))\n",
    "print(\"Test confusion matrix\")\n",
    "print(confusion_matrix(yTest, predict_with_best_t(y_test_pred_tfid, best_t_tf)))"
   ]
  },
  {
   "cell_type": "code",
   "execution_count": 151,
   "metadata": {},
   "outputs": [
    {
     "name": "stdout",
     "output_type": "stream",
     "text": [
      "   actual values:NO  actual value:YES\n",
      "0              1184              1298\n",
      "1              2575             10943\n"
     ]
    },
    {
     "data": {
      "image/png": "[encoded data removed]",
      "text/plain": [
       "<Figure size 432x288 with 2 Axes>"
      ]
     },
     "metadata": {},
     "output_type": "display_data"
    }
   ],
   "source": [
    "heatmap_matrix = ps.DataFrame(confusion_matrix(yTrain, predict_with_best_t(y_train_pred1, best_t_tf)),columns=[\"actual values:NO\",'actual value:YES'])\n",
    "print(heatmap_matrix)\n",
    "sn.heatmap(heatmap_matrix,annot=True, fmt='g')  \n",
    "plt.show()"
   ]
  },
  {
   "cell_type": "code",
   "execution_count": 108,
   "metadata": {},
   "outputs": [],
   "source": [
    "tfidf_model = TfidfVectorizer()\n",
    "tfidf_model.fit(preprocessed_essays_x)\n",
    "# we are converting a dictionary with word as a key, and the idf as a value\n",
    "dictionary = dict(zip(tfidf_model.get_feature_names(), list(tfidf_model.idf_)))\n",
    "tfidf_words_x = set(tfidf_model.get_feature_names())"
   ]
  },
  {
   "cell_type": "code",
   "execution_count": null,
   "metadata": {},
   "outputs": [],
   "source": []
  },
  {
   "cell_type": "code",
   "execution_count": 109,
   "metadata": {},
   "outputs": [
    {
     "name": "stderr",
     "output_type": "stream",
     "text": [
      "100%|███████████████████████████████████████████████████████████████████████████| 16000/16000 [01:07<00:00, 236.30it/s]\n"
     ]
    },
    {
     "name": "stdout",
     "output_type": "stream",
     "text": [
      "16000\n",
      "300\n"
     ]
    }
   ],
   "source": [
    "tfidf_w2v_v_xTr = []; # the avg-w2v for each sentence/review is stored in this list\n",
    "for sentence in tqdm(preprocessed_essays_x): # for each review/sentence\n",
    "    vector = np.zeros(300) # as word vectors are of zero length\n",
    "    tf_idf_weight =0; # num of words with a valid vector in the sentence/review\n",
    "    for word in sentence.split(): # for each word in a review/sentence\n",
    "        if (word in glove_words) and (word in tfidf_words_x):\n",
    "            vec = model[word] # getting the vector for each word\n",
    "            # here we are multiplying idf value(dictionary[word]) and the tf value((sentence.count(word)/len(sentence.split())))\n",
    "            tf_idf = dictionary[word]*(sentence.count(word)/len(sentence.split())) # getting the tfidf value for each word\n",
    "            vector += (vec * tf_idf) # calculating tfidf weighted w2v\n",
    "            tf_idf_weight += tf_idf\n",
    "    if tf_idf_weight != 0:\n",
    "        vector /= tf_idf_weight\n",
    "    tfidf_w2v_v_xTr.append(vector)\n",
    "\n",
    "print(len(tfidf_w2v_v_xTr))\n",
    "print(len(tfidf_w2v_v_xTr[0]))"
   ]
  },
  {
   "cell_type": "code",
   "execution_count": 110,
   "metadata": {},
   "outputs": [],
   "source": [
    "tfidf_model = TfidfVectorizer()\n",
    "tfidf_model.fit(preprocessed_essays_xTest)\n",
    "# we are converting a dictionary with word as a key, and the idf as a value\n",
    "dictionary = dict(zip(tfidf_model.get_feature_names(), list(tfidf_model.idf_)))\n",
    "tfidf_words_xtest = set(tfidf_model.get_feature_names())"
   ]
  },
  {
   "cell_type": "code",
   "execution_count": 111,
   "metadata": {},
   "outputs": [
    {
     "name": "stderr",
     "output_type": "stream",
     "text": [
      "100%|█████████████████████████████████████████████████████████████████████████████| 4000/4000 [00:17<00:00, 223.68it/s]\n"
     ]
    },
    {
     "name": "stdout",
     "output_type": "stream",
     "text": [
      "4000\n",
      "300\n"
     ]
    }
   ],
   "source": [
    "tfidf_w2v_v_xTe = []; # the avg-w2v for each sentence/review is stored in this list\n",
    "for sentence in tqdm(preprocessed_essays_xTest): # for each review/sentence\n",
    "    vector = np.zeros(300) # as word vectors are of zero length\n",
    "    tf_idf_weight =0; # num of words with a valid vector in the sentence/review\n",
    "    for word in sentence.split(): # for each word in a review/sentence\n",
    "        if (word in glove_words) and (word in tfidf_words_xtest):\n",
    "            vec = model[word] # getting the vector for each word\n",
    "            # here we are multiplying idf value(dictionary[word]) and the tf value((sentence.count(word)/len(sentence.split())))\n",
    "            tf_idf = dictionary[word]*(sentence.count(word)/len(sentence.split())) # getting the tfidf value for each word\n",
    "            vector += (vec * tf_idf) # calculating tfidf weighted w2v\n",
    "            tf_idf_weight += tf_idf\n",
    "    if tf_idf_weight != 0:\n",
    "        vector /= tf_idf_weight\n",
    "    tfidf_w2v_v_xTe.append(vector)\n",
    "\n",
    "print(len(tfidf_w2v_v_xTe))\n",
    "print(len(tfidf_w2v_v_xTe[0]))"
   ]
  },
  {
   "cell_type": "code",
   "execution_count": 112,
   "metadata": {},
   "outputs": [],
   "source": [
    "tfidf_model = TfidfVectorizer()\n",
    "tfidf_model.fit(preprocessed_essays_xc)\n",
    "# we are converting a dictionary with word as a key, and the idf as a value\n",
    "dictionary = dict(zip(tfidf_model.get_feature_names(), list(tfidf_model.idf_)))\n",
    "tfidf_words_xc = set(tfidf_model.get_feature_names())"
   ]
  },
  {
   "cell_type": "code",
   "execution_count": 113,
   "metadata": {},
   "outputs": [
    {
     "name": "stderr",
     "output_type": "stream",
     "text": [
      "100%|███████████████████████████████████████████████████████████████████████████| 12800/12800 [00:53<00:00, 237.14it/s]\n"
     ]
    },
    {
     "name": "stdout",
     "output_type": "stream",
     "text": [
      "12800\n",
      "300\n"
     ]
    }
   ],
   "source": [
    "tfidf_w2v_v_xcv = []; # the avg-w2v for each sentence/review is stored in this list\n",
    "for sentence in tqdm(preprocessed_essays_xc): # for each review/sentence\n",
    "    vector = np.zeros(300) # as word vectors are of zero length\n",
    "    tf_idf_weight =0; # num of words with a valid vector in the sentence/review\n",
    "    for word in sentence.split(): # for each word in a review/sentence\n",
    "        if (word in glove_words) and (word in tfidf_words_xc):\n",
    "            vec = model[word] # getting the vector for each word\n",
    "            # here we are multiplying idf value(dictionary[word]) and the tf value((sentence.count(word)/len(sentence.split())))\n",
    "            tf_idf = dictionary[word]*(sentence.count(word)/len(sentence.split())) # getting the tfidf value for each word\n",
    "            vector += (vec * tf_idf) # calculating tfidf weighted w2v\n",
    "            tf_idf_weight += tf_idf\n",
    "    if tf_idf_weight != 0:\n",
    "        vector /= tf_idf_weight\n",
    "    tfidf_w2v_v_xcv.append(vector)\n",
    "\n",
    "print(len(tfidf_w2v_v_xcv))\n",
    "print(len(tfidf_w2v_v_xcv[0]))"
   ]
  },
  {
   "cell_type": "code",
   "execution_count": 114,
   "metadata": {},
   "outputs": [],
   "source": [
    "tfidf_model = TfidfVectorizer()\n",
    "tfidf_model.fit(preprocessed_title_xt)\n",
    "# we are converting a dictionary with word as a key, and the idf as a value\n",
    "dictionary = dict(zip(tfidf_model.get_feature_names(), list(tfidf_model.idf_)))\n",
    "tfidf_words_xt = set(tfidf_model.get_feature_names())"
   ]
  },
  {
   "cell_type": "code",
   "execution_count": 115,
   "metadata": {},
   "outputs": [
    {
     "name": "stderr",
     "output_type": "stream",
     "text": [
      "100%|███████████████████████████████████████████████████████████████████████████| 4000/4000 [00:00<00:00, 15046.39it/s]\n"
     ]
    },
    {
     "name": "stdout",
     "output_type": "stream",
     "text": [
      "4000\n",
      "300\n"
     ]
    }
   ],
   "source": [
    "tfidf_w2v_v_xTr_t = []; # the avg-w2v for each sentence/review is stored in this list\n",
    "for sentence in tqdm(preprocessed_title_xt): # for each review/sentence\n",
    "    vector = np.zeros(300) # as word vectors are of zero length\n",
    "    tf_idf_weight =0; # num of words with a valid vector in the sentence/review\n",
    "    for word in sentence.split(): # for each word in a review/sentence\n",
    "        if (word in glove_words) and (word in tfidf_words_xt):\n",
    "            vec = model[word] # getting the vector for each word\n",
    "            # here we are multiplying idf value(dictionary[word]) and the tf value((sentence.count(word)/len(sentence.split())))\n",
    "            tf_idf = dictionary[word]*(sentence.count(word)/len(sentence.split())) # getting the tfidf value for each word\n",
    "            vector += (vec * tf_idf) # calculating tfidf weighted w2v\n",
    "            tf_idf_weight += tf_idf\n",
    "    if tf_idf_weight != 0:\n",
    "        vector /= tf_idf_weight\n",
    "    tfidf_w2v_v_xTr_t.append(vector)\n",
    "\n",
    "print(len(tfidf_w2v_v_xTr_t))\n",
    "print(len(tfidf_w2v_v_xTr_t[0]))"
   ]
  },
  {
   "cell_type": "code",
   "execution_count": 116,
   "metadata": {},
   "outputs": [],
   "source": [
    "tfidf_model = TfidfVectorizer()\n",
    "tfidf_model.fit(preprocessed_title_xT)\n",
    "# we are converting a dictionary with word as a key, and the idf as a value\n",
    "dictionary = dict(zip(tfidf_model.get_feature_names(), list(tfidf_model.idf_)))\n",
    "tfidf_words_xT = set(tfidf_model.get_feature_names())"
   ]
  },
  {
   "cell_type": "code",
   "execution_count": 117,
   "metadata": {},
   "outputs": [
    {
     "name": "stderr",
     "output_type": "stream",
     "text": [
      "100%|█████████████████████████████████████████████████████████████████████████| 16000/16000 [00:01<00:00, 14809.57it/s]\n"
     ]
    },
    {
     "name": "stdout",
     "output_type": "stream",
     "text": [
      "16000\n",
      "300\n"
     ]
    }
   ],
   "source": [
    "tfidf_w2v_v_xTe_ti = []; # the avg-w2v for each sentence/review is stored in this list\n",
    "for sentence in tqdm(preprocessed_title_xT): # for each review/sentence\n",
    "    vector = np.zeros(300) # as word vectors are of zero length\n",
    "    tf_idf_weight =0; # num of words with a valid vector in the sentence/review\n",
    "    for word in sentence.split(): # for each word in a review/sentence\n",
    "        if (word in glove_words) and (word in tfidf_words_xT):\n",
    "            vec = model[word] # getting the vector for each word\n",
    "            # here we are multiplying idf value(dictionary[word]) and the tf value((sentence.count(word)/len(sentence.split())))\n",
    "            tf_idf = dictionary[word]*(sentence.count(word)/len(sentence.split())) # getting the tfidf value for each word\n",
    "            vector += (vec * tf_idf) # calculating tfidf weighted w2v\n",
    "            tf_idf_weight += tf_idf\n",
    "    if tf_idf_weight != 0:\n",
    "        vector /= tf_idf_weight\n",
    "    tfidf_w2v_v_xTe_ti.append(vector)\n",
    "\n",
    "print(len(tfidf_w2v_v_xTe_ti))\n",
    "print(len(tfidf_w2v_v_xTe_ti[0]))"
   ]
  },
  {
   "cell_type": "code",
   "execution_count": 118,
   "metadata": {},
   "outputs": [],
   "source": [
    "tfidf_model = TfidfVectorizer()\n",
    "tfidf_model.fit(preprocessed_title_xC)\n",
    "# we are converting a dictionary with word as a key, and the idf as a value\n",
    "dictionary = dict(zip(tfidf_model.get_feature_names(), list(tfidf_model.idf_)))\n",
    "tfidf_words_xC = set(tfidf_model.get_feature_names())"
   ]
  },
  {
   "cell_type": "code",
   "execution_count": 119,
   "metadata": {},
   "outputs": [
    {
     "name": "stderr",
     "output_type": "stream",
     "text": [
      "100%|██████████████████████████████████████████████████████████████████████████| 12800/12800 [00:01<00:00, 8584.01it/s]\n"
     ]
    },
    {
     "name": "stdout",
     "output_type": "stream",
     "text": [
      "12800\n",
      "300\n"
     ]
    }
   ],
   "source": [
    "tfidf_w2v_v_xcv_ti = []; # the avg-w2v for each sentence/review is stored in this list\n",
    "for sentence in tqdm(preprocessed_title_xC): # for each review/sentence\n",
    "    vector = np.zeros(300) # as word vectors are of zero length\n",
    "    tf_idf_weight =0; # num of words with a valid vector in the sentence/review\n",
    "    for word in sentence.split(): # for each word in a review/sentence\n",
    "        if (word in glove_words) and (word in tfidf_words_xC):\n",
    "            vec = model[word] # getting the vector for each word\n",
    "            # here we are multiplying idf value(dictionary[word]) and the tf value((sentence.count(word)/len(sentence.split())))\n",
    "            tf_idf = dictionary[word]*(sentence.count(word)/len(sentence.split())) # getting the tfidf value for each word\n",
    "            vector += (vec * tf_idf) # calculating tfidf weighted w2v\n",
    "            tf_idf_weight += tf_idf\n",
    "    if tf_idf_weight != 0:\n",
    "        vector /= tf_idf_weight\n",
    "    tfidf_w2v_v_xcv_ti.append(vector)\n",
    "\n",
    "print(len(tfidf_w2v_v_xcv_ti))\n",
    "print(len(tfidf_w2v_v_xcv_ti[0]))"
   ]
  },
  {
   "cell_type": "code",
   "execution_count": 137,
   "metadata": {},
   "outputs": [
    {
     "name": "stdout",
     "output_type": "stream",
     "text": [
      "(16000, 677)\n"
     ]
    }
   ],
   "source": [
    "from scipy.sparse import hstack\n",
    "features_tfid_w2v=hstack((quant_projects_train,price_projects_train,prev_projects_train,project_grade_categories_one_hot_train,categories_one_hot_train,teacher_prefix_categories_one_hot_train,sub_categories_one_hot_train,tfidf_w2v_v_xTr,tfidf_w2v_v_xTe_ti)).tocsr()\n",
    "features_tfid_av = features_tfid_w2v.toarray()\n",
    "print(features_tfid_w2v.shape)"
   ]
  },
  {
   "cell_type": "code",
   "execution_count": 140,
   "metadata": {},
   "outputs": [
    {
     "name": "stdout",
     "output_type": "stream",
     "text": [
      "(12800, 677)\n"
     ]
    }
   ],
   "source": [
    "features_cv_w2v = hstack((quant_projects_cv,price_projects_cv,prev_projects_cv,project_grade_categories_one_hot_cv,categories_one_hot_cv,teacher_prefix_categories_one_hot_cv,sub_categories_one_hot_cv,tfidf_w2v_v_xcv ,tfidf_w2v_v_xcv_ti))\n",
    "features_cv_w2v = features_cv_w2v.toarray()\n",
    "print(features_cv_av.shape)"
   ]
  },
  {
   "cell_type": "code",
   "execution_count": 141,
   "metadata": {},
   "outputs": [
    {
     "name": "stdout",
     "output_type": "stream",
     "text": [
      "(4000, 677)\n"
     ]
    }
   ],
   "source": [
    "xTest_features_w2v = hstack((quant_projects_test,price_projects_test,prev_projects_test,project_grade_categories_one_hot_test,categories_one_hot_test,teacher_prefix_categories_one_hot_test,sub_categories_one_hot_test,tfidf_w2v_v_xTe,tfidf_w2v_v_xTr_t)).tocsr()\n",
    "xTest_features_w2v = xTest_features_w2v.toarray()\n",
    "print(xTest_features_w2v.shape)"
   ]
  },
  {
   "cell_type": "code",
   "execution_count": 145,
   "metadata": {},
   "outputs": [
    {
     "data": {
      "image/png": "[encoded data removed]",
      "text/plain": [
       "<Figure size 432x288 with 1 Axes>"
      ]
     },
     "metadata": {},
     "output_type": "display_data"
    }
   ],
   "source": [
    "from sklearn.linear_model import LogisticRegression\n",
    "from sklearn import linear_model\n",
    "from sklearn.model_selection import RandomizedSearchCV\n",
    "from sklearn.linear_model import SGDClassifier\n",
    "train_auc_tfid = []\n",
    "cv_auc_tfid = []\n",
    "k = [10**x for x in range (-4,4)]\n",
    "SGD=SGDClassifier(loss='log')\n",
    "\n",
    "parameters = {\n",
    "    'alpha':[10**x for x in range (-4,4)]\n",
    "}   \n",
    "clf_w2v = RandomizedSearchCV(SGD,param_distributions = parameters, n_iter=8, cv=5, scoring='roc_auc')\n",
    "clf_w2v.fit(features_tfid_w2v, yTrain)\n",
    "\n",
    "y_train_pred1_w2v =  clf_w2v.predict_proba(features_tfid_w2v)[:,1]\n",
    "y_cv_pred1_w2v =  clf_w2v.predict_proba(features_cv_w2v)[:,1]\n",
    "    \n",
    "train_auc_tfid.append(roc_auc_score(yTrain,y_train_pred1_w2v))\n",
    "cv_auc_tfid.append(roc_auc_score(yTrain_c, y_cv_pred1_w2v))\n",
    "train_auc= clf_w2v.cv_results_['mean_train_score']\n",
    "train_auc_std= clf_w2v.cv_results_['std_train_score']\n",
    "cv_auc = clf_w2v.cv_results_['mean_test_score'] \n",
    "cv_auc_std= clf_w2v.cv_results_['std_test_score']\n",
    "\n",
    "plt.plot(k, train_auc, label='Train AUC')\n",
    "plt.gca().fill_between(k,train_auc - train_auc_std,train_auc + train_auc_std,alpha=0.2,color='darkblue')\n",
    "plt.plot(k, cv_auc, label='CV AUC')\n",
    "plt.gca().fill_between(k,cv_auc - cv_auc_std,cv_auc + cv_auc_std,alpha=0.2,color='darkorange')\n",
    "plt.legend()\n",
    "plt.xlabel(\"K: hyperparameter\")\n",
    "plt.ylabel(\"AUC\")\n",
    "plt.title(\"ERROR PLOTS\")\n",
    "plt.grid()\n",
    "plt.show()  "
   ]
  },
  {
   "cell_type": "code",
   "execution_count": 146,
   "metadata": {},
   "outputs": [
    {
     "name": "stdout",
     "output_type": "stream",
     "text": [
      "0.6562264301564743\n",
      "{'alpha': 0.001}\n",
      "SGDClassifier(alpha=0.001, average=False, class_weight=None, epsilon=0.1,\n",
      "       eta0=0.0, fit_intercept=True, l1_ratio=0.15,\n",
      "       learning_rate='optimal', loss='log', max_iter=None, n_iter=None,\n",
      "       n_jobs=1, penalty='l2', power_t=0.5, random_state=None,\n",
      "       shuffle=True, tol=None, verbose=0, warm_start=False)\n"
     ]
    }
   ],
   "source": [
    "print(clf_w2v.best_score_)\n",
    "print(clf_w2v.best_params_)\n",
    "print(clf_w2v.best_estimator_)\n",
    "y_test_pred_w2v = clf_av.predict_proba(xTest_features_w2v)[:,1]"
   ]
  },
  {
   "cell_type": "code",
   "execution_count": 147,
   "metadata": {},
   "outputs": [
    {
     "name": "stdout",
     "output_type": "stream",
     "text": [
      "[[0.16579985 0.83420015]\n",
      " [0.207785   0.792215  ]\n",
      " [0.17684612 0.82315388]\n",
      " ...\n",
      " [0.46251709 0.53748291]\n",
      " [0.11122621 0.88877379]\n",
      " [0.48922164 0.51077836]]\n"
     ]
    },
    {
     "data": {
      "image/png": "[encoded data removed]",
      "text/plain": [
       "<Figure size 432x288 with 1 Axes>"
      ]
     },
     "metadata": {},
     "output_type": "display_data"
    }
   ],
   "source": [
    "SGD=SGDClassifier(loss='log',alpha=0.001)\n",
    "\n",
    "final1 = SGD.fit(features_tfid_av, yTrain)\n",
    "final = SGD.predict_proba(xTest_features_w2v)\n",
    "print(final)\n",
    "train_fpr1, train_tpr1, tr_thresholds1 = roc_curve(yTrain, y_train_pred1_w2v)\n",
    "test_fpr1, test_tpr1, te_thresholds1 = roc_curve(yTest, y_test_pred_w2v)\n",
    "plt.plot(train_fpr1, train_tpr1, label=\"Train AUC =\"+str(auc(train_fpr1, train_tpr1)))\n",
    "plt.plot(test_fpr1, test_tpr1, label=\"Test AUC =\"+str(auc(test_fpr1, test_tpr1)))\n",
    "plt.legend()\n",
    "plt.xlabel(\"True Positive Rate(TPR)\")\n",
    "plt.ylabel(\"False Positive Rate(FPR)\")\n",
    "plt.title(\"AUC\")\n",
    "plt.grid()\n",
    "plt.show()"
   ]
  },
  {
   "cell_type": "code",
   "execution_count": 152,
   "metadata": {},
   "outputs": [
    {
     "name": "stdout",
     "output_type": "stream",
     "text": [
      "====================================================================================================\n",
      "the maximum value of tpr*(1-fpr) 0.4384645345287669 for threshold 0.787\n",
      "Train confusion matrix\n",
      "[[1698  784]\n",
      " [4912 8606]]\n",
      "Test confusion matrix\n",
      "[[  20  547]\n",
      " [  34 3399]]\n"
     ]
    }
   ],
   "source": [
    "from sklearn.metrics import confusion_matrix\n",
    "# we are writing our own function for predict, with defined thresould\n",
    "# we will pick a threshold that will give the least fpr\n",
    "def find_best_threshold(threshould, fpr, tpr):\n",
    "    t = threshould[np.argmax(tpr*(1-fpr))]\n",
    "    # (tpr*(1-fpr)) will be maximum if your fpr is very low and tpr is very high\n",
    "    print(\"the maximum value of tpr*(1-fpr)\", max(tpr*(1-fpr)), \"for threshold\", np.round(t,3))\n",
    "    return t\n",
    "\n",
    "def predict_with_best_t(proba, threshould):\n",
    "    predictions = []\n",
    "    for i in proba:\n",
    "        if i>=threshould:\n",
    "            predictions.append(1)\n",
    "        else:\n",
    "            predictions.append(0)\n",
    "    return predictions\n",
    "print(\"=\"*100)\n",
    "from sklearn.metrics import confusion_matrix\n",
    "best_t_tf = find_best_threshold(tr_thresholds, train_fpr1, train_tpr1)\n",
    "print(\"Train confusion matrix\")\n",
    "print(confusion_matrix(yTrain, predict_with_best_t(y_train_pred1_w2v, best_t_tf)))\n",
    "print(\"Test confusion matrix\")\n",
    "print(confusion_matrix(yTest, predict_with_best_t(y_test_pred_w2v, best_t_tf)))"
   ]
  },
  {
   "cell_type": "code",
   "execution_count": 153,
   "metadata": {},
   "outputs": [
    {
     "name": "stdout",
     "output_type": "stream",
     "text": [
      "   actual values:NO  actual value:YES\n",
      "0              1698               784\n",
      "1              4912              8606\n"
     ]
    },
    {
     "data": {
      "image/png": "[encoded data removed]",
      "text/plain": [
       "<Figure size 432x288 with 2 Axes>"
      ]
     },
     "metadata": {},
     "output_type": "display_data"
    }
   ],
   "source": [
    "heatmap_matrix = ps.DataFrame(confusion_matrix(yTrain, predict_with_best_t(y_train_pred1_w2v, best_t_tf)),columns=[\"actual values:NO\",'actual value:YES'])\n",
    "print(heatmap_matrix)\n",
    "sn.heatmap(heatmap_matrix,annot=True, fmt='g')  \n",
    "plt.show()"
   ]
  },
  {
   "cell_type": "code",
   "execution_count": 156,
   "metadata": {},
   "outputs": [
    {
     "name": "stdout",
     "output_type": "stream",
     "text": [
      "+--------------------+-------+-----------------+------+\n",
      "|     Vectorizer     | Model | Hyper Parameter | AUC  |\n",
      "+--------------------+-------+-----------------+------+\n",
      "|        BOW         | Brute |        1        | 0.5  |\n",
      "|       TFIDF        | Brute |        1        | 0.66 |\n",
      "|        w2v         | Brute |        1        | 0.66 |\n",
      "|     tfidf_w2v      | Brute |        1        | 0.66 |\n",
      "| Numerical features | Brute |        1        | 0.5  |\n",
      "+--------------------+-------+-----------------+------+\n"
     ]
    }
   ],
   "source": [
    "from prettytable import PrettyTable\n",
    "#If you get a ModuleNotFoundError error , install prettytable using: pip3 install prettytable\n",
    "x = PrettyTable()\n",
    "x.field_names = [\"Vectorizer\", \"Model\", \"Hyper Parameter\", \"AUC\"]\n",
    "x.add_row([\"BOW\", \"Brute\", 1, 0.50])\n",
    "x.add_row([\"TFIDF\", \"Brute\", 1, 0.66])\n",
    "x.add_row(['w2v','Brute',1,0.66])\n",
    "x.add_row(['tfidf_w2v','Brute',1,0.66])\n",
    "x.add_row(['Numerical features','Brute',1,0.5])\n",
    "print(x)"
   ]
  },
  {
   "cell_type": "code",
   "execution_count": null,
   "metadata": {},
   "outputs": [],
   "source": []
  }
 ],
 "metadata": {
  "kernelspec": {
   "display_name": "Python 3",
   "language": "python",
   "name": "python3"
  },
  "language_info": {
   "codemirror_mode": {
    "name": "ipython",
    "version": 3
   },
   "file_extension": ".py",
   "mimetype": "text/x-python",
   "name": "python",
   "nbconvert_exporter": "python",
   "pygments_lexer": "ipython3",
   "version": "3.6.5"
  }
 },
 "nbformat": 4,
 "nbformat_minor": 2
}
