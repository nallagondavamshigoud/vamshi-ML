{
 "cells": [
  {
   "cell_type": "markdown",
   "metadata": {},
   "source": [
    "SGD is an update function,i.e it updates the weights base on loss.\n",
    "SGD is a simple and iterrative alogarithm to use in every alogarithms,its an optimization alogarithm which minimise the loss formula for SGD : wl = wl-1 - d/dx[w1-1]"
   ]
  },
  {
   "cell_type": "code",
   "execution_count": 6,
   "metadata": {},
   "outputs": [],
   "source": [
    "import warnings \n",
    "warnings.filterwarnings(\"ignore\")"
   ]
  },
  {
   "cell_type": "code",
   "execution_count": 2,
   "metadata": {},
   "outputs": [
    {
     "name": "stderr",
     "output_type": "stream",
     "text": [
      "C:\\Users\\vamshi goud\\Anaconda3\\lib\\site-packages\\sklearn\\cross_validation.py:41: DeprecationWarning: This module was deprecated in version 0.18 in favor of the model_selection module into which all the refactored classes and functions are moved. Also note that the interface of the new CV iterators are different from that of this module. This module will be removed in 0.20.\n",
      "  \"This module will be removed in 0.20.\", DeprecationWarning)\n"
     ]
    }
   ],
   "source": [
    "import pandas as pd\n",
    "import numpy as np\n",
    "import matplotlib.pyplot as plt\n",
    "import seaborn as sn\n",
    "from sklearn import preprocessing\n",
    "import nltk\n",
    "from sklearn.linear_model import SGDRegressor\n",
    "from sklearn.metrics import confusion_matrix,roc_auc_score,roc_curve,scorer,auc\n",
    "from sklearn.cross_validation import cross_val_score,cross_val_predict,train_test_split\n",
    "\n",
    "import pickle\n",
    "from sklearn.preprocessing import Normalizer\n",
    "from tqdm import tqdm\n",
    "from sklearn.datasets import load_boston\n",
    "import os\n",
    "from sklearn.metrics import mean_squared_error,mean_absolute_error"
   ]
  },
  {
   "cell_type": "code",
   "execution_count": 3,
   "metadata": {},
   "outputs": [],
   "source": [
    "boston_data=pd.DataFrame(load_boston().data,columns=load_boston().feature_names)\n",
    "Y=load_boston().target\n",
    "X=load_boston().data\n",
    "x_train,x_test,y_train,y_test=train_test_split(X,Y,test_size=0.3)"
   ]
  },
  {
   "cell_type": "code",
   "execution_count": 4,
   "metadata": {},
   "outputs": [
    {
     "data": {
      "text/html": [
       "<div>\n",
       "<style scoped>\n",
       "    .dataframe tbody tr th:only-of-type {\n",
       "        vertical-align: middle;\n",
       "    }\n",
       "\n",
       "    .dataframe tbody tr th {\n",
       "        vertical-align: top;\n",
       "    }\n",
       "\n",
       "    .dataframe thead th {\n",
       "        text-align: right;\n",
       "    }\n",
       "</style>\n",
       "<table border=\"1\" class=\"dataframe\">\n",
       "  <thead>\n",
       "    <tr style=\"text-align: right;\">\n",
       "      <th></th>\n",
       "      <th>0</th>\n",
       "      <th>1</th>\n",
       "      <th>2</th>\n",
       "      <th>3</th>\n",
       "      <th>4</th>\n",
       "      <th>5</th>\n",
       "      <th>6</th>\n",
       "      <th>7</th>\n",
       "      <th>8</th>\n",
       "      <th>9</th>\n",
       "      <th>10</th>\n",
       "      <th>11</th>\n",
       "      <th>12</th>\n",
       "      <th>price</th>\n",
       "    </tr>\n",
       "  </thead>\n",
       "  <tbody>\n",
       "    <tr>\n",
       "      <th>0</th>\n",
       "      <td>2.835282</td>\n",
       "      <td>-0.491225</td>\n",
       "      <td>0.992307</td>\n",
       "      <td>-0.263603</td>\n",
       "      <td>0.862018</td>\n",
       "      <td>-3.087961</td>\n",
       "      <td>1.097588</td>\n",
       "      <td>-1.233393</td>\n",
       "      <td>1.651706</td>\n",
       "      <td>1.519023</td>\n",
       "      <td>0.814208</td>\n",
       "      <td>0.136578</td>\n",
       "      <td>1.511147</td>\n",
       "      <td>11.9</td>\n",
       "    </tr>\n",
       "    <tr>\n",
       "      <th>1</th>\n",
       "      <td>-0.463893</td>\n",
       "      <td>0.442318</td>\n",
       "      <td>-0.770731</td>\n",
       "      <td>-0.263603</td>\n",
       "      <td>-1.060199</td>\n",
       "      <td>-1.006243</td>\n",
       "      <td>0.272097</td>\n",
       "      <td>1.977410</td>\n",
       "      <td>-0.303056</td>\n",
       "      <td>-0.486713</td>\n",
       "      <td>0.301758</td>\n",
       "      <td>0.162590</td>\n",
       "      <td>-0.027890</td>\n",
       "      <td>17.6</td>\n",
       "    </tr>\n",
       "    <tr>\n",
       "      <th>2</th>\n",
       "      <td>-0.480033</td>\n",
       "      <td>-0.491225</td>\n",
       "      <td>2.380844</td>\n",
       "      <td>-0.263603</td>\n",
       "      <td>0.440480</td>\n",
       "      <td>-0.448256</td>\n",
       "      <td>1.055436</td>\n",
       "      <td>-0.906476</td>\n",
       "      <td>-0.648014</td>\n",
       "      <td>1.787649</td>\n",
       "      <td>0.767621</td>\n",
       "      <td>0.364496</td>\n",
       "      <td>0.762925</td>\n",
       "      <td>13.6</td>\n",
       "    </tr>\n",
       "  </tbody>\n",
       "</table>\n",
       "</div>"
      ],
      "text/plain": [
       "          0         1         2         3         4         5         6  \\\n",
       "0  2.835282 -0.491225  0.992307 -0.263603  0.862018 -3.087961  1.097588   \n",
       "1 -0.463893  0.442318 -0.770731 -0.263603 -1.060199 -1.006243  0.272097   \n",
       "2 -0.480033 -0.491225  2.380844 -0.263603  0.440480 -0.448256  1.055436   \n",
       "\n",
       "          7         8         9        10        11        12  price  \n",
       "0 -1.233393  1.651706  1.519023  0.814208  0.136578  1.511147   11.9  \n",
       "1  1.977410 -0.303056 -0.486713  0.301758  0.162590 -0.027890   17.6  \n",
       "2 -0.906476 -0.648014  1.787649  0.767621  0.364496  0.762925   13.6  "
      ]
     },
     "execution_count": 4,
     "metadata": {},
     "output_type": "execute_result"
    }
   ],
   "source": [
    "scaler = preprocessing.StandardScaler()\n",
    "scaler.fit(x_train)\n",
    "x_train = scaler.transform(x_train)\n",
    "x_test=scaler.transform(x_test)\n",
    "train_data=pd.DataFrame(x_train)\n",
    "train_data['price']=y_train\n",
    "train_data.head(3)"
   ]
  },
  {
   "cell_type": "code",
   "execution_count": 32,
   "metadata": {},
   "outputs": [],
   "source": [
    "x_test=np.array(x_test)\n",
    "y_test=np.array(y_test)\n"
   ]
  },
  {
   "cell_type": "code",
   "execution_count": 41,
   "metadata": {},
   "outputs": [
    {
     "data": {
      "image/png": "[encoded data removed]",
      "text/plain": [
       "<Figure size 432x288 with 1 Axes>"
      ]
     },
     "metadata": {},
     "output_type": "display_data"
    },
    {
     "name": "stdout",
     "output_type": "stream",
     "text": [
      "Mean Squared Error : 26.268666968074363\n",
      "Mean Absolute Error : 3.2725812966494443\n"
     ]
    }
   ],
   "source": [
    "clf_ = SGDRegressor()\n",
    "clf_.fit(x_train, y_train)\n",
    "plt.scatter(y_test,clf_.predict(x_test))\n",
    "plt.grid()\n",
    "plt.xlabel('Actual y')\n",
    "plt.ylabel('Predicted y')\n",
    "plt.title('scatter plot between actual y and predicted y')\n",
    "plt.show()\n",
    "print('Mean Squared Error :',mean_squared_error(y_test, clf_.predict(x_test)))\n",
    "print('Mean Absolute Error :',mean_absolute_error(y_test, clf_.predict(x_test)))"
   ]
  },
  {
   "cell_type": "code",
   "execution_count": 42,
   "metadata": {},
   "outputs": [
    {
     "data": {
      "text/plain": [
       "array([-0.31623885,  0.62405338, -0.33940747,  0.91327209, -0.94465099,\n",
       "        2.92057994, -0.26388452, -1.77465285,  0.65101863, -0.4384413 ,\n",
       "       -1.71822347,  0.95026905, -3.27340517])"
      ]
     },
     "execution_count": 42,
     "metadata": {},
     "output_type": "execute_result"
    }
   ],
   "source": [
    "sklearn_w=clf_.coef_\n",
    "sklearn_w"
   ]
  },
  {
   "cell_type": "code",
   "execution_count": 33,
   "metadata": {},
   "outputs": [],
   "source": [
    "def CustomGradientDescentRegressor(train_data,learning_rate=0.001,n_itr=1000,k=10):\n",
    "    w_cur=np.zeros(shape=(1,train_data.shape[1]-1))\n",
    "    b_cur=0\n",
    "    cur_itr=1\n",
    "    while(cur_itr<=n_itr):\n",
    "        w_old=w_cur\n",
    "        b_old=b_cur\n",
    "        w_temp=np.zeros(shape=(1,train_data.shape[1]-1))\n",
    "        b_temp=0\n",
    "        temp=train_data.sample(k)\n",
    "        #print(temp.head(3))\n",
    "        y=np.array(temp['price'])\n",
    "        x=np.array(temp.drop('price',axis=1))\n",
    "        for i in range(k):\n",
    "            w_temp+=x[i]*(y[i]-(np.dot(w_old,x[i])+b_old))*(-2/k)\n",
    "            b_temp+=(y[i]-(np.dot(w_old,x[i])+b_old))*(-2/k)\n",
    "        w_cur=w_old-learning_rate*w_temp\n",
    "        b_cur=b_old-learning_rate*b_temp\n",
    "        if(w_old==w_cur).all():\n",
    "            break\n",
    "        cur_itr+=1\n",
    "    return w_cur,b_cur\n",
    "def predict(x,w,b):\n",
    "    y_pred=[]\n",
    "    for i in range(len(x)):\n",
    "        y=np.asscalar(np.dot(w,x[i])+b)\n",
    "        y_pred.append(y)\n",
    "    return np.array(y_pred)\n",
    "def plot_(test_data,y_pred):\n",
    "    #scatter plot\n",
    "    plt.scatter(test_data,y_pred)\n",
    "    plt.grid()\n",
    "    plt.title('scatter plot between actual y and predicted y')\n",
    "    plt.xlabel('actual y')\n",
    "    plt.ylabel('predicted y')\n",
    "    plt.show()      "
   ]
  },
  {
   "cell_type": "code",
   "execution_count": 34,
   "metadata": {},
   "outputs": [],
   "source": [
    "from sklearn import preprocessing\n",
    "from math import log\n",
    "x1_train,x1_test,y1_train,y1_test=train_test_split(X,Y,test_size=0.3)\n",
    "x1_train,x1_cv,y1_train_,y1_cv_=train_test_split(x1_train,y1_train,test_size=0.3)\n",
    "\n",
    "x1_train = scaler.transform(x1_train)\n",
    "x1_cv=scaler.transform(x1_cv)\n",
    "\n",
    "x1_train_=np.array(x1_train)\n",
    "x1_train_data=pd.DataFrame(x1_train)\n",
    "x1_train_data['price']=y1_train_\n",
    "\n",
    "x1_cv_data=pd.DataFrame(x1_cv)\n",
    "x1_cv_data['price']=y1_cv_\n",
    "\n",
    "y1_train_=np.array(y1_train_)\n",
    "y1_cv_=np.array(y1_cv_)\n",
    "#print(y1_cv_.shape)\n",
    "\n",
    "def tuneParams_learning_rate():\n",
    "    train_error=[]\n",
    "    cv_error=[]\n",
    "    r=[0.00001,0.0001,0.001,0.01,0.1]\n",
    "    for itr in r:\n",
    "        w,b=CustomGradientDescentRegressor(x1_train_data,learning_rate=itr,n_itr=1000)\n",
    "       # print(w.shape,b.shape,x1_train_.shape)\n",
    "        y1_pred_train=predict(x1_train_,w,b)\n",
    "        train_error.append(mean_squared_error(y1_train_,y1_pred_train))\n",
    "        w,b=CustomGradientDescentRegressor(x1_cv_data,learning_rate=itr,n_itr=1000)\n",
    "        y1_pred_cv=predict(x1_cv,w,b)\n",
    "        cv_error.append(mean_squared_error(y1_cv_,y1_pred_cv))\n",
    "    return train_error,cv_error \n"
   ]
  },
  {
   "cell_type": "code",
   "execution_count": 35,
   "metadata": {},
   "outputs": [],
   "source": [
    "train_error,cv_error=tuneParams_learning_rate()"
   ]
  },
  {
   "cell_type": "code",
   "execution_count": 36,
   "metadata": {},
   "outputs": [
    {
     "data": {
      "image/png": "[encoded data removed]",
      "text/plain": [
       "<Figure size 432x288 with 1 Axes>"
      ]
     },
     "metadata": {},
     "output_type": "display_data"
    }
   ],
   "source": [
    "import math\n",
    "r=[0.00001,0.0001,0.001,0.01,0.1]\n",
    "x1=[math.log10(i) for i in r]\n",
    "plt.plot(x1,train_error,label='train MSE')\n",
    "plt.plot(x1,cv_error,label='CV MSE')\n",
    "plt.scatter(x1,train_error)\n",
    "plt.scatter(x1,cv_error)\n",
    "plt.legend()\n",
    "plt.xlabel('log of learning rate')\n",
    "plt.ylabel('Mean Squared Error')\n",
    "plt.title('log(learning rate) vs MSE')\n",
    "plt.grid()\n",
    "plt.show()"
   ]
  },
  {
   "cell_type": "code",
   "execution_count": 44,
   "metadata": {},
   "outputs": [
    {
     "data": {
      "text/plain": [
       "array([[-0.37266539,  0.52975235, -0.36724778,  0.82753786, -0.75478987,\n",
       "         2.50020187, -0.12588132, -1.27671666,  0.45924584, -0.30862882,\n",
       "        -1.60562484,  0.89304698, -3.13450074]])"
      ]
     },
     "execution_count": 44,
     "metadata": {},
     "output_type": "execute_result"
    }
   ],
   "source": [
    "custom_w=w\n",
    "custom_w"
   ]
  },
  {
   "cell_type": "code",
   "execution_count": 37,
   "metadata": {},
   "outputs": [
    {
     "data": {
      "image/png": "[encoded data removed]",
      "text/plain": [
       "<Figure size 432x288 with 1 Axes>"
      ]
     },
     "metadata": {},
     "output_type": "display_data"
    }
   ],
   "source": [
    "w,b=CustomGradientDescentRegressor(train_data,learning_rate=0.001,n_itr=1000)\n",
    "y_pred=predict(x_test,w,b)\n",
    "plot_(y_test,y_pred)"
   ]
  },
  {
   "cell_type": "code",
   "execution_count": 45,
   "metadata": {},
   "outputs": [
    {
     "name": "stdout",
     "output_type": "stream",
     "text": [
      "+---------+---------------------------------------------------------------------------+--------------------+--------------------+\n",
      "|  Model  |                               Weight Vector                               |        MSE         |        MAE         |\n",
      "+---------+---------------------------------------------------------------------------+--------------------+--------------------+\n",
      "| sklearn |  [-0.31623885  0.62405338 -0.33940747  0.91327209 -0.94465099  2.92057994 | 26.268666968074363 | 3.2725812966494443 |\n",
      "|         |   -0.26388452 -1.77465285  0.65101863 -0.4384413  -1.71822347  0.95026905 |                    |                    |\n",
      "|         |                                -3.27340517]                               |                    |                    |\n",
      "|  custom | [[-0.37266539  0.52975235 -0.36724778  0.82753786 -0.75478987  2.50020187 |  37.8976983962042  | 3.8368789564314474 |\n",
      "|         |   -0.12588132 -1.27671666  0.45924584 -0.30862882 -1.60562484  0.89304698 |                    |                    |\n",
      "|         |                                -3.13450074]]                              |                    |                    |\n",
      "+---------+---------------------------------------------------------------------------+--------------------+--------------------+\n"
     ]
    }
   ],
   "source": [
    "from prettytable import PrettyTable\n",
    "# MSE = mean squared error\n",
    "# MAE =mean absolute error\n",
    "x=PrettyTable()\n",
    "x.field_names=['Model','Weight Vector','MSE','MAE']\n",
    "x.add_row(['sklearn',sklearn_w,mean_squared_error(y_test, clf_.predict(x_test)),mean_absolute_error(y_test, clf_.predict(x_test))])\n",
    "x.add_row(['custom',custom_w,mean_squared_error(y_test,y_pred),(mean_absolute_error(y_test,y_pred))])\n",
    "print(x)"
   ]
  },
  {
   "cell_type": "markdown",
   "metadata": {},
   "source": [
    "## Comparision among All Models"
   ]
  },
  {
   "cell_type": "code",
   "execution_count": 46,
   "metadata": {},
   "outputs": [
    {
     "name": "stdout",
     "output_type": "stream",
     "text": [
      "+-----------------------------+---------------------------------+\n",
      "| SKLearn SGD predicted value | Implemented SGD predicted value |\n",
      "+-----------------------------+---------------------------------+\n",
      "|      17.313460128106097     |        15.81212754103785        |\n",
      "|      17.19765834289902      |        16.00423830387952        |\n",
      "|      18.516601935830668     |        14.906196501144636       |\n",
      "|      17.842522779628457     |        15.158070874148809       |\n",
      "|      27.470279931497814     |        24.906418689303635       |\n",
      "|      24.38589408976268      |        22.18562248868944        |\n",
      "|      27.54874811512359      |        25.234458854420573       |\n",
      "|      38.808809240413126     |        34.53172406019749        |\n",
      "|      25.195924868143294     |        22.71055268846697        |\n",
      "|      32.698021074592816     |        29.081917799771173       |\n",
      "|      12.70090633293753      |        10.80677025177268        |\n",
      "|      34.136545425035926     |        30.656612503050304       |\n",
      "|      31.777779233452513     |        28.478907662941538       |\n",
      "|      23.680421590318833     |        21.58164348051871        |\n",
      "|      19.943771725659534     |        17.594924027491505       |\n",
      "+-----------------------------+---------------------------------+\n"
     ]
    }
   ],
   "source": [
    "sklearn_pred=clf_.predict(x_test)\n",
    "implemented_pred=y_pred\n",
    "x=PrettyTable()\n",
    "x.field_names=['SKLearn SGD predicted value','Implemented SGD predicted value']\n",
    "for itr in range(15):\n",
    "    x.add_row([sklearn_pred[itr],implemented_pred[itr]])\n",
    "print(x)   "
   ]
  },
  {
   "cell_type": "code",
   "execution_count": null,
   "metadata": {},
   "outputs": [],
   "source": []
  }
 ],
 "metadata": {
  "kernelspec": {
   "display_name": "Python 3",
   "language": "python",
   "name": "python3"
  },
  "language_info": {
   "codemirror_mode": {
    "name": "ipython",
    "version": 3
   },
   "file_extension": ".py",
   "mimetype": "text/x-python",
   "name": "python",
   "nbconvert_exporter": "python",
   "pygments_lexer": "ipython3",
   "version": "3.6.5"
  }
 },
 "nbformat": 4,
 "nbformat_minor": 2
}
