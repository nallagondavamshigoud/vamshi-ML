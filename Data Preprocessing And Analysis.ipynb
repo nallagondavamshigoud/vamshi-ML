{
 "cells": [
  {
   "cell_type": "markdown",
   "metadata": {},
   "source": [
    "# DonorsChoose"
   ]
  },
  {
   "cell_type": "raw",
   "metadata": {},
   "source": [
    "DonorsChoose.org receives hundreds of thousands of project proposals each year for classroom projects in need of funding. Right now, a large number of volunteers is needed to manually screen each submission before it's approved to be posted on the DonorsChoose.org website.\n",
    "Next year, DonorsChoose.org expects to receive close to 500,000 project proposals. As a result, there are three main problems they need to solve:\n",
    "How to scale current manual processes and resources to screen 500,000 projects so that they can be posted as quickly and as efficiently as possible\n",
    "How to increase the consistency of project vetting across different volunteers to improve the experience for teachers\n",
    "How to focus volunteer time on the applications that need the most assistance\n",
    "The goal of the competition is to predict whether or not a DonorsChoose.org project proposal submitted by a teacher will be approved, using the text of project descriptions as well as additional metadata about the project, teacher, and school. DonorsChoose.org can then use this information to identify projects most likely to need further review before approval."
   ]
  },
  {
   "cell_type": "code",
   "execution_count": 1,
   "metadata": {},
   "outputs": [
    {
     "name": "stderr",
     "output_type": "stream",
     "text": [
      "[NbConvertApp] Converting notebook vamshinallagonda@gmail.com_DCA_copy1.ipynb to html\n",
      "[NbConvertApp] Writing 708456 bytes to vamshinallagonda@gmail.com_DCA_copy1.html\n"
     ]
    }
   ],
   "source": [
    "import warnings \n",
    "warnings.filterwarnings(\"ignore\")\n",
    "!jupyter nbconvert --to html vamshinallagonda@gmail.com_DCA_copy1.ipynb\n"
   ]
  },
  {
   "cell_type": "code",
   "execution_count": 2,
   "metadata": {},
   "outputs": [
    {
     "name": "stderr",
     "output_type": "stream",
     "text": [
      "C:\\Users\\vamshi goud\\Anaconda3\\lib\\site-packages\\smart_open\\ssh.py:34: UserWarning: paramiko missing, opening SSH/SCP/SFTP paths will be disabled.  `pip install paramiko` to suppress\n",
      "  warnings.warn('paramiko missing, opening SSH/SCP/SFTP paths will be disabled.  `pip install paramiko` to suppress')\n"
     ]
    }
   ],
   "source": [
    "import warnings \n",
    "warnings.filterwarnings(\"ignore\")\n",
    "\n",
    "import sqlite3\n",
    "import pandas as pd\n",
    "import numpy as np\n",
    "import nltk\n",
    "import string\n",
    "import matplotlib.pyplot as plt\n",
    "import seaborn as sns\n",
    "from sklearn.feature_extraction.text import TfidfTransformer\n",
    "from sklearn.feature_extraction.text import TfidfVectorizer\n",
    "\n",
    "from sklearn.feature_extraction.text import CountVectorizer\n",
    "from sklearn.metrics import confusion_matrix\n",
    "from sklearn import metrics\n",
    "from sklearn.metrics import roc_curve, auc\n",
    "from nltk.stem.porter import PorterStemmer\n",
    "\n",
    "import re\n",
    "# Tutorial about Python regular expressions: https://pymotw.com/2/re/\n",
    "import string\n",
    "from nltk.corpus import stopwords\n",
    "from nltk.stem import PorterStemmer\n",
    "from nltk.stem.wordnet import WordNetLemmatizer\n",
    "\n",
    "from gensim.models import Word2Vec\n",
    "from gensim.models import KeyedVectors\n",
    "import pickle\n",
    "\n",
    "from tqdm import tqdm\n",
    "import os"
   ]
  },
  {
   "cell_type": "code",
   "execution_count": 3,
   "metadata": {},
   "outputs": [
    {
     "name": "stdout",
     "output_type": "stream",
     "text": [
      "Number of data points in train data (109248, 17)\n",
      "--------------------------------------------------\n",
      "The attributes of data : ['Unnamed: 0' 'id' 'teacher_id' 'teacher_prefix' 'school_state'\n",
      " 'project_submitted_datetime' 'project_grade_category'\n",
      " 'project_subject_categories' 'project_subject_subcategories'\n",
      " 'project_title' 'project_essay_1' 'project_essay_2' 'project_essay_3'\n",
      " 'project_essay_4' 'project_resource_summary'\n",
      " 'teacher_number_of_previously_posted_projects' 'project_is_approved']\n",
      "The attributes of data : ['id' 'description' 'quantity' 'price']\n",
      "        school_state  school_state  project_subject_categories  \\\n",
      "0              False         False                       False   \n",
      "1              False         False                       False   \n",
      "2              False         False                       False   \n",
      "3              False         False                       False   \n",
      "4              False         False                       False   \n",
      "5              False         False                       False   \n",
      "6              False         False                       False   \n",
      "7              False         False                       False   \n",
      "8              False         False                       False   \n",
      "9              False         False                       False   \n",
      "10             False         False                       False   \n",
      "11             False         False                       False   \n",
      "12             False         False                       False   \n",
      "13             False         False                       False   \n",
      "14             False         False                       False   \n",
      "15             False         False                       False   \n",
      "16             False         False                       False   \n",
      "17             False         False                       False   \n",
      "18             False         False                       False   \n",
      "19             False         False                       False   \n",
      "20             False         False                       False   \n",
      "21             False         False                       False   \n",
      "22             False         False                       False   \n",
      "23             False         False                       False   \n",
      "24             False         False                       False   \n",
      "25             False         False                       False   \n",
      "26             False         False                       False   \n",
      "27             False         False                       False   \n",
      "28             False         False                       False   \n",
      "29             False         False                       False   \n",
      "...              ...           ...                         ...   \n",
      "109218         False         False                       False   \n",
      "109219         False         False                       False   \n",
      "109220         False         False                       False   \n",
      "109221         False         False                       False   \n",
      "109222         False         False                       False   \n",
      "109223         False         False                       False   \n",
      "109224         False         False                       False   \n",
      "109225         False         False                       False   \n",
      "109226         False         False                       False   \n",
      "109227         False         False                       False   \n",
      "109228         False         False                       False   \n",
      "109229         False         False                       False   \n",
      "109230         False         False                       False   \n",
      "109231         False         False                       False   \n",
      "109232         False         False                       False   \n",
      "109233         False         False                       False   \n",
      "109234         False         False                       False   \n",
      "109235         False         False                       False   \n",
      "109236         False         False                       False   \n",
      "109237         False         False                       False   \n",
      "109238         False         False                       False   \n",
      "109239         False         False                       False   \n",
      "109240         False         False                       False   \n",
      "109241         False         False                       False   \n",
      "109242         False         False                       False   \n",
      "109243         False         False                       False   \n",
      "109244         False         False                       False   \n",
      "109245         False         False                       False   \n",
      "109246         False         False                       False   \n",
      "109247         False         False                       False   \n",
      "\n",
      "        project_subject_subcategories  project_grade_category  \n",
      "0                               False                   False  \n",
      "1                               False                   False  \n",
      "2                               False                   False  \n",
      "3                               False                   False  \n",
      "4                               False                   False  \n",
      "5                               False                   False  \n",
      "6                               False                   False  \n",
      "7                               False                   False  \n",
      "8                               False                   False  \n",
      "9                               False                   False  \n",
      "10                              False                   False  \n",
      "11                              False                   False  \n",
      "12                              False                   False  \n",
      "13                              False                   False  \n",
      "14                              False                   False  \n",
      "15                              False                   False  \n",
      "16                              False                   False  \n",
      "17                              False                   False  \n",
      "18                              False                   False  \n",
      "19                              False                   False  \n",
      "20                              False                   False  \n",
      "21                              False                   False  \n",
      "22                              False                   False  \n",
      "23                              False                   False  \n",
      "24                              False                   False  \n",
      "25                              False                   False  \n",
      "26                              False                   False  \n",
      "27                              False                   False  \n",
      "28                              False                   False  \n",
      "29                              False                   False  \n",
      "...                               ...                     ...  \n",
      "109218                          False                   False  \n",
      "109219                          False                   False  \n",
      "109220                          False                   False  \n",
      "109221                          False                   False  \n",
      "109222                          False                   False  \n",
      "109223                          False                   False  \n",
      "109224                          False                   False  \n",
      "109225                          False                   False  \n",
      "109226                          False                   False  \n",
      "109227                          False                   False  \n",
      "109228                          False                   False  \n",
      "109229                          False                   False  \n",
      "109230                          False                   False  \n",
      "109231                          False                   False  \n",
      "109232                          False                   False  \n",
      "109233                          False                   False  \n",
      "109234                          False                   False  \n",
      "109235                          False                   False  \n",
      "109236                          False                   False  \n",
      "109237                          False                   False  \n",
      "109238                          False                   False  \n",
      "109239                          False                   False  \n",
      "109240                          False                   False  \n",
      "109241                          False                   False  \n",
      "109242                          False                   False  \n",
      "109243                          False                   False  \n",
      "109244                          False                   False  \n",
      "109245                          False                   False  \n",
      "109246                          False                   False  \n",
      "109247                          False                   False  \n",
      "\n"
     ]
    },
    {
     "name": "stdout",
     "output_type": "stream",
     "text": [
      "[109248 rows x 5 columns]\n"
     ]
    }
   ],
   "source": [
    "project_data = pd.read_csv('train_data.csv')\n",
    "resource_data = pd.read_csv('resources.csv') \n",
    "print(\"Number of data points in train data\", project_data.shape)\n",
    "print('-'*50)\n",
    "print(\"The attributes of data :\", project_data.columns.values)\n",
    "print(\"The attributes of data :\", resource_data.columns.values)\n",
    "#print(project_data)\n",
    "project_data.isnull().sum()\n",
    "print (project_data[['school_state','school_state','project_subject_categories','project_subject_subcategories','project_grade_category']].isnull())"
   ]
  },
  {
   "cell_type": "code",
   "execution_count": 52,
   "metadata": {},
   "outputs": [
    {
     "data": {
      "text/html": [
       "<div>\n",
       "<style scoped>\n",
       "    .dataframe tbody tr th:only-of-type {\n",
       "        vertical-align: middle;\n",
       "    }\n",
       "\n",
       "    .dataframe tbody tr th {\n",
       "        vertical-align: top;\n",
       "    }\n",
       "\n",
       "    .dataframe thead th {\n",
       "        text-align: right;\n",
       "    }\n",
       "</style>\n",
       "<table border=\"1\" class=\"dataframe\">\n",
       "  <thead>\n",
       "    <tr style=\"text-align: right;\">\n",
       "      <th></th>\n",
       "      <th>id</th>\n",
       "      <th>price</th>\n",
       "    </tr>\n",
       "  </thead>\n",
       "  <tbody>\n",
       "    <tr>\n",
       "      <th>0</th>\n",
       "      <td>p000001</td>\n",
       "      <td>459.56</td>\n",
       "    </tr>\n",
       "    <tr>\n",
       "      <th>1</th>\n",
       "      <td>p000002</td>\n",
       "      <td>515.89</td>\n",
       "    </tr>\n",
       "    <tr>\n",
       "      <th>2</th>\n",
       "      <td>p000003</td>\n",
       "      <td>298.97</td>\n",
       "    </tr>\n",
       "    <tr>\n",
       "      <th>3</th>\n",
       "      <td>p000004</td>\n",
       "      <td>1113.69</td>\n",
       "    </tr>\n",
       "    <tr>\n",
       "      <th>4</th>\n",
       "      <td>p000005</td>\n",
       "      <td>485.99</td>\n",
       "    </tr>\n",
       "  </tbody>\n",
       "</table>\n",
       "</div>"
      ],
      "text/plain": [
       "        id    price\n",
       "0  p000001   459.56\n",
       "1  p000002   515.89\n",
       "2  p000003   298.97\n",
       "3  p000004  1113.69\n",
       "4  p000005   485.99"
      ]
     },
     "execution_count": 52,
     "metadata": {},
     "output_type": "execute_result"
    }
   ],
   "source": [
    "price_data = resource_data.groupby('id').agg({'price':'sum'}).reset_index()\n",
    "price_data.head()"
   ]
  },
  {
   "cell_type": "code",
   "execution_count": 54,
   "metadata": {},
   "outputs": [
    {
     "name": "stdout",
     "output_type": "stream",
     "text": [
      "   Unnamed: 0       id                        teacher_id teacher_prefix  \\\n",
      "0      160221  p253737  c90749f5d961ff158d4b4d1e7dc665fc           Mrs.   \n",
      "1      140945  p258326  897464ce9ddc600bced1151f324dd63a            Mr.   \n",
      "2       21895  p182444  3465aaf82da834c0582ebd0ef8040ca0            Ms.   \n",
      "3          45  p246581  f3cb9bffbba169bef1a77b243e620b60           Mrs.   \n",
      "4      172407  p104768  be1f7507a41f8479dc06f047086a39ec           Mrs.   \n",
      "\n",
      "  school_state project_submitted_datetime project_grade_category  \\\n",
      "0           IN        2016-12-05 13:43:57          Grades PreK-2   \n",
      "1           FL        2016-10-25 09:22:10             Grades 6-8   \n",
      "2           AZ        2016-08-31 12:03:56             Grades 6-8   \n",
      "3           KY        2016-10-06 21:16:17          Grades PreK-2   \n",
      "4           TX        2016-07-11 01:10:09          Grades PreK-2   \n",
      "\n",
      "            project_subject_categories     project_subject_subcategories  \\\n",
      "0                  Literacy & Language                     ESL, Literacy   \n",
      "1    History & Civics, Health & Sports  Civics & Government, Team Sports   \n",
      "2                      Health & Sports    Health & Wellness, Team Sports   \n",
      "3  Literacy & Language, Math & Science             Literacy, Mathematics   \n",
      "4                       Math & Science                       Mathematics   \n",
      "\n",
      "                                       project_title  \\\n",
      "0   Educational Support for English Learners at Home   \n",
      "1              Wanted: Projector for Hungry Learners   \n",
      "2  Soccer Equipment for AWESOME Middle School Stu...   \n",
      "3                             Techie Kindergarteners   \n",
      "4                             Interactive Math Tools   \n",
      "\n",
      "                                     project_essay_1  \\\n",
      "0  My students are English learners that are work...   \n",
      "1  Our students arrive to our school eager to lea...   \n",
      "2  \\r\\n\\\"True champions aren't always the ones th...   \n",
      "3  I work at a unique school filled with both ESL...   \n",
      "4  Our second grade classroom next year will be m...   \n",
      "\n",
      "                                     project_essay_2 project_essay_3  \\\n",
      "0  \\\"The limits of your language are the limits o...             NaN   \n",
      "1  The projector we need for our school is very c...             NaN   \n",
      "2  The students on the campus come to school know...             NaN   \n",
      "3  My students live in high poverty conditions wi...             NaN   \n",
      "4  For many students, math is a subject that does...             NaN   \n",
      "\n",
      "  project_essay_4                           project_resource_summary  \\\n",
      "0             NaN  My students need opportunities to practice beg...   \n",
      "1             NaN  My students need a projector to help with view...   \n",
      "2             NaN  My students need shine guards, athletic socks,...   \n",
      "3             NaN  My students need to engage in Reading and Math...   \n",
      "4             NaN  My students need hands on practice in mathemat...   \n",
      "\n",
      "   teacher_number_of_previously_posted_projects  project_is_approved   price  \n",
      "0                                             0                    0  154.60  \n",
      "1                                             7                    1  299.00  \n",
      "2                                             1                    0  516.85  \n",
      "3                                             4                    1  232.90  \n",
      "4                                             1                    1   67.98  \n"
     ]
    }
   ],
   "source": [
    "project_data = pd.merge(project_data, price_data, on='id',how='left') \n",
    "project_data.drop_duplicates()\n",
    "print(project_data.head(5))"
   ]
  },
  {
   "cell_type": "code",
   "execution_count": 7,
   "metadata": {},
   "outputs": [],
   "source": [
    "from sklearn.preprocessing import Imputer,OneHotEncoder\n",
    "df = project_data[['teacher_prefix','school_state','project_subject_categories','project_subject_subcategories','project_grade_category',]]\n",
    "df.head(5)\n",
    "imputer = Imputer(missing_values='NaN',strategy='mean',axis=0)\n"
   ]
  },
  {
   "cell_type": "code",
   "execution_count": 8,
   "metadata": {
    "scrolled": false
   },
   "outputs": [
    {
     "name": "stdout",
     "output_type": "stream",
     "text": [
      "  teacher_prefix school_state           project_subject_categories  \\\n",
      "0           Mrs.           IN                  Literacy & Language   \n",
      "1            Mr.           FL    History & Civics, Health & Sports   \n",
      "2            Ms.           AZ                      Health & Sports   \n",
      "3           Mrs.           KY  Literacy & Language, Math & Science   \n",
      "4           Mrs.           TX                       Math & Science   \n",
      "\n",
      "      project_subject_subcategories project_grade_category  \n",
      "0                     ESL, Literacy          Grades PreK-2  \n",
      "1  Civics & Government, Team Sports             Grades 6-8  \n",
      "2    Health & Wellness, Team Sports             Grades 6-8  \n",
      "3             Literacy, Mathematics          Grades PreK-2  \n",
      "4                       Mathematics          Grades PreK-2  \n"
     ]
    }
   ],
   "source": [
    "#citation:https://www.youtube.com/watch?v=9yl6-HEY7_s\n",
    "df = project_data[['teacher_prefix','school_state','project_subject_categories','project_subject_subcategories','project_grade_category',]]\n",
    "df.head(5)\n",
    "data_dummies = pd.get_dummies(df)\n",
    "print(df.head(5))\n",
    "dummies1=pd.get_dummies(df.teacher_prefix)\n",
    "dummies2=pd.get_dummies(df.school_state)\n",
    "\n",
    "dummies3=pd.get_dummies(df.project_subject_categories)\n",
    "dummies4=pd.get_dummies(df.project_subject_subcategories)\n",
    "dummies5=pd.get_dummies(df.project_grade_category)"
   ]
  },
  {
   "cell_type": "code",
   "execution_count": 9,
   "metadata": {},
   "outputs": [
    {
     "name": "stdout",
     "output_type": "stream",
     "text": [
      "       teacher_prefix school_state             project_subject_categories  \\\n",
      "0                Mrs.           IN                    Literacy & Language   \n",
      "1                 Mr.           FL      History & Civics, Health & Sports   \n",
      "2                 Ms.           AZ                        Health & Sports   \n",
      "3                Mrs.           KY    Literacy & Language, Math & Science   \n",
      "4                Mrs.           TX                         Math & Science   \n",
      "5                Mrs.           FL     Literacy & Language, Special Needs   \n",
      "6                Mrs.           CT     Literacy & Language, Special Needs   \n",
      "7                 Ms.           GA                         Math & Science   \n",
      "8                Mrs.           SC                        Health & Sports   \n",
      "9                 Ms.           NC                    Literacy & Language   \n",
      "10               Mrs.           CA                    Literacy & Language   \n",
      "11                Ms.           CA  Literacy & Language, Applied Learning   \n",
      "12               Mrs.           NY                         Math & Science   \n",
      "13               Mrs.           OK                          Special Needs   \n",
      "14                Ms.           MA                    Literacy & Language   \n",
      "15                Ms.           TX                        Health & Sports   \n",
      "16               Mrs.           FL     Literacy & Language, Special Needs   \n",
      "17                Ms.           NV    Math & Science, Literacy & Language   \n",
      "18               Mrs.           GA                       Applied Learning   \n",
      "19                Ms.           OH                        Health & Sports   \n",
      "20               Mrs.           PA                    Literacy & Language   \n",
      "21               Mrs.           NC          Math & Science, Special Needs   \n",
      "22                Ms.           CA                    Literacy & Language   \n",
      "23                Mr.           AL                       Music & The Arts   \n",
      "24               Mrs.           FL                         Math & Science   \n",
      "25               Mrs.           AL                         Math & Science   \n",
      "26                Ms.           TX    Literacy & Language, Math & Science   \n",
      "27            Teacher           LA    Literacy & Language, Math & Science   \n",
      "28               Mrs.           GA     Literacy & Language, Special Needs   \n",
      "29               Mrs.           VA  Literacy & Language, Applied Learning   \n",
      "...               ...          ...                                    ...   \n",
      "109218           Mrs.           IL                    Literacy & Language   \n",
      "109219        Teacher           FL  Literacy & Language, History & Civics   \n",
      "109220           Mrs.           WI                    Literacy & Language   \n",
      "109221        Teacher           NY                    Literacy & Language   \n",
      "109222            Ms.           NC    Literacy & Language, Math & Science   \n",
      "109223            Ms.           GA                  Warmth, Care & Hunger   \n",
      "109224            Ms.           NY    Math & Science, Literacy & Language   \n",
      "109225           Mrs.           NC  Applied Learning, Literacy & Language   \n",
      "109226            Ms.           CA                        Health & Sports   \n",
      "109227           Mrs.           NY                    Literacy & Language   \n",
      "109228           Mrs.           LA    Literacy & Language, Math & Science   \n",
      "109229           Mrs.           CO    Literacy & Language, Math & Science   \n",
      "109230            Ms.           NY                          Special Needs   \n",
      "109231           Mrs.           AZ                        Health & Sports   \n",
      "109232           Mrs.           MD                    Literacy & Language   \n",
      "109233            Ms.           AZ       Math & Science, History & Civics   \n",
      "109234            Ms.           NY                       Applied Learning   \n",
      "109235           Mrs.           TX  Applied Learning, Literacy & Language   \n",
      "109236           Mrs.           OH                          Special Needs   \n",
      "109237           Mrs.           IN                    Literacy & Language   \n",
      "109238           Mrs.           WI                        Health & Sports   \n",
      "109239           Mrs.           MN    Literacy & Language, Math & Science   \n",
      "109240           Mrs.           MD                    Literacy & Language   \n",
      "109241           Mrs.           MD  Applied Learning, Literacy & Language   \n",
      "109242           Mrs.           SC    Math & Science, Literacy & Language   \n",
      "109243            Mr.           MO    Literacy & Language, Math & Science   \n",
      "109244            Ms.           NJ    Literacy & Language, Math & Science   \n",
      "109245           Mrs.           NJ    Literacy & Language, Math & Science   \n",
      "109246           Mrs.           NY         Health & Sports, Special Needs   \n",
      "109247            Ms.           VA       Applied Learning, Math & Science   \n",
      "\n",
      "                       project_subject_subcategories project_grade_category  \\\n",
      "0                                      ESL, Literacy          Grades PreK-2   \n",
      "1                   Civics & Government, Team Sports             Grades 6-8   \n",
      "2                     Health & Wellness, Team Sports             Grades 6-8   \n",
      "3                              Literacy, Mathematics          Grades PreK-2   \n",
      "4                                        Mathematics          Grades PreK-2   \n",
      "5                Literature & Writing, Special Needs             Grades 3-5   \n",
      "6                            Literacy, Special Needs             Grades 6-8   \n",
      "7                                        Mathematics             Grades 3-5   \n",
      "8                                  Health & Wellness          Grades PreK-2   \n",
      "9                     Literacy, Literature & Writing          Grades PreK-2   \n",
      "10                                          Literacy             Grades 3-5   \n",
      "11                      Literacy, Parent Involvement          Grades PreK-2   \n",
      "12      Environmental Science, Health & Life Science             Grades 6-8   \n",
      "13                                     Special Needs          Grades PreK-2   \n",
      "14                                          Literacy          Grades PreK-2   \n",
      "15                                 Health & Wellness             Grades 3-5   \n",
      "16                           Literacy, Special Needs          Grades PreK-2   \n",
      "17            Applied Sciences, Literature & Writing             Grades 3-5   \n",
      "18                                 Early Development          Grades PreK-2   \n",
      "19                                 Health & Wellness             Grades 3-5   \n",
      "20                                          Literacy          Grades PreK-2   \n",
      "21              Health & Life Science, Special Needs             Grades 6-8   \n",
      "22                                          Literacy            Grades 9-12   \n",
      "23                                             Music             Grades 6-8   \n",
      "24                     Applied Sciences, Mathematics          Grades PreK-2   \n",
      "25                                       Mathematics             Grades 3-5   \n",
      "26                             Literacy, Mathematics          Grades PreK-2   \n",
      "27                    Foreign Languages, Mathematics             Grades 3-5   \n",
      "28                           Literacy, Special Needs            Grades 9-12   \n",
      "29                                   Literacy, Other          Grades PreK-2   \n",
      "...                                              ...                    ...   \n",
      "109218                          Literature & Writing          Grades PreK-2   \n",
      "109219         Literature & Writing, Social Sciences          Grades PreK-2   \n",
      "109220                                      Literacy             Grades 6-8   \n",
      "109221                             Foreign Languages          Grades PreK-2   \n",
      "109222                         Literacy, Mathematics          Grades PreK-2   \n",
      "109223                         Warmth, Care & Hunger             Grades 6-8   \n",
      "109224                    Applied Sciences, Literacy          Grades PreK-2   \n",
      "109225     Character Education, Literature & Writing          Grades PreK-2   \n",
      "109226              Gym & Fitness, Health & Wellness             Grades 3-5   \n",
      "109227                                      Literacy             Grades 3-5   \n",
      "109228                         Literacy, Mathematics          Grades PreK-2   \n",
      "109229             Literature & Writing, Mathematics          Grades PreK-2   \n",
      "109230                                 Special Needs            Grades 9-12   \n",
      "109231                                 Gym & Fitness            Grades 9-12   \n",
      "109232                Literacy, Literature & Writing             Grades 3-5   \n",
      "109233          Applied Sciences, Financial Literacy             Grades 6-8   \n",
      "109234                           Character Education             Grades 3-5   \n",
      "109235       Early Development, Literature & Writing          Grades PreK-2   \n",
      "109236                                 Special Needs             Grades 3-5   \n",
      "109237                   Foreign Languages, Literacy             Grades 3-5   \n",
      "109238                             Health & Wellness          Grades PreK-2   \n",
      "109239                         Literacy, Mathematics             Grades 6-8   \n",
      "109240                                      Literacy          Grades PreK-2   \n",
      "109241                   Early Development, Literacy             Grades 3-5   \n",
      "109242                    Applied Sciences, Literacy          Grades PreK-2   \n",
      "109243             Literature & Writing, Mathematics          Grades PreK-2   \n",
      "109244                         Literacy, Mathematics          Grades PreK-2   \n",
      "109245                         Literacy, Mathematics          Grades PreK-2   \n",
      "109246              Health & Wellness, Special Needs             Grades 3-5   \n",
      "109247            College & Career Prep, Mathematics             Grades 6-8   \n",
      "\n",
      "        Dr.  Mr.  Mrs.  Ms.  Teacher      ...        \\\n",
      "0         0    0     1    0        0      ...         \n",
      "1         0    1     0    0        0      ...         \n",
      "2         0    0     0    1        0      ...         \n",
      "3         0    0     1    0        0      ...         \n",
      "4         0    0     1    0        0      ...         \n",
      "5         0    0     1    0        0      ...         \n",
      "6         0    0     1    0        0      ...         \n",
      "7         0    0     0    1        0      ...         \n",
      "8         0    0     1    0        0      ...         \n",
      "9         0    0     0    1        0      ...         \n",
      "10        0    0     1    0        0      ...         \n",
      "11        0    0     0    1        0      ...         \n",
      "12        0    0     1    0        0      ...         \n",
      "13        0    0     1    0        0      ...         \n",
      "14        0    0     0    1        0      ...         \n",
      "15        0    0     0    1        0      ...         \n",
      "16        0    0     1    0        0      ...         \n",
      "17        0    0     0    1        0      ...         \n",
      "18        0    0     1    0        0      ...         \n",
      "19        0    0     0    1        0      ...         \n",
      "20        0    0     1    0        0      ...         \n",
      "21        0    0     1    0        0      ...         \n",
      "22        0    0     0    1        0      ...         \n",
      "23        0    1     0    0        0      ...         \n",
      "24        0    0     1    0        0      ...         \n",
      "25        0    0     1    0        0      ...         \n",
      "26        0    0     0    1        0      ...         \n",
      "27        0    0     0    0        1      ...         \n",
      "28        0    0     1    0        0      ...         \n",
      "29        0    0     1    0        0      ...         \n",
      "...     ...  ...   ...  ...      ...      ...         \n",
      "109218    0    0     1    0        0      ...         \n",
      "109219    0    0     0    0        1      ...         \n",
      "109220    0    0     1    0        0      ...         \n",
      "109221    0    0     0    0        1      ...         \n",
      "109222    0    0     0    1        0      ...         \n",
      "109223    0    0     0    1        0      ...         \n",
      "109224    0    0     0    1        0      ...         \n",
      "109225    0    0     1    0        0      ...         \n",
      "109226    0    0     0    1        0      ...         \n",
      "109227    0    0     1    0        0      ...         \n",
      "109228    0    0     1    0        0      ...         \n",
      "109229    0    0     1    0        0      ...         \n",
      "109230    0    0     0    1        0      ...         \n",
      "109231    0    0     1    0        0      ...         \n",
      "109232    0    0     1    0        0      ...         \n",
      "109233    0    0     0    1        0      ...         \n",
      "109234    0    0     0    1        0      ...         \n",
      "109235    0    0     1    0        0      ...         \n",
      "109236    0    0     1    0        0      ...         \n",
      "109237    0    0     1    0        0      ...         \n",
      "109238    0    0     1    0        0      ...         \n",
      "109239    0    0     1    0        0      ...         \n",
      "109240    0    0     1    0        0      ...         \n",
      "109241    0    0     1    0        0      ...         \n",
      "109242    0    0     1    0        0      ...         \n",
      "109243    0    1     0    0        0      ...         \n",
      "109244    0    0     0    1        0      ...         \n",
      "109245    0    0     1    0        0      ...         \n",
      "109246    0    0     1    0        0      ...         \n",
      "109247    0    0     0    1        0      ...         \n",
      "\n",
      "        Special Needs, Warmth, Care & Hunger  Team Sports  \\\n",
      "0                                          0            0   \n",
      "1                                          0            0   \n",
      "2                                          0            0   \n",
      "3                                          0            0   \n",
      "4                                          0            0   \n",
      "5                                          0            0   \n",
      "6                                          0            0   \n",
      "7                                          0            0   \n",
      "8                                          0            0   \n",
      "9                                          0            0   \n",
      "10                                         0            0   \n",
      "11                                         0            0   \n",
      "12                                         0            0   \n",
      "13                                         0            0   \n",
      "14                                         0            0   \n",
      "15                                         0            0   \n",
      "16                                         0            0   \n",
      "17                                         0            0   \n",
      "18                                         0            0   \n",
      "19                                         0            0   \n",
      "20                                         0            0   \n",
      "21                                         0            0   \n",
      "22                                         0            0   \n",
      "23                                         0            0   \n",
      "24                                         0            0   \n",
      "25                                         0            0   \n",
      "26                                         0            0   \n",
      "27                                         0            0   \n",
      "28                                         0            0   \n",
      "29                                         0            0   \n",
      "...                                      ...          ...   \n",
      "109218                                     0            0   \n",
      "109219                                     0            0   \n",
      "109220                                     0            0   \n",
      "109221                                     0            0   \n",
      "109222                                     0            0   \n",
      "109223                                     0            0   \n",
      "109224                                     0            0   \n",
      "109225                                     0            0   \n",
      "109226                                     0            0   \n",
      "109227                                     0            0   \n",
      "109228                                     0            0   \n",
      "109229                                     0            0   \n",
      "109230                                     0            0   \n",
      "109231                                     0            0   \n",
      "109232                                     0            0   \n",
      "109233                                     0            0   \n",
      "109234                                     0            0   \n",
      "109235                                     0            0   \n",
      "109236                                     0            0   \n",
      "109237                                     0            0   \n",
      "109238                                     0            0   \n",
      "109239                                     0            0   \n",
      "109240                                     0            0   \n",
      "109241                                     0            0   \n",
      "109242                                     0            0   \n",
      "109243                                     0            0   \n",
      "109244                                     0            0   \n",
      "109245                                     0            0   \n",
      "109246                                     0            0   \n",
      "109247                                     0            0   \n",
      "\n",
      "        Team Sports, Visual Arts  Visual Arts  \\\n",
      "0                              0            0   \n",
      "1                              0            0   \n",
      "2                              0            0   \n",
      "3                              0            0   \n",
      "4                              0            0   \n",
      "5                              0            0   \n",
      "6                              0            0   \n",
      "7                              0            0   \n",
      "8                              0            0   \n",
      "9                              0            0   \n",
      "10                             0            0   \n",
      "11                             0            0   \n",
      "12                             0            0   \n",
      "13                             0            0   \n",
      "14                             0            0   \n",
      "15                             0            0   \n",
      "16                             0            0   \n",
      "17                             0            0   \n",
      "18                             0            0   \n",
      "19                             0            0   \n",
      "20                             0            0   \n",
      "21                             0            0   \n",
      "22                             0            0   \n",
      "23                             0            0   \n",
      "24                             0            0   \n",
      "25                             0            0   \n",
      "26                             0            0   \n",
      "27                             0            0   \n",
      "28                             0            0   \n",
      "29                             0            0   \n",
      "...                          ...          ...   \n",
      "109218                         0            0   \n",
      "109219                         0            0   \n",
      "109220                         0            0   \n",
      "109221                         0            0   \n",
      "109222                         0            0   \n",
      "109223                         0            0   \n",
      "109224                         0            0   \n",
      "109225                         0            0   \n",
      "109226                         0            0   \n",
      "109227                         0            0   \n",
      "109228                         0            0   \n",
      "109229                         0            0   \n",
      "109230                         0            0   \n",
      "109231                         0            0   \n",
      "109232                         0            0   \n",
      "109233                         0            0   \n",
      "109234                         0            0   \n",
      "109235                         0            0   \n",
      "109236                         0            0   \n",
      "109237                         0            0   \n",
      "109238                         0            0   \n",
      "109239                         0            0   \n",
      "109240                         0            0   \n",
      "109241                         0            0   \n",
      "109242                         0            0   \n",
      "109243                         0            0   \n",
      "109244                         0            0   \n",
      "109245                         0            0   \n",
      "109246                         0            0   \n",
      "109247                         0            0   \n",
      "\n",
      "        Visual Arts, Warmth, Care & Hunger  Warmth, Care & Hunger  Grades 3-5  \\\n",
      "0                                        0                      0           0   \n",
      "1                                        0                      0           0   \n",
      "2                                        0                      0           0   \n",
      "3                                        0                      0           0   \n",
      "4                                        0                      0           0   \n",
      "5                                        0                      0           1   \n",
      "6                                        0                      0           0   \n",
      "7                                        0                      0           1   \n",
      "8                                        0                      0           0   \n",
      "9                                        0                      0           0   \n",
      "10                                       0                      0           1   \n",
      "11                                       0                      0           0   \n",
      "12                                       0                      0           0   \n",
      "13                                       0                      0           0   \n",
      "14                                       0                      0           0   \n",
      "15                                       0                      0           1   \n",
      "16                                       0                      0           0   \n",
      "17                                       0                      0           1   \n",
      "18                                       0                      0           0   \n",
      "19                                       0                      0           1   \n",
      "20                                       0                      0           0   \n",
      "21                                       0                      0           0   \n",
      "22                                       0                      0           0   \n",
      "23                                       0                      0           0   \n",
      "24                                       0                      0           0   \n",
      "25                                       0                      0           1   \n",
      "26                                       0                      0           0   \n",
      "27                                       0                      0           1   \n",
      "28                                       0                      0           0   \n",
      "29                                       0                      0           0   \n",
      "...                                    ...                    ...         ...   \n",
      "109218                                   0                      0           0   \n",
      "109219                                   0                      0           0   \n",
      "109220                                   0                      0           0   \n",
      "109221                                   0                      0           0   \n",
      "109222                                   0                      0           0   \n",
      "109223                                   0                      1           0   \n",
      "109224                                   0                      0           0   \n",
      "109225                                   0                      0           0   \n",
      "109226                                   0                      0           1   \n",
      "109227                                   0                      0           1   \n",
      "109228                                   0                      0           0   \n",
      "109229                                   0                      0           0   \n",
      "109230                                   0                      0           0   \n",
      "109231                                   0                      0           0   \n",
      "109232                                   0                      0           1   \n",
      "109233                                   0                      0           0   \n",
      "109234                                   0                      0           1   \n",
      "109235                                   0                      0           0   \n",
      "109236                                   0                      0           1   \n",
      "109237                                   0                      0           1   \n",
      "109238                                   0                      0           0   \n",
      "109239                                   0                      0           0   \n",
      "109240                                   0                      0           0   \n",
      "109241                                   0                      0           1   \n",
      "109242                                   0                      0           0   \n",
      "109243                                   0                      0           0   \n",
      "109244                                   0                      0           0   \n",
      "109245                                   0                      0           0   \n",
      "109246                                   0                      0           1   \n",
      "109247                                   0                      0           0   \n",
      "\n",
      "        Grades 6-8  Grades 9-12  Grades PreK-2  \n",
      "0                0            0              1  \n",
      "1                1            0              0  \n",
      "2                1            0              0  \n",
      "3                0            0              1  \n",
      "4                0            0              1  \n",
      "5                0            0              0  \n",
      "6                1            0              0  \n",
      "7                0            0              0  \n",
      "8                0            0              1  \n",
      "9                0            0              1  \n",
      "10               0            0              0  \n",
      "11               0            0              1  \n",
      "12               1            0              0  \n",
      "13               0            0              1  \n",
      "14               0            0              1  \n",
      "15               0            0              0  \n",
      "16               0            0              1  \n",
      "17               0            0              0  \n",
      "18               0            0              1  \n",
      "19               0            0              0  \n",
      "20               0            0              1  \n",
      "21               1            0              0  \n",
      "22               0            1              0  \n",
      "23               1            0              0  \n",
      "24               0            0              1  \n",
      "25               0            0              0  \n",
      "26               0            0              1  \n",
      "27               0            0              0  \n",
      "28               0            1              0  \n",
      "29               0            0              1  \n",
      "...            ...          ...            ...  \n",
      "109218           0            0              1  \n",
      "109219           0            0              1  \n",
      "109220           1            0              0  \n",
      "109221           0            0              1  \n",
      "109222           0            0              1  \n",
      "109223           1            0              0  \n",
      "109224           0            0              1  \n",
      "109225           0            0              1  \n",
      "109226           0            0              0  \n",
      "109227           0            0              0  \n",
      "109228           0            0              1  \n",
      "109229           0            0              1  \n",
      "109230           0            1              0  \n",
      "109231           0            1              0  \n",
      "109232           0            0              0  \n",
      "109233           1            0              0  \n",
      "109234           0            0              0  \n",
      "109235           0            0              1  \n",
      "109236           0            0              0  \n",
      "109237           0            0              0  \n",
      "109238           0            0              1  \n",
      "109239           1            0              0  \n",
      "109240           0            0              1  \n",
      "109241           0            0              0  \n",
      "109242           0            0              1  \n",
      "109243           0            0              1  \n",
      "109244           0            0              1  \n",
      "109245           0            0              1  \n",
      "109246           0            0              0  \n",
      "109247           1            0              0  \n",
      "\n"
     ]
    },
    {
     "name": "stdout",
     "output_type": "stream",
     "text": [
      "[109248 rows x 517 columns]\n"
     ]
    }
   ],
   "source": [
    "merge = pd.concat([df,dummies1,dummies2,dummies3,dummies4,dummies5],axis=1)\n",
    "print(merge)"
   ]
  },
  {
   "cell_type": "code",
   "execution_count": 10,
   "metadata": {},
   "outputs": [
    {
     "name": "stdout",
     "output_type": "stream",
     "text": [
      "        Dr.  Mr.  Mrs.  Ms.  Teacher  AK  AL  AR  AZ  CA      ...        \\\n",
      "0         0    0     1    0        0   0   0   0   0   0      ...         \n",
      "1         0    1     0    0        0   0   0   0   0   0      ...         \n",
      "2         0    0     0    1        0   0   0   0   1   0      ...         \n",
      "3         0    0     1    0        0   0   0   0   0   0      ...         \n",
      "4         0    0     1    0        0   0   0   0   0   0      ...         \n",
      "5         0    0     1    0        0   0   0   0   0   0      ...         \n",
      "6         0    0     1    0        0   0   0   0   0   0      ...         \n",
      "7         0    0     0    1        0   0   0   0   0   0      ...         \n",
      "8         0    0     1    0        0   0   0   0   0   0      ...         \n",
      "9         0    0     0    1        0   0   0   0   0   0      ...         \n",
      "10        0    0     1    0        0   0   0   0   0   1      ...         \n",
      "11        0    0     0    1        0   0   0   0   0   1      ...         \n",
      "12        0    0     1    0        0   0   0   0   0   0      ...         \n",
      "13        0    0     1    0        0   0   0   0   0   0      ...         \n",
      "14        0    0     0    1        0   0   0   0   0   0      ...         \n",
      "15        0    0     0    1        0   0   0   0   0   0      ...         \n",
      "16        0    0     1    0        0   0   0   0   0   0      ...         \n",
      "17        0    0     0    1        0   0   0   0   0   0      ...         \n",
      "18        0    0     1    0        0   0   0   0   0   0      ...         \n",
      "19        0    0     0    1        0   0   0   0   0   0      ...         \n",
      "20        0    0     1    0        0   0   0   0   0   0      ...         \n",
      "21        0    0     1    0        0   0   0   0   0   0      ...         \n",
      "22        0    0     0    1        0   0   0   0   0   1      ...         \n",
      "23        0    1     0    0        0   0   1   0   0   0      ...         \n",
      "24        0    0     1    0        0   0   0   0   0   0      ...         \n",
      "25        0    0     1    0        0   0   1   0   0   0      ...         \n",
      "26        0    0     0    1        0   0   0   0   0   0      ...         \n",
      "27        0    0     0    0        1   0   0   0   0   0      ...         \n",
      "28        0    0     1    0        0   0   0   0   0   0      ...         \n",
      "29        0    0     1    0        0   0   0   0   0   0      ...         \n",
      "...     ...  ...   ...  ...      ...  ..  ..  ..  ..  ..      ...         \n",
      "109218    0    0     1    0        0   0   0   0   0   0      ...         \n",
      "109219    0    0     0    0        1   0   0   0   0   0      ...         \n",
      "109220    0    0     1    0        0   0   0   0   0   0      ...         \n",
      "109221    0    0     0    0        1   0   0   0   0   0      ...         \n",
      "109222    0    0     0    1        0   0   0   0   0   0      ...         \n",
      "109223    0    0     0    1        0   0   0   0   0   0      ...         \n",
      "109224    0    0     0    1        0   0   0   0   0   0      ...         \n",
      "109225    0    0     1    0        0   0   0   0   0   0      ...         \n",
      "109226    0    0     0    1        0   0   0   0   0   1      ...         \n",
      "109227    0    0     1    0        0   0   0   0   0   0      ...         \n",
      "109228    0    0     1    0        0   0   0   0   0   0      ...         \n",
      "109229    0    0     1    0        0   0   0   0   0   0      ...         \n",
      "109230    0    0     0    1        0   0   0   0   0   0      ...         \n",
      "109231    0    0     1    0        0   0   0   0   1   0      ...         \n",
      "109232    0    0     1    0        0   0   0   0   0   0      ...         \n",
      "109233    0    0     0    1        0   0   0   0   1   0      ...         \n",
      "109234    0    0     0    1        0   0   0   0   0   0      ...         \n",
      "109235    0    0     1    0        0   0   0   0   0   0      ...         \n",
      "109236    0    0     1    0        0   0   0   0   0   0      ...         \n",
      "109237    0    0     1    0        0   0   0   0   0   0      ...         \n",
      "109238    0    0     1    0        0   0   0   0   0   0      ...         \n",
      "109239    0    0     1    0        0   0   0   0   0   0      ...         \n",
      "109240    0    0     1    0        0   0   0   0   0   0      ...         \n",
      "109241    0    0     1    0        0   0   0   0   0   0      ...         \n",
      "109242    0    0     1    0        0   0   0   0   0   0      ...         \n",
      "109243    0    1     0    0        0   0   0   0   0   0      ...         \n",
      "109244    0    0     0    1        0   0   0   0   0   0      ...         \n",
      "109245    0    0     1    0        0   0   0   0   0   0      ...         \n",
      "109246    0    0     1    0        0   0   0   0   0   0      ...         \n",
      "109247    0    0     0    1        0   0   0   0   0   0      ...         \n",
      "\n",
      "        Special Needs, Warmth, Care & Hunger  Team Sports  \\\n",
      "0                                          0            0   \n",
      "1                                          0            0   \n",
      "2                                          0            0   \n",
      "3                                          0            0   \n",
      "4                                          0            0   \n",
      "5                                          0            0   \n",
      "6                                          0            0   \n",
      "7                                          0            0   \n",
      "8                                          0            0   \n",
      "9                                          0            0   \n",
      "10                                         0            0   \n",
      "11                                         0            0   \n",
      "12                                         0            0   \n",
      "13                                         0            0   \n",
      "14                                         0            0   \n",
      "15                                         0            0   \n",
      "16                                         0            0   \n",
      "17                                         0            0   \n",
      "18                                         0            0   \n",
      "19                                         0            0   \n",
      "20                                         0            0   \n",
      "21                                         0            0   \n",
      "22                                         0            0   \n",
      "23                                         0            0   \n",
      "24                                         0            0   \n",
      "25                                         0            0   \n",
      "26                                         0            0   \n",
      "27                                         0            0   \n",
      "28                                         0            0   \n",
      "29                                         0            0   \n",
      "...                                      ...          ...   \n",
      "109218                                     0            0   \n",
      "109219                                     0            0   \n",
      "109220                                     0            0   \n",
      "109221                                     0            0   \n",
      "109222                                     0            0   \n",
      "109223                                     0            0   \n",
      "109224                                     0            0   \n",
      "109225                                     0            0   \n",
      "109226                                     0            0   \n",
      "109227                                     0            0   \n",
      "109228                                     0            0   \n",
      "109229                                     0            0   \n",
      "109230                                     0            0   \n",
      "109231                                     0            0   \n",
      "109232                                     0            0   \n",
      "109233                                     0            0   \n",
      "109234                                     0            0   \n",
      "109235                                     0            0   \n",
      "109236                                     0            0   \n",
      "109237                                     0            0   \n",
      "109238                                     0            0   \n",
      "109239                                     0            0   \n",
      "109240                                     0            0   \n",
      "109241                                     0            0   \n",
      "109242                                     0            0   \n",
      "109243                                     0            0   \n",
      "109244                                     0            0   \n",
      "109245                                     0            0   \n",
      "109246                                     0            0   \n",
      "109247                                     0            0   \n",
      "\n",
      "        Team Sports, Visual Arts  Visual Arts  \\\n",
      "0                              0            0   \n",
      "1                              0            0   \n",
      "2                              0            0   \n",
      "3                              0            0   \n",
      "4                              0            0   \n",
      "5                              0            0   \n",
      "6                              0            0   \n",
      "7                              0            0   \n",
      "8                              0            0   \n",
      "9                              0            0   \n",
      "10                             0            0   \n",
      "11                             0            0   \n",
      "12                             0            0   \n",
      "13                             0            0   \n",
      "14                             0            0   \n",
      "15                             0            0   \n",
      "16                             0            0   \n",
      "17                             0            0   \n",
      "18                             0            0   \n",
      "19                             0            0   \n",
      "20                             0            0   \n",
      "21                             0            0   \n",
      "22                             0            0   \n",
      "23                             0            0   \n",
      "24                             0            0   \n",
      "25                             0            0   \n",
      "26                             0            0   \n",
      "27                             0            0   \n",
      "28                             0            0   \n",
      "29                             0            0   \n",
      "...                          ...          ...   \n",
      "109218                         0            0   \n",
      "109219                         0            0   \n",
      "109220                         0            0   \n",
      "109221                         0            0   \n",
      "109222                         0            0   \n",
      "109223                         0            0   \n",
      "109224                         0            0   \n",
      "109225                         0            0   \n",
      "109226                         0            0   \n",
      "109227                         0            0   \n",
      "109228                         0            0   \n",
      "109229                         0            0   \n",
      "109230                         0            0   \n",
      "109231                         0            0   \n",
      "109232                         0            0   \n",
      "109233                         0            0   \n",
      "109234                         0            0   \n",
      "109235                         0            0   \n",
      "109236                         0            0   \n",
      "109237                         0            0   \n",
      "109238                         0            0   \n",
      "109239                         0            0   \n",
      "109240                         0            0   \n",
      "109241                         0            0   \n",
      "109242                         0            0   \n",
      "109243                         0            0   \n",
      "109244                         0            0   \n",
      "109245                         0            0   \n",
      "109246                         0            0   \n",
      "109247                         0            0   \n",
      "\n",
      "        Visual Arts, Warmth, Care & Hunger  Warmth, Care & Hunger  Grades 3-5  \\\n",
      "0                                        0                      0           0   \n",
      "1                                        0                      0           0   \n",
      "2                                        0                      0           0   \n",
      "3                                        0                      0           0   \n",
      "4                                        0                      0           0   \n",
      "5                                        0                      0           1   \n",
      "6                                        0                      0           0   \n",
      "7                                        0                      0           1   \n",
      "8                                        0                      0           0   \n",
      "9                                        0                      0           0   \n",
      "10                                       0                      0           1   \n",
      "11                                       0                      0           0   \n",
      "12                                       0                      0           0   \n",
      "13                                       0                      0           0   \n",
      "14                                       0                      0           0   \n",
      "15                                       0                      0           1   \n",
      "16                                       0                      0           0   \n",
      "17                                       0                      0           1   \n",
      "18                                       0                      0           0   \n",
      "19                                       0                      0           1   \n",
      "20                                       0                      0           0   \n",
      "21                                       0                      0           0   \n",
      "22                                       0                      0           0   \n",
      "23                                       0                      0           0   \n",
      "24                                       0                      0           0   \n",
      "25                                       0                      0           1   \n",
      "26                                       0                      0           0   \n",
      "27                                       0                      0           1   \n",
      "28                                       0                      0           0   \n",
      "29                                       0                      0           0   \n",
      "...                                    ...                    ...         ...   \n",
      "109218                                   0                      0           0   \n",
      "109219                                   0                      0           0   \n",
      "109220                                   0                      0           0   \n",
      "109221                                   0                      0           0   \n",
      "109222                                   0                      0           0   \n",
      "109223                                   0                      1           0   \n",
      "109224                                   0                      0           0   \n",
      "109225                                   0                      0           0   \n",
      "109226                                   0                      0           1   \n",
      "109227                                   0                      0           1   \n",
      "109228                                   0                      0           0   \n",
      "109229                                   0                      0           0   \n",
      "109230                                   0                      0           0   \n",
      "109231                                   0                      0           0   \n",
      "109232                                   0                      0           1   \n",
      "109233                                   0                      0           0   \n",
      "109234                                   0                      0           1   \n",
      "109235                                   0                      0           0   \n",
      "109236                                   0                      0           1   \n",
      "109237                                   0                      0           1   \n",
      "109238                                   0                      0           0   \n",
      "109239                                   0                      0           0   \n",
      "109240                                   0                      0           0   \n",
      "109241                                   0                      0           1   \n",
      "109242                                   0                      0           0   \n",
      "109243                                   0                      0           0   \n",
      "109244                                   0                      0           0   \n",
      "109245                                   0                      0           0   \n",
      "109246                                   0                      0           1   \n",
      "109247                                   0                      0           0   \n",
      "\n",
      "        Grades 6-8  Grades 9-12  Grades PreK-2  \n",
      "0                0            0              1  \n",
      "1                1            0              0  \n",
      "2                1            0              0  \n",
      "3                0            0              1  \n",
      "4                0            0              1  \n",
      "5                0            0              0  \n",
      "6                1            0              0  \n",
      "7                0            0              0  \n",
      "8                0            0              1  \n",
      "9                0            0              1  \n",
      "10               0            0              0  \n",
      "11               0            0              1  \n",
      "12               1            0              0  \n",
      "13               0            0              1  \n",
      "14               0            0              1  \n",
      "15               0            0              0  \n",
      "16               0            0              1  \n",
      "17               0            0              0  \n",
      "18               0            0              1  \n",
      "19               0            0              0  \n",
      "20               0            0              1  \n",
      "21               1            0              0  \n",
      "22               0            1              0  \n",
      "23               1            0              0  \n",
      "24               0            0              1  \n",
      "25               0            0              0  \n",
      "26               0            0              1  \n",
      "27               0            0              0  \n",
      "28               0            1              0  \n",
      "29               0            0              1  \n",
      "...            ...          ...            ...  \n",
      "109218           0            0              1  \n",
      "109219           0            0              1  \n",
      "109220           1            0              0  \n",
      "109221           0            0              1  \n",
      "109222           0            0              1  \n",
      "109223           1            0              0  \n",
      "109224           0            0              1  \n",
      "109225           0            0              1  \n",
      "109226           0            0              0  \n",
      "109227           0            0              0  \n",
      "109228           0            0              1  \n",
      "109229           0            0              1  \n",
      "109230           0            1              0  \n",
      "109231           0            1              0  \n",
      "109232           0            0              0  \n",
      "109233           1            0              0  \n",
      "109234           0            0              0  \n",
      "109235           0            0              1  \n",
      "109236           0            0              0  \n",
      "109237           0            0              0  \n",
      "109238           0            0              1  \n",
      "109239           1            0              0  \n",
      "109240           0            0              1  \n",
      "109241           0            0              0  \n",
      "109242           0            0              1  \n",
      "109243           0            0              1  \n",
      "109244           0            0              1  \n",
      "109245           0            0              1  \n",
      "109246           0            0              0  \n",
      "109247           1            0              0  \n",
      "\n"
     ]
    },
    {
     "name": "stdout",
     "output_type": "stream",
     "text": [
      "[109248 rows x 512 columns]\n"
     ]
    }
   ],
   "source": [
    "final = merge.drop(['teacher_prefix',\n",
    "'school_state',\n",
    "'project_subject_categories',\n",
    "'project_subject_subcategories',\n",
    "'project_grade_category'],axis=1)\n",
    "print(final)"
   ]
  },
  {
   "cell_type": "code",
   "execution_count": 11,
   "metadata": {},
   "outputs": [
    {
     "name": "stdout",
     "output_type": "stream",
     "text": [
      "original data ['teacher_prefix', 'school_state', 'project_subject_categories', 'project_subject_subcategories', 'project_grade_category']\n"
     ]
    }
   ],
   "source": [
    "print('original data',list(df.columns))\n",
    "#dfnum = data_dummies.ix[:'school_state':'project_grade_category_transport-moving']\n"
   ]
  },
  {
   "cell_type": "code",
   "execution_count": null,
   "metadata": {},
   "outputs": [],
   "source": []
  },
  {
   "cell_type": "code",
   "execution_count": 12,
   "metadata": {
    "scrolled": true
   },
   "outputs": [
    {
     "name": "stdout",
     "output_type": "stream",
     "text": [
      "(5, 5)\n"
     ]
    }
   ],
   "source": [
    "#print(\"The attributes of data :\", resource_data.columns.value)\n",
    "from sklearn.feature_extraction.text import CountVectorizer\n",
    "from sklearn.feature_extraction import DictVectorizer\n",
    "onehot_encoder = DictVectorizer()\n",
    "x = [{'feature':'teacher_prefix'},\n",
    "     {'feature':'school_state'},\n",
    "     {'feature':'project_subject_categories'},\n",
    "      {'feature':'project_subject_subcategories'},\n",
    "    {'feature':'project_grade_category'}]\n",
    "\n",
    "final_cat = onehot_encoder.fit_transform(x).toarray()\n",
    "print(final_cat.shape)\n"
   ]
  },
  {
   "cell_type": "code",
   "execution_count": 13,
   "metadata": {},
   "outputs": [],
   "source": [
    "project_data[\"essay\"] = project_data[\"project_essay_1\"].map(str) +\\\n",
    "                        project_data[\"project_essay_2\"].map(str) + \\\n",
    "                        project_data[\"project_essay_3\"].map(str) + \\\n",
    "                        project_data[\"project_essay_4\"].map(str)"
   ]
  },
  {
   "cell_type": "code",
   "execution_count": 14,
   "metadata": {},
   "outputs": [
    {
     "name": "stdout",
     "output_type": "stream",
     "text": [
      "My kindergarten students have varied disabilities ranging from speech and language delays, cognitive delays, gross/fine motor delays, to autism. They are eager beavers and always strive to work their hardest working past their limitations. \\r\\n\\r\\nThe materials we have are the ones I seek out for my students. I teach in a Title I school where most of the students receive free or reduced price lunch.  Despite their disabilities and limitations, my students love coming to school and come eager to learn and explore.Have you ever felt like you had ants in your pants and you needed to groove and move as you were in a meeting? This is how my kids feel all the time. The want to be able to move as they learn or so they say.Wobble chairs are the answer and I love then because they develop their core, which enhances gross motor and in Turn fine motor skills. \\r\\nThey also want to learn through games, my kids do not want to sit and do worksheets. They want to learn to count by jumping and playing. Physical engagement is the key to our success. The number toss and color and shape mats can make that happen. My students will forget they are doing work and just have the fun a 6 year old deserves.nannan\n",
      "==================================================\n"
     ]
    }
   ],
   "source": [
    "# https://stackoverflow.com/a/47091490/4084039\n",
    "import re\n",
    "\n",
    "def decontracted(phrase):\n",
    "    # specific\n",
    "    phrase = re.sub(r\"won't\", \"will not\", phrase)\n",
    "    phrase = re.sub(r\"can\\'t\", \"can not\", phrase)\n",
    "\n",
    "    # general\n",
    "    phrase = re.sub(r\"n\\'t\", \" not\", phrase)\n",
    "    phrase = re.sub(r\"\\'re\", \" are\", phrase)\n",
    "    phrase = re.sub(r\"\\'s\", \" is\", phrase)\n",
    "    phrase = re.sub(r\"\\'d\", \" would\", phrase)\n",
    "    phrase = re.sub(r\"\\'ll\", \" will\", phrase)\n",
    "    phrase = re.sub(r\"\\'t\", \" not\", phrase)\n",
    "    phrase = re.sub(r\"\\'ve\", \" have\", phrase)\n",
    "    phrase = re.sub(r\"\\'m\", \" am\", phrase)\n",
    "    return phrase\n",
    "sent = decontracted(project_data['essay'].values[20000])\n",
    "print(sent)\n",
    "print(\"=\"*50)"
   ]
  },
  {
   "cell_type": "code",
   "execution_count": 15,
   "metadata": {},
   "outputs": [
    {
     "name": "stdout",
     "output_type": "stream",
     "text": [
      "My kindergarten students have varied disabilities ranging from speech and language delays, cognitive delays, gross/fine motor delays, to autism. They are eager beavers and always strive to work their hardest working past their limitations.     The materials we have are the ones I seek out for my students. I teach in a Title I school where most of the students receive free or reduced price lunch.  Despite their disabilities and limitations, my students love coming to school and come eager to learn and explore.Have you ever felt like you had ants in your pants and you needed to groove and move as you were in a meeting? This is how my kids feel all the time. The want to be able to move as they learn or so they say.Wobble chairs are the answer and I love then because they develop their core, which enhances gross motor and in Turn fine motor skills.   They also want to learn through games, my kids do not want to sit and do worksheets. They want to learn to count by jumping and playing. Physical engagement is the key to our success. The number toss and color and shape mats can make that happen. My students will forget they are doing work and just have the fun a 6 year old deserves.nannan\n"
     ]
    }
   ],
   "source": [
    "# \\r \\n \\t remove from string python: http://texthandler.com/info/remove-line-breaks-python/\n",
    "sent = sent.replace('\\\\r', ' ')\n",
    "sent = sent.replace('\\\\\"', ' ')\n",
    "sent = sent.replace('\\\\n', ' ')\n",
    "print(sent)"
   ]
  },
  {
   "cell_type": "code",
   "execution_count": 16,
   "metadata": {},
   "outputs": [
    {
     "name": "stdout",
     "output_type": "stream",
     "text": [
      "My kindergarten students have varied disabilities ranging from speech and language delays cognitive delays gross fine motor delays to autism They are eager beavers and always strive to work their hardest working past their limitations The materials we have are the ones I seek out for my students I teach in a Title I school where most of the students receive free or reduced price lunch Despite their disabilities and limitations my students love coming to school and come eager to learn and explore Have you ever felt like you had ants in your pants and you needed to groove and move as you were in a meeting This is how my kids feel all the time The want to be able to move as they learn or so they say Wobble chairs are the answer and I love then because they develop their core which enhances gross motor and in Turn fine motor skills They also want to learn through games my kids do not want to sit and do worksheets They want to learn to count by jumping and playing Physical engagement is the key to our success The number toss and color and shape mats can make that happen My students will forget they are doing work and just have the fun a 6 year old deserves nannan\n"
     ]
    }
   ],
   "source": [
    "#remove spacial character: https://stackoverflow.com/a/5843547/4084039\n",
    "sent = re.sub('[^A-Za-z0-9]+', ' ', sent)\n",
    "print(sent)"
   ]
  },
  {
   "cell_type": "code",
   "execution_count": 17,
   "metadata": {},
   "outputs": [],
   "source": [
    "stopwords= ['i', 'me', 'my', 'myself', 'we', 'our', 'ours', 'ourselves', 'you', \"you're\", \"you've\",\\\n",
    "            \"you'll\", \"you'd\", 'your', 'yours', 'yourself', 'yourselves', 'he', 'him', 'his', 'himself', \\\n",
    "            'she', \"she's\", 'her', 'hers', 'herself', 'it', \"it's\", 'its', 'itself', 'they', 'them', 'their',\\\n",
    "            'theirs', 'themselves', 'what', 'which', 'who', 'whom', 'this', 'that', \"that'll\", 'these', 'those', \\\n",
    "            'am', 'is', 'are', 'was', 'were', 'be', 'been', 'being', 'have', 'has', 'had', 'having', 'do', 'does', \\\n",
    "            'did', 'doing', 'a', 'an', 'the', 'and', 'but', 'if', 'or', 'because', 'as', 'until', 'while', 'of', \\\n",
    "            'at', 'by', 'for', 'with', 'about', 'against', 'between', 'into', 'through', 'during', 'before', 'after',\\\n",
    "            'above', 'below', 'to', 'from', 'up', 'down', 'in', 'out', 'on', 'off', 'over', 'under', 'again', 'further',\\\n",
    "            'then', 'once', 'here', 'there', 'when', 'where', 'why', 'how', 'all', 'any', 'both', 'each', 'few', 'more',\\\n",
    "            'most', 'other', 'some', 'such', 'only', 'own', 'same', 'so', 'than', 'too', 'very', \\\n",
    "            's', 't', 'can', 'will', 'just', 'don', \"don't\", 'should', \"should've\", 'now', 'd', 'll', 'm', 'o', 're', \\\n",
    "            've', 'y', 'ain', 'aren', \"aren't\", 'couldn', \"couldn't\", 'didn', \"didn't\", 'doesn', \"doesn't\", 'hadn',\\\n",
    "            \"hadn't\", 'hasn', \"hasn't\", 'haven', \"haven't\", 'isn', \"isn't\", 'ma', 'mightn', \"mightn't\", 'mustn',\\\n",
    "            \"mustn't\", 'needn', \"needn't\", 'shan', \"shan't\", 'shouldn', \"shouldn't\", 'wasn', \"wasn't\", 'weren', \"weren't\", \\\n",
    "            'won', \"won't\", 'wouldn', \"wouldn't\"]\n"
   ]
  },
  {
   "cell_type": "code",
   "execution_count": 18,
   "metadata": {},
   "outputs": [
    {
     "name": "stderr",
     "output_type": "stream",
     "text": [
      "100%|█████████████████████████████████████████████████████████████████████████| 109248/109248 [01:56<00:00, 937.91it/s]\n"
     ]
    }
   ],
   "source": [
    "# Combining all the above statemennts \n",
    "from tqdm import tqdm\n",
    "preprocessed_essays = []\n",
    "# tqdm is for printing the status bar\n",
    "for sentance in tqdm(project_data['essay'].values):\n",
    "    sent = decontracted(sentance)\n",
    "    sent = sent.replace('\\\\r', ' ')\n",
    "    sent = sent.replace('\\\\\"', ' ')\n",
    "    sent = sent.replace('\\\\n', ' ')\n",
    "    sent = re.sub('[^A-Za-z0-9]+', ' ', sent)\n",
    "    # https://gist.github.com/sebleier/554280\n",
    "    sent = ' '.join(e for e in sent.split() if e not in stopwords)\n",
    "    preprocessed_essays.append(sent.lower().strip())"
   ]
  },
  {
   "cell_type": "code",
   "execution_count": 19,
   "metadata": {},
   "outputs": [
    {
     "name": "stdout",
     "output_type": "stream",
     "text": [
      "Educational Support for English Learners at Home\n",
      "==================================================\n",
      "More Movement with Hokki Stools\n",
      "==================================================\n",
      "Sailing Into a Super 4th Grade Year\n",
      "==================================================\n",
      "We Need To Move It While We Input It!\n",
      "==================================================\n",
      "Inspiring Minds by Enhancing the Educational Experience\n",
      "==================================================\n"
     ]
    }
   ],
   "source": [
    "print(project_data['project_title'].values[0])\n",
    "print(\"=\"*50)\n",
    "print(project_data['project_title'].values[150])\n",
    "print(\"=\"*50)\n",
    "print(project_data['project_title'].values[1000])\n",
    "print(\"=\"*50)\n",
    "print(project_data['project_title'].values[20000])\n",
    "print(\"=\"*50)\n",
    "print(project_data['project_title'].values[99999])\n",
    "print(\"=\"*50)"
   ]
  },
  {
   "cell_type": "code",
   "execution_count": 20,
   "metadata": {},
   "outputs": [
    {
     "name": "stdout",
     "output_type": "stream",
     "text": [
      "21st Century Classroom\n"
     ]
    }
   ],
   "source": [
    "import re\n",
    "\n",
    "def decontracted(phrase):\n",
    "    # specific\n",
    "    phrase = re.sub(r\"won't\", \"will not\", phrase)\n",
    "    phrase = re.sub(r\"can\\'t\", \"can not\", phrase)\n",
    "\n",
    "    # general\n",
    "    phrase = re.sub(r\"n\\'t\", \" not\", phrase)\n",
    "    phrase = re.sub(r\"\\'re\", \" are\", phrase)\n",
    "    phrase = re.sub(r\"\\'s\", \" is\", phrase)\n",
    "    phrase = re.sub(r\"\\'d\", \" would\", phrase)\n",
    "    phrase = re.sub(r\"\\'ll\", \" will\", phrase)\n",
    "    phrase = re.sub(r\"\\'t\", \" not\", phrase)\n",
    "    phrase = re.sub(r\"\\'ve\", \" have\", phrase)\n",
    "    phrase = re.sub(r\"\\'m\", \" am\", phrase)\n",
    "    return phrase\n",
    "sent1 = decontracted(project_data['project_title'].values[10456])\n",
    "print(sent1)\n"
   ]
  },
  {
   "cell_type": "code",
   "execution_count": 21,
   "metadata": {},
   "outputs": [
    {
     "name": "stdout",
     "output_type": "stream",
     "text": [
      "21st Century Classroom\n"
     ]
    }
   ],
   "source": [
    "# \\r \\n \\t remove from string python: http://texthandler.com/info/remove-line-breaks-python/\n",
    "sent1 = sent1.replace('\\\\r', ' ')\n",
    "sent1 = sent1.replace('\\\\\"', ' ')\n",
    "sent1 = sent1.replace('\\\\n', ' ')\n",
    "print(sent1)"
   ]
  },
  {
   "cell_type": "code",
   "execution_count": 22,
   "metadata": {},
   "outputs": [
    {
     "name": "stdout",
     "output_type": "stream",
     "text": [
      "21st Century Classroom\n"
     ]
    }
   ],
   "source": [
    "#remove spacial character: https://stackoverflow.com/a/5843547/4084039\n",
    "sent1 = re.sub('[^A-Za-z0-9]+', ' ', sent1)\n",
    "print(sent1)"
   ]
  },
  {
   "cell_type": "code",
   "execution_count": 23,
   "metadata": {},
   "outputs": [
    {
     "name": "stderr",
     "output_type": "stream",
     "text": [
      "100%|████████████████████████████████████████████████████████████████████████| 109248/109248 [01:25<00:00, 1276.15it/s]\n"
     ]
    }
   ],
   "source": [
    "from tqdm import tqdm\n",
    "preprocessed_title = []\n",
    "# tqdm is for printing the status bar\n",
    "for sentance in tqdm(project_data['project_title'].values):\n",
    "    sent1 = decontracted(sentance)\n",
    "    sent1 = sent.replace('\\\\r', ' ')\n",
    "    sent1 = sent.replace('\\\\\"', ' ')\n",
    "    sent1 = sent.replace('\\\\n', ' ')\n",
    "    sent1 = re.sub('[^A-Za-z0-9]+', ' ', sent1)\n",
    "    # https://gist.github.com/sebleier/554280\n",
    "    sent1 = ' '.join(e for e in sent.split() if e not in stopwords)\n",
    "    preprocessed_title.append(sent1.lower().strip())\n",
    "   "
   ]
  },
  {
   "cell_type": "code",
   "execution_count": 24,
   "metadata": {},
   "outputs": [
    {
     "name": "stdout",
     "output_type": "stream",
     "text": [
      "Shape of matrix after one hot encodig  (109248, 132)\n"
     ]
    }
   ],
   "source": [
    "vectorizer = CountVectorizer(min_df=1)\n",
    "text_bow = vectorizer.fit_transform(preprocessed_title)\n",
    "print(\"Shape of matrix after one hot encodig \",text_bow.shape)"
   ]
  },
  {
   "cell_type": "code",
   "execution_count": 25,
   "metadata": {},
   "outputs": [
    {
     "name": "stdout",
     "output_type": "stream",
     "text": [
      "Shape of matrix after one hot encodig  (109248, 132)\n"
     ]
    }
   ],
   "source": [
    "vectorizer = TfidfVectorizer(min_df=10)\n",
    "text_tfidf = vectorizer.fit_transform(preprocessed_title)\n",
    "print(\"Shape of matrix after one hot encodig \",text_tfidf.shape)"
   ]
  },
  {
   "cell_type": "code",
   "execution_count": 26,
   "metadata": {},
   "outputs": [
    {
     "name": "stdout",
     "output_type": "stream",
     "text": [
      "Loading Glove Model\n"
     ]
    },
    {
     "name": "stderr",
     "output_type": "stream",
     "text": [
      "400000it [01:45, 3773.89it/s]\n"
     ]
    },
    {
     "name": "stdout",
     "output_type": "stream",
     "text": [
      "Done. 400000  words loaded!\n"
     ]
    }
   ],
   "source": [
    "from tqdm import tqdm\n",
    "import pickle\n",
    "def loadGloveModel(gloveFile):\n",
    "    print (\"Loading Glove Model\")\n",
    "    f = open(gloveFile,'r', encoding=\"utf8\")\n",
    "    model = {}\n",
    "    for line in tqdm(f):\n",
    "        splitLine = line.split()\n",
    "        word = splitLine[0]\n",
    "        embedding = np.array([float(val) for val in splitLine[1:]])\n",
    "        model[word] = embedding\n",
    "    print (\"Done.\",len(model),\" words loaded!\")\n",
    "    return model\n",
    "model = loadGloveModel('glove.6B.300d.txt')\n",
    "with open('glove.6B.200d.txt', 'rb') as f:\n",
    "    \n",
    "   # model = pickle.load()\n",
    "    glove_words =  set(model.keys())"
   ]
  },
  {
   "cell_type": "code",
   "execution_count": 27,
   "metadata": {},
   "outputs": [
    {
     "name": "stderr",
     "output_type": "stream",
     "text": [
      "100%|████████████████████████████████████████████████████████████████████████| 109248/109248 [00:51<00:00, 2129.44it/s]\n"
     ]
    },
    {
     "name": "stdout",
     "output_type": "stream",
     "text": [
      "109248\n",
      "300\n"
     ]
    }
   ],
   "source": [
    "# average Word2Vec\n",
    "# compute average word2vec for each review.\n",
    "\n",
    "avg_w2v_vectors = []; # the avg-w2v for each sentence/review is stored in this list\n",
    "for sentence in tqdm(preprocessed_title): # for each review/sentence\n",
    "    vector = np.zeros(300) # as word vectors are of zero length\n",
    "    cnt_words =0; # num of words with a valid vector in the sentence/review\n",
    "    for word in sentence.split(): # for each word in a review/sentence\n",
    "        if word in glove_words:\n",
    "            vector += model[word]\n",
    "            cnt_words += 1\n",
    "    if cnt_words != 0:\n",
    "        vector /= cnt_words\n",
    "    avg_w2v_vectors.append(vector)\n",
    "print(len(avg_w2v_vectors))\n",
    "print(len(avg_w2v_vectors[0]))"
   ]
  },
  {
   "cell_type": "code",
   "execution_count": 28,
   "metadata": {},
   "outputs": [],
   "source": [
    "tfidf_model = TfidfVectorizer()\n",
    "tfidf_model.fit(preprocessed_title)\n",
    "# we are converting a dictionary with word as a key, and the idf as a value\n",
    "dictionary = dict(zip(tfidf_model.get_feature_names(), list(tfidf_model.idf_)))\n",
    "tfidf_words = set(tfidf_model.get_feature_names())"
   ]
  },
  {
   "cell_type": "code",
   "execution_count": 1,
   "metadata": {
    "scrolled": false
   },
   "outputs": [
    {
     "ename": "NameError",
     "evalue": "name 'tqdm' is not defined",
     "output_type": "error",
     "traceback": [
      "\u001b[1;31m---------------------------------------------------------------------------\u001b[0m",
      "\u001b[1;31mNameError\u001b[0m                                 Traceback (most recent call last)",
      "\u001b[1;32m<ipython-input-1-4efc0d093097>\u001b[0m in \u001b[0;36m<module>\u001b[1;34m()\u001b[0m\n\u001b[0;32m      1\u001b[0m \u001b[0mtfidf_w2v_vectors\u001b[0m \u001b[1;33m=\u001b[0m \u001b[1;33m[\u001b[0m\u001b[1;33m]\u001b[0m\u001b[1;33m;\u001b[0m \u001b[1;31m# the avg-w2v for each sentence/review is stored in this list\u001b[0m\u001b[1;33m\u001b[0m\u001b[0m\n\u001b[1;32m----> 2\u001b[1;33m \u001b[1;32mfor\u001b[0m \u001b[0msentence\u001b[0m \u001b[1;32min\u001b[0m \u001b[0mtqdm\u001b[0m\u001b[1;33m(\u001b[0m\u001b[0mpreprocessed_title\u001b[0m\u001b[1;33m)\u001b[0m\u001b[1;33m:\u001b[0m \u001b[1;31m# for each review/sentence\u001b[0m\u001b[1;33m\u001b[0m\u001b[0m\n\u001b[0m\u001b[0;32m      3\u001b[0m     \u001b[0mvector\u001b[0m \u001b[1;33m=\u001b[0m \u001b[0mnp\u001b[0m\u001b[1;33m.\u001b[0m\u001b[0mzeros\u001b[0m\u001b[1;33m(\u001b[0m\u001b[1;36m300\u001b[0m\u001b[1;33m)\u001b[0m \u001b[1;31m# as word vectors are of zero length\u001b[0m\u001b[1;33m\u001b[0m\u001b[0m\n\u001b[0;32m      4\u001b[0m     \u001b[0mtf_idf_weight\u001b[0m \u001b[1;33m=\u001b[0m\u001b[1;36m0\u001b[0m\u001b[1;33m;\u001b[0m \u001b[1;31m# num of words with a valid vector in the sentence/review\u001b[0m\u001b[1;33m\u001b[0m\u001b[0m\n\u001b[0;32m      5\u001b[0m     \u001b[1;32mfor\u001b[0m \u001b[0mword\u001b[0m \u001b[1;32min\u001b[0m \u001b[0msentence\u001b[0m\u001b[1;33m.\u001b[0m\u001b[0msplit\u001b[0m\u001b[1;33m(\u001b[0m\u001b[1;33m)\u001b[0m\u001b[1;33m:\u001b[0m \u001b[1;31m# for each word in a review/sentence\u001b[0m\u001b[1;33m\u001b[0m\u001b[0m\n",
      "\u001b[1;31mNameError\u001b[0m: name 'tqdm' is not defined"
     ]
    }
   ],
   "source": [
    "tfidf_w2v_vectors = []; # the avg-w2v for each sentence/review is stored in this list\n",
    "for sentence in tqdm(preprocessed_title): # for each review/sentence\n",
    "    vector = np.zeros(300) # as word vectors are of zero length\n",
    "    tf_idf_weight =0; # num of words with a valid vector in the sentence/review\n",
    "    for word in sentence.split(): # for each word in a review/sentence\n",
    "        if (word in glove_words) and (word in tfidf_words):\n",
    "            vec = model[word] # getting the vector for each word\n",
    "            # here we are multiplying idf value(dictionary[word]) and the tf value((sentence.count(word)/len(sentence.split())))\n",
    "            tf_idf = dictionary[word]*(sentence.count(word)/len(sentence.split())) # getting the tfidf value for each word\n",
    "            vector += (vec * tf_idf) # calculating tfidf weighted w2v\n",
    "            tf_idf_weight += tf_idf\n",
    "    if tf_idf_weight != 0:\n",
    "        vector /= tf_idf_weight\n",
    "    tfidf_w2v_vectors.append(vector)\n",
    "\n",
    "print(len(tfidf_w2v_vectors))\n",
    "print(len(tfidf_w2v_vectors[0]))"
   ]
  },
  {
   "cell_type": "code",
   "execution_count": 60,
   "metadata": {},
   "outputs": [
    {
     "name": "stdout",
     "output_type": "stream",
     "text": [
      "(109248, 1)\n"
     ]
    }
   ],
   "source": [
    "# check this one: https://www.youtube.com/watch?v=0HOqOcln3Z4&t=530s\n",
    "# standardization sklearn: https://scikit-learn.org/stable/modules/generated/sklearn.preprocessing.StandardScaler.html\n",
    "from sklearn.preprocessing import StandardScaler\n",
    "\n",
    "# price_standardized = standardScalar.fit(project_data['price'].values)\\n\",\n",
    "price_scalar = StandardScaler()\n",
    "price_scalar.fit(project_data['price'].values.reshape(-1,1)) # finding the mean and standard deviation of this data\n",
    "#print(f\"Mean : {price_scalar_num.mean_[0]}, Standard deviation : {np.sqrt(price_scalar_num.var_[0])}\")\n",
    "\n",
    "# Now standardize the data with above maen and variance.\n",
    "price_standardized = price_scalar.transform(project_data['price'].values.reshape(-1, 1))\n",
    "print(price_standardized.shape)"
   ]
  },
  {
   "cell_type": "code",
   "execution_count": 61,
   "metadata": {},
   "outputs": [
    {
     "name": "stdout",
     "output_type": "stream",
     "text": [
      "Mean : 11.153165275336848, Standard deviation : 27.77702641477403\n",
      "(109248, 1)\n"
     ]
    }
   ],
   "source": [
    "from sklearn.preprocessing import StandardScaler\n",
    "price_scalar_num = StandardScaler()\n",
    "price_scalar_num.fit(project_data['teacher_number_of_previously_posted_projects'].values.reshape(-1,1)) # finding the mean and standard deviation of this data\n",
    "print(f\"Mean : {price_scalar_num.mean_[0]}, Standard deviation : {np.sqrt(price_scalar_num.var_[0])}\")\n",
    "\n",
    "# Now standardize the data with above maen and variance.\n",
    "price_standardized_num = price_scalar_num.transform(project_data['teacher_number_of_previously_posted_projects'].values.reshape(-1, 1))\n",
    "print(price_standardized_num.shape)"
   ]
  },
  {
   "cell_type": "code",
   "execution_count": 73,
   "metadata": {},
   "outputs": [
    {
     "name": "stdout",
     "output_type": "stream",
     "text": [
      "(109248, 1)\n"
     ]
    }
   ],
   "source": [
    "price_merge = np.vstack([price_standardized,price_standardized_num])\n",
    "price_merge.resize(109248,1)\n",
    "print(price_merge.shape)"
   ]
  },
  {
   "cell_type": "code",
   "execution_count": 89,
   "metadata": {},
   "outputs": [
    {
     "name": "stdout",
     "output_type": "stream",
     "text": [
      "[[-2.36733606]\n",
      " [ 0.42241573]\n",
      " [-2.36733606]\n",
      " ...\n",
      " [ 0.42241573]\n",
      " [ 0.42241573]\n",
      " [ 0.42241573]]\n"
     ]
    }
   ],
   "source": [
    "labels = StandardScaler()\n",
    "labels.fit(project_data['project_is_approved'].values.reshape(-1,1))\n",
    "\n",
    "labels_d = labels.transform(project_data['project_is_approved'].values.reshape(-1, 1))\n",
    "\n",
    "print(labels_d)\n"
   ]
  },
  {
   "cell_type": "code",
   "execution_count": 91,
   "metadata": {},
   "outputs": [],
   "source": [
    "from scipy.sparse import hstack\n",
    "# with the same hstack function we are concatinating a sparse matrix and a dense matirx :)\n",
    "\n",
    "X = hstack((final,price_merge))\n",
    "\n",
    "Y= X.toarray()\n"
   ]
  },
  {
   "cell_type": "code",
   "execution_count": 124,
   "metadata": {},
   "outputs": [
    {
     "data": {
      "image/png": "[encoded data removed]",
      "text/plain": [
       "<Figure size 540x540 with 12 Axes>"
      ]
     },
     "metadata": {},
     "output_type": "display_data"
    }
   ],
   "source": [
    "import numpy as np\n",
    "from sklearn.manifold import TSNE\n",
    "from sklearn import datasets\n",
    "import pandas as pd\n",
    "import matplotlib.pyplot as plt\n",
    "\n",
    "\n",
    "\n",
    "data_15000 = Y[0:2000,:]\n",
    "labels_d = labels_d[0:2000,]\n",
    "model = TSNE(n_components=3,random_state=0)\n",
    "tsne_data = model.fit_transform(data_15000)\n",
    "tsne_data1 = model.fit_transform(labels_d)\n",
    "tsne_data2 = np.vstack((tsne_data,tsne_data1))\n",
    "tsnedf = pd.DataFrame(data=tsne_data2,columns=('final','price_merge','text_bow'))\n",
    "\n",
    "#sns.FacetGrid(tsnedf,hue='price_merge',size=6).map(plt.scatter,'final','price_merge','text_bow')\n",
    "sns.pairplot(tsnedf)\n",
    "plt.legend(labels_d)\n",
    "plt.show()\n"
   ]
  },
  {
   "cell_type": "markdown",
   "metadata": {},
   "source": [
    "# Observations"
   ]
  },
  {
   "cell_type": "raw",
   "metadata": {},
   "source": [
    "By observing the final,price_merge,text_bow,plots of 1st column and 2nd,3rd row,we can clearly see that one group of cluster \n",
    "By seeing that cluster we can say ,that cluster belongs to project approved,\n",
    "With mean zero,and varieance lies between -100,100\n",
    "one more thing we can say that,price most effected feature on project acceptence,\n",
    "Why beacause whe we observe the plots,spread of final,i.e categorical data,and text_bow is more then also ,their is more chances for accceptence.\n"
   ]
  },
  {
   "cell_type": "code",
   "execution_count": 115,
   "metadata": {},
   "outputs": [
    {
     "name": "stdout",
     "output_type": "stream",
     "text": [
      "[[0.         0.         1.         ... 0.06523281 0.13046561 0.06523281]\n",
      " [0.         1.         0.         ... 0.06523281 0.13046561 0.06523281]\n",
      " [0.         0.         0.         ... 0.06523281 0.13046561 0.06523281]\n",
      " ...\n",
      " [0.         0.         1.         ... 0.06523281 0.13046561 0.06523281]\n",
      " [0.         0.         1.         ... 0.06523281 0.13046561 0.06523281]\n",
      " [0.         0.         0.         ... 0.06523281 0.13046561 0.06523281]]\n"
     ]
    }
   ],
   "source": [
    "from scipy.sparse import hstack\n",
    "# with the same hstack function we are concatinating a sparse matrix and a dense matirx :)\n",
    "\n",
    "a = hstack((final,price_merge,text_tfidf))\n",
    "b= a.toarray()\n",
    "print(b)"
   ]
  },
  {
   "cell_type": "code",
   "execution_count": 121,
   "metadata": {},
   "outputs": [
    {
     "data": {
      "image/png": "[encoded data removed]",
      "text/plain": [
       "<Figure size 540x540 with 12 Axes>"
      ]
     },
     "metadata": {},
     "output_type": "display_data"
    }
   ],
   "source": [
    "import numpy as np\n",
    "from sklearn.manifold import TSNE\n",
    "from sklearn import datasets\n",
    "import pandas as pd\n",
    "import matplotlib.pyplot as plt\n",
    "\n",
    "\n",
    "\n",
    "data_5000 = b[0:1000,:]\n",
    "labels_5000 = labels_d[0:1000,]\n",
    "model = TSNE(n_components=3,random_state=0)\n",
    "tsne_data3 = model.fit_transform(data_5000)\n",
    "tsne_data4 = model.fit_transform(labels_5000)\n",
    "tsne_data5 = np.vstack((tsne_data3,tsne_data4))\n",
    "tsnedf = pd.DataFrame(data=tsne_data5,columns=('final','price_merge','text_tfidf'))\n",
    "#sns.FacetGrid(tsnedf,size=8).map(plt.scatter,'final','price_merge','text_tfidf')\n",
    "sns.pairplot(tsnedf)\n",
    "plt.show()"
   ]
  },
  {
   "cell_type": "markdown",
   "metadata": {},
   "source": [
    "# Observations"
   ]
  },
  {
   "cell_type": "raw",
   "metadata": {},
   "source": [
    "By observing the final,price_merge,text_tfidf,plots of 1st column and 2nd,3rd row,we can clearly see that one group of cluster\n",
    "By seeing that cluster we can say ,that cluster belongs to project approved,\n",
    "With mean zero,and varieance lies between -100,100\n",
    "one more thing we can say that,price most effected feature on project acceptence."
   ]
  },
  {
   "cell_type": "code",
   "execution_count": 117,
   "metadata": {},
   "outputs": [
    {
     "name": "stdout",
     "output_type": "stream",
     "text": [
      "[[ 0.          0.          1.         ... -0.14688239 -0.07364446\n",
      "  -0.02157144]\n",
      " [ 0.          1.          0.         ... -0.14688239 -0.07364446\n",
      "  -0.02157144]\n",
      " [ 0.          0.          0.         ... -0.14688239 -0.07364446\n",
      "  -0.02157144]\n",
      " ...\n",
      " [ 0.          0.          1.         ... -0.14688239 -0.07364446\n",
      "  -0.02157144]\n",
      " [ 0.          0.          1.         ... -0.14688239 -0.07364446\n",
      "  -0.02157144]\n",
      " [ 0.          0.          0.         ... -0.14688239 -0.07364446\n",
      "  -0.02157144]]\n"
     ]
    }
   ],
   "source": [
    "from scipy.sparse import hstack\n",
    "# with the same hstack function we are concatinating a sparse matrix and a dense matirx :)\n",
    "\n",
    "c = hstack((final,price_merge,avg_w2v_vectors))\n",
    "d= c.toarray()\n",
    "print(d)"
   ]
  },
  {
   "cell_type": "code",
   "execution_count": 118,
   "metadata": {},
   "outputs": [
    {
     "data": {
      "image/png": "[encoded data removed]",
      "text/plain": [
       "<Figure size 540x540 with 12 Axes>"
      ]
     },
     "metadata": {},
     "output_type": "display_data"
    }
   ],
   "source": [
    "import numpy as np\n",
    "from sklearn.manifold import TSNE\n",
    "from sklearn import datasets\n",
    "import pandas as pd\n",
    "import matplotlib.pyplot as plt\n",
    "\n",
    "\n",
    "\n",
    "data_6000 = d[0:1000,:]\n",
    "labels_5000 = labels_d[0:1000,]\n",
    "model = TSNE(n_components=3,random_state=0)\n",
    "tsne_data6 = model.fit_transform(data_6000)\n",
    "tsne_data7 = model.fit_transform(labels_5000)\n",
    "tsne_data8 = np.vstack((tsne_data6,tsne_data7))\n",
    "tsnedf = pd.DataFrame(data=tsne_data8,columns=('final','price_merge','avg_w2v_vectors'))\n",
    "#sns.FacetGrid(tsnedf,size=8).map(plt.scatter,'final','price_merge','avg_w2v_vectors')\n",
    "sns.pairplot(tsnedf)\n",
    "#plt.legend()\n",
    "plt.show()"
   ]
  },
  {
   "cell_type": "markdown",
   "metadata": {},
   "source": [
    "# Observations"
   ]
  },
  {
   "cell_type": "raw",
   "metadata": {},
   "source": [
    "By observing the final,price_merge,avg_W2v_vectors,plots of 1st column and 2nd,3rd row,we can clearly see that one group of cluster\n",
    "By seeing that cluster we can say ,that cluster belongs to project approved,\n",
    "With mean zero,and varieance lies between -100,100\n",
    "one more thing we can say that,price most effected feature on project acceptence."
   ]
  },
  {
   "cell_type": "code",
   "execution_count": 119,
   "metadata": {},
   "outputs": [
    {
     "name": "stdout",
     "output_type": "stream",
     "text": [
      "[[ 0.          0.          1.         ... -0.18658553 -0.11361065\n",
      "  -0.03074291]\n",
      " [ 0.          1.          0.         ... -0.18658553 -0.11361065\n",
      "  -0.03074291]\n",
      " [ 0.          0.          0.         ... -0.18658553 -0.11361065\n",
      "  -0.03074291]\n",
      " ...\n",
      " [ 0.          0.          1.         ... -0.18658553 -0.11361065\n",
      "  -0.03074291]\n",
      " [ 0.          0.          1.         ... -0.18658553 -0.11361065\n",
      "  -0.03074291]\n",
      " [ 0.          0.          0.         ... -0.18658553 -0.11361065\n",
      "  -0.03074291]]\n"
     ]
    }
   ],
   "source": [
    "e = hstack((final,price_merge,tfidf_w2v_vectors))\n",
    "f= e.toarray()\n",
    "print(f)\n"
   ]
  },
  {
   "cell_type": "code",
   "execution_count": 123,
   "metadata": {},
   "outputs": [
    {
     "name": "stderr",
     "output_type": "stream",
     "text": [
      "No handles with labels found to put in legend.\n"
     ]
    },
    {
     "data": {
      "image/png": "[encoded data removed]",
      "text/plain": [
       "<Figure size 540x540 with 12 Axes>"
      ]
     },
     "metadata": {},
     "output_type": "display_data"
    }
   ],
   "source": [
    "import numpy as np\n",
    "from sklearn.manifold import TSNE\n",
    "from sklearn import datasets\n",
    "import pandas as pd\n",
    "import matplotlib.pyplot as plt\n",
    "\n",
    "\n",
    "\n",
    "data_7000 = f[0:1000,:]\n",
    "labels_5000 =labels_d[0:1000,]\n",
    "model = TSNE(n_components=3,random_state=0)\n",
    "tsne_data9 = model.fit_transform(data_7000)\n",
    "tsne_data10 = model.fit_transform(labels_5000)\n",
    "tsne_data11 = np.vstack((tsne_data9,tsne_data10))\n",
    "tsnedf = pd.DataFrame(data=tsne_data11,columns=('final','price_merge','tfidf_w2v_vectors'))\n",
    "#sns.FacetGrid(tsnedf,size=8).map(plt.scatter,'dim_1','dim_2')\n",
    "sns.pairplot(tsnedf)\n",
    "plt.legend()\n",
    "plt.show()"
   ]
  },
  {
   "cell_type": "markdown",
   "metadata": {},
   "source": [
    "# Observations"
   ]
  },
  {
   "cell_type": "raw",
   "metadata": {},
   "source": [
    "By observing the final,price_merge,tfidf_W2v_vectors,plots of 1st column and 2nd,3rd row,we can clearly see that one group of cluster\n",
    "By seeing that cluster we can say ,that cluster belongs to project approved,\n",
    "With mean zero,and varieance lies between -100,100\n",
    "one more thing we can say that,price most effected feature on project acceptence."
   ]
  },
  {
   "cell_type": "code",
   "execution_count": null,
   "metadata": {},
   "outputs": [],
   "source": []
  }
 ],
 "metadata": {
  "kernelspec": {
   "display_name": "Python 3",
   "language": "python",
   "name": "python3"
  },
  "language_info": {
   "codemirror_mode": {
    "name": "ipython",
    "version": 3
   },
   "file_extension": ".py",
   "mimetype": "text/x-python",
   "name": "python",
   "nbconvert_exporter": "python",
   "pygments_lexer": "ipython3",
   "version": "3.6.5"
  }
 },
 "nbformat": 4,
 "nbformat_minor": 2
}
